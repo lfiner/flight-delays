{
 "cells": [
  {
   "cell_type": "markdown",
   "metadata": {},
   "source": [
    "# Predicting flight delays  \n",
    "Larry Finer  \n",
    "February 2019"
   ]
  },
  {
   "cell_type": "markdown",
   "metadata": {},
   "source": [
    "The goal of this project was to predict which flights would be delayed based on month of the year, day of the week, time of day, length of flight in miles or time, airline, departure airport, arrival airport, and weather. The project entailed downloading flight and weather data, cleaning the data, and then testing several classification models to find the best one. Because both precision and recall are relevant, I used F1 as my key metric."
   ]
  },
  {
   "cell_type": "markdown",
   "metadata": {},
   "source": [
    "## Outline of work\n",
    "\n",
    "0. [Imports and other setup](#0)\n",
    "1. [Data wrangling](#1)\n",
    "    1. [Airport data](#1A)\n",
    "    2. [Airline data](#1B)\n",
    "    3. [Flight data](#1C)\n",
    "    4. [Weather data](#1D)\n",
    "    5. [Merge airline and airport data into flight data](#1E)\n",
    "    6. [Merge in weather data for each flight](#1F)\n",
    "2. [Exploratory data analysis](#2)\n",
    "3. [Classification models](#3)\n",
    "    1. [Prepare data for models](#3A)\n",
    "    2. [Logistic regression](#3B)\n",
    "    3. [Random forest classifier](#3C)"
   ]
  },
  {
   "cell_type": "markdown",
   "metadata": {},
   "source": [
    "## <a id=\"0\"></a>0. Imports and other setup"
   ]
  },
  {
   "cell_type": "code",
   "execution_count": 1,
   "metadata": {
    "ExecuteTime": {
     "end_time": "2019-02-12T22:09:02.123038Z",
     "start_time": "2019-02-12T22:08:59.571037Z"
    }
   },
   "outputs": [],
   "source": [
    "import time\n",
    "import os\n",
    "import re\n",
    "from collections import Counter\n",
    "import urllib.request\n",
    "import pandas as pd\n",
    "from pandas.api.types import CategoricalDtype\n",
    "pd.set_option('display.max_rows', 1000)\n",
    "import numpy as np\n",
    "import pickle\n",
    "import matplotlib.pyplot as plt\n",
    "import seaborn as sns\n",
    "import datetime\n",
    "from sklearn.model_selection import train_test_split\n",
    "from sklearn.linear_model import LogisticRegression\n",
    "from sklearn.linear_model import LogisticRegressionCV\n",
    "from sklearn.metrics import confusion_matrix, precision_score, recall_score, precision_recall_curve, f1_score, fbeta_score\n",
    "from sklearn.tree import DecisionTreeClassifier, DecisionTreeRegressor\n",
    "from sklearn.svm import SVC\n",
    "from sklearn.neighbors import KNeighborsClassifier\n",
    "from sklearn.naive_bayes import GaussianNB, MultinomialNB, BernoulliNB\n",
    "from imblearn.over_sampling import RandomOverSampler\n",
    "from sklearn.ensemble import (RandomForestClassifier, ExtraTreesClassifier, VotingClassifier, \n",
    "                              AdaBoostClassifier, BaggingRegressor)"
   ]
  },
  {
   "cell_type": "markdown",
   "metadata": {},
   "source": [
    "## <a id=\"1\"></a>1. Data wrangling"
   ]
  },
  {
   "cell_type": "markdown",
   "metadata": {},
   "source": [
    "Raw CSV files come from Kaggle.  \n",
    "Source page: https://www.kaggle.com/usdot/flight-delays/  \n",
    "Source file: https://www.kaggle.com/usdot/flight-delays/downloads/flight-delays.zip/1  \n",
    "This file was downloaded and unzipped.  \n",
    "The contents are the CSV files that are read in below."
   ]
  },
  {
   "cell_type": "markdown",
   "metadata": {
    "ExecuteTime": {
     "end_time": "2019-02-01T20:07:57.822618Z",
     "start_time": "2019-02-01T20:07:57.818253Z"
    }
   },
   "source": [
    "### <a id=\"1A\"></a>1A. Airport data"
   ]
  },
  {
   "cell_type": "code",
   "execution_count": 152,
   "metadata": {
    "ExecuteTime": {
     "end_time": "2019-02-12T21:30:11.667294Z",
     "start_time": "2019-02-12T21:30:11.653985Z"
    }
   },
   "outputs": [],
   "source": [
    "# Read in AIRPORT data.\n",
    "airports = pd.read_csv('../data/airports/airports.csv')"
   ]
  },
  {
   "cell_type": "code",
   "execution_count": 153,
   "metadata": {
    "ExecuteTime": {
     "end_time": "2019-02-12T21:30:12.338511Z",
     "start_time": "2019-02-12T21:30:12.334205Z"
    }
   },
   "outputs": [
    {
     "data": {
      "text/plain": [
       "(322, 7)"
      ]
     },
     "execution_count": 153,
     "metadata": {},
     "output_type": "execute_result"
    }
   ],
   "source": [
    "airports.shape"
   ]
  },
  {
   "cell_type": "code",
   "execution_count": 155,
   "metadata": {
    "ExecuteTime": {
     "end_time": "2019-02-12T21:30:14.877982Z",
     "start_time": "2019-02-12T21:30:14.873388Z"
    }
   },
   "outputs": [],
   "source": [
    "# All values of country are 'USA', so drop country column.\n",
    "airports.drop('COUNTRY', axis=1, inplace=True)"
   ]
  },
  {
   "cell_type": "code",
   "execution_count": 154,
   "metadata": {
    "ExecuteTime": {
     "end_time": "2019-02-12T21:30:14.239883Z",
     "start_time": "2019-02-12T21:30:13.188797Z"
    }
   },
   "outputs": [],
   "source": [
    "# Rename columns to more user-friendly names.\n",
    "airports.rename(columns={'IATA_CODE': 'iata', 'AIRPORT':'airport', 'CITY': 'city', 'STATE': 'state', \n",
    "                         'LATITUDE': 'lat', 'LONGITUDE': 'long'}, inplace=True)"
   ]
  },
  {
   "cell_type": "code",
   "execution_count": 156,
   "metadata": {
    "ExecuteTime": {
     "end_time": "2019-02-12T21:30:15.604025Z",
     "start_time": "2019-02-12T21:30:15.590784Z"
    }
   },
   "outputs": [],
   "source": [
    "# Read in weather station codes.\n",
    "codes = pd.read_csv('../data/airports/isd-history-filtered.csv', \n",
    "                    usecols=['usaf', 'wban', 'iata'])"
   ]
  },
  {
   "cell_type": "code",
   "execution_count": 157,
   "metadata": {
    "ExecuteTime": {
     "end_time": "2019-02-12T21:30:16.309881Z",
     "start_time": "2019-02-12T21:30:16.296618Z"
    }
   },
   "outputs": [],
   "source": [
    "# Merge in weather station codes.\n",
    "airports = airports.merge(codes, how='left', left_on='iata', right_on='iata')"
   ]
  },
  {
   "cell_type": "code",
   "execution_count": 158,
   "metadata": {
    "ExecuteTime": {
     "end_time": "2019-02-12T21:30:17.169917Z",
     "start_time": "2019-02-12T21:30:17.164518Z"
    }
   },
   "outputs": [
    {
     "data": {
      "text/plain": [
       "Index(['iata', 'airport', 'city', 'state', 'lat', 'long', 'usaf', 'wban'], dtype='object')"
      ]
     },
     "execution_count": 158,
     "metadata": {},
     "output_type": "execute_result"
    }
   ],
   "source": [
    "airports.columns"
   ]
  },
  {
   "cell_type": "code",
   "execution_count": 159,
   "metadata": {
    "ExecuteTime": {
     "end_time": "2019-02-12T21:30:18.290000Z",
     "start_time": "2019-02-12T21:30:18.264714Z"
    }
   },
   "outputs": [],
   "source": [
    "# Clean up weather station codes.\n",
    "airports.loc[airports.usaf.isnull(), 'usaf'] = \"999999\"\n",
    "airports.loc[airports.wban.isnull(), 'wban'] = \"99999\"\n",
    "airports['wban'] = airports['wban'].astype(int)\n",
    "airports['wban'] = airports['wban'].apply(str)\n",
    "airports['wban'] = airports['wban'].apply(lambda x: x.zfill(5))"
   ]
  },
  {
   "cell_type": "code",
   "execution_count": 161,
   "metadata": {
    "ExecuteTime": {
     "end_time": "2019-02-12T21:30:19.904547Z",
     "start_time": "2019-02-12T21:30:19.895370Z"
    }
   },
   "outputs": [],
   "source": [
    "# Generate and merge in airport dummies.\n",
    "airports_without_dummies = airports\n",
    "airport_dummies = pd.get_dummies(airports_without_dummies['iata'])\n",
    "airports_with_dummies = airports_without_dummies.merge(airport_dummies, left_index=True, right_index=True)"
   ]
  },
  {
   "cell_type": "code",
   "execution_count": 163,
   "metadata": {
    "ExecuteTime": {
     "end_time": "2019-02-12T21:30:21.481462Z",
     "start_time": "2019-02-12T21:30:21.472774Z"
    }
   },
   "outputs": [],
   "source": [
    "# Pickle files for quicker reloading.\n",
    "pickle.dump(airports_without_dummies, open('../data/airports/Airports without dummies.pickle', 'wb'))\n",
    "pickle.dump(airports_with_dummies, open('../data/airports/Airports with dummies.pickle', 'wb'))"
   ]
  },
  {
   "cell_type": "code",
   "execution_count": 164,
   "metadata": {
    "ExecuteTime": {
     "end_time": "2019-02-12T21:30:22.855846Z",
     "start_time": "2019-02-12T21:30:22.825628Z"
    },
    "scrolled": true
   },
   "outputs": [
    {
     "data": {
      "text/html": [
       "<div>\n",
       "<style scoped>\n",
       "    .dataframe tbody tr th:only-of-type {\n",
       "        vertical-align: middle;\n",
       "    }\n",
       "\n",
       "    .dataframe tbody tr th {\n",
       "        vertical-align: top;\n",
       "    }\n",
       "\n",
       "    .dataframe thead th {\n",
       "        text-align: right;\n",
       "    }\n",
       "</style>\n",
       "<table border=\"1\" class=\"dataframe\">\n",
       "  <thead>\n",
       "    <tr style=\"text-align: right;\">\n",
       "      <th></th>\n",
       "      <th>iata</th>\n",
       "      <th>airport</th>\n",
       "      <th>city</th>\n",
       "      <th>state</th>\n",
       "      <th>lat</th>\n",
       "      <th>long</th>\n",
       "      <th>usaf</th>\n",
       "      <th>wban</th>\n",
       "      <th>ABE</th>\n",
       "      <th>ABI</th>\n",
       "      <th>...</th>\n",
       "      <th>TYS</th>\n",
       "      <th>UST</th>\n",
       "      <th>VEL</th>\n",
       "      <th>VLD</th>\n",
       "      <th>VPS</th>\n",
       "      <th>WRG</th>\n",
       "      <th>WYS</th>\n",
       "      <th>XNA</th>\n",
       "      <th>YAK</th>\n",
       "      <th>YUM</th>\n",
       "    </tr>\n",
       "  </thead>\n",
       "  <tbody>\n",
       "    <tr>\n",
       "      <th>0</th>\n",
       "      <td>ABE</td>\n",
       "      <td>Lehigh Valley International Airport</td>\n",
       "      <td>Allentown</td>\n",
       "      <td>PA</td>\n",
       "      <td>40.65236</td>\n",
       "      <td>-75.44040</td>\n",
       "      <td>725170</td>\n",
       "      <td>14737</td>\n",
       "      <td>1</td>\n",
       "      <td>0</td>\n",
       "      <td>...</td>\n",
       "      <td>0</td>\n",
       "      <td>0</td>\n",
       "      <td>0</td>\n",
       "      <td>0</td>\n",
       "      <td>0</td>\n",
       "      <td>0</td>\n",
       "      <td>0</td>\n",
       "      <td>0</td>\n",
       "      <td>0</td>\n",
       "      <td>0</td>\n",
       "    </tr>\n",
       "    <tr>\n",
       "      <th>1</th>\n",
       "      <td>ABI</td>\n",
       "      <td>Abilene Regional Airport</td>\n",
       "      <td>Abilene</td>\n",
       "      <td>TX</td>\n",
       "      <td>32.41132</td>\n",
       "      <td>-99.68190</td>\n",
       "      <td>722660</td>\n",
       "      <td>13962</td>\n",
       "      <td>0</td>\n",
       "      <td>1</td>\n",
       "      <td>...</td>\n",
       "      <td>0</td>\n",
       "      <td>0</td>\n",
       "      <td>0</td>\n",
       "      <td>0</td>\n",
       "      <td>0</td>\n",
       "      <td>0</td>\n",
       "      <td>0</td>\n",
       "      <td>0</td>\n",
       "      <td>0</td>\n",
       "      <td>0</td>\n",
       "    </tr>\n",
       "    <tr>\n",
       "      <th>2</th>\n",
       "      <td>ABQ</td>\n",
       "      <td>Albuquerque International Sunport</td>\n",
       "      <td>Albuquerque</td>\n",
       "      <td>NM</td>\n",
       "      <td>35.04022</td>\n",
       "      <td>-106.60919</td>\n",
       "      <td>723650</td>\n",
       "      <td>23050</td>\n",
       "      <td>0</td>\n",
       "      <td>0</td>\n",
       "      <td>...</td>\n",
       "      <td>0</td>\n",
       "      <td>0</td>\n",
       "      <td>0</td>\n",
       "      <td>0</td>\n",
       "      <td>0</td>\n",
       "      <td>0</td>\n",
       "      <td>0</td>\n",
       "      <td>0</td>\n",
       "      <td>0</td>\n",
       "      <td>0</td>\n",
       "    </tr>\n",
       "    <tr>\n",
       "      <th>3</th>\n",
       "      <td>ABR</td>\n",
       "      <td>Aberdeen Regional Airport</td>\n",
       "      <td>Aberdeen</td>\n",
       "      <td>SD</td>\n",
       "      <td>45.44906</td>\n",
       "      <td>-98.42183</td>\n",
       "      <td>726590</td>\n",
       "      <td>14929</td>\n",
       "      <td>0</td>\n",
       "      <td>0</td>\n",
       "      <td>...</td>\n",
       "      <td>0</td>\n",
       "      <td>0</td>\n",
       "      <td>0</td>\n",
       "      <td>0</td>\n",
       "      <td>0</td>\n",
       "      <td>0</td>\n",
       "      <td>0</td>\n",
       "      <td>0</td>\n",
       "      <td>0</td>\n",
       "      <td>0</td>\n",
       "    </tr>\n",
       "    <tr>\n",
       "      <th>4</th>\n",
       "      <td>ABY</td>\n",
       "      <td>Southwest Georgia Regional Airport</td>\n",
       "      <td>Albany</td>\n",
       "      <td>GA</td>\n",
       "      <td>31.53552</td>\n",
       "      <td>-84.19447</td>\n",
       "      <td>722160</td>\n",
       "      <td>13869</td>\n",
       "      <td>0</td>\n",
       "      <td>0</td>\n",
       "      <td>...</td>\n",
       "      <td>0</td>\n",
       "      <td>0</td>\n",
       "      <td>0</td>\n",
       "      <td>0</td>\n",
       "      <td>0</td>\n",
       "      <td>0</td>\n",
       "      <td>0</td>\n",
       "      <td>0</td>\n",
       "      <td>0</td>\n",
       "      <td>0</td>\n",
       "    </tr>\n",
       "  </tbody>\n",
       "</table>\n",
       "<p>5 rows × 330 columns</p>\n",
       "</div>"
      ],
      "text/plain": [
       "  iata                              airport         city state       lat  \\\n",
       "0  ABE  Lehigh Valley International Airport    Allentown    PA  40.65236   \n",
       "1  ABI             Abilene Regional Airport      Abilene    TX  32.41132   \n",
       "2  ABQ    Albuquerque International Sunport  Albuquerque    NM  35.04022   \n",
       "3  ABR            Aberdeen Regional Airport     Aberdeen    SD  45.44906   \n",
       "4  ABY   Southwest Georgia Regional Airport       Albany    GA  31.53552   \n",
       "\n",
       "        long    usaf   wban  ABE  ABI  ...  TYS  UST  VEL  VLD  VPS  WRG  WYS  \\\n",
       "0  -75.44040  725170  14737    1    0  ...    0    0    0    0    0    0    0   \n",
       "1  -99.68190  722660  13962    0    1  ...    0    0    0    0    0    0    0   \n",
       "2 -106.60919  723650  23050    0    0  ...    0    0    0    0    0    0    0   \n",
       "3  -98.42183  726590  14929    0    0  ...    0    0    0    0    0    0    0   \n",
       "4  -84.19447  722160  13869    0    0  ...    0    0    0    0    0    0    0   \n",
       "\n",
       "   XNA  YAK  YUM  \n",
       "0    0    0    0  \n",
       "1    0    0    0  \n",
       "2    0    0    0  \n",
       "3    0    0    0  \n",
       "4    0    0    0  \n",
       "\n",
       "[5 rows x 330 columns]"
      ]
     },
     "execution_count": 164,
     "metadata": {},
     "output_type": "execute_result"
    }
   ],
   "source": [
    "airports_with_dummies.head()"
   ]
  },
  {
   "cell_type": "code",
   "execution_count": 165,
   "metadata": {
    "ExecuteTime": {
     "end_time": "2019-02-12T21:30:27.985487Z",
     "start_time": "2019-02-12T21:30:27.976414Z"
    }
   },
   "outputs": [
    {
     "name": "stdout",
     "output_type": "stream",
     "text": [
      "<class 'pandas.core.frame.DataFrame'>\n",
      "Int64Index: 322 entries, 0 to 321\n",
      "Data columns (total 8 columns):\n",
      "iata       322 non-null object\n",
      "airport    322 non-null object\n",
      "city       322 non-null object\n",
      "state      322 non-null object\n",
      "lat        322 non-null float64\n",
      "long       322 non-null float64\n",
      "usaf       322 non-null object\n",
      "wban       322 non-null object\n",
      "dtypes: float64(2), object(6)\n",
      "memory usage: 32.6+ KB\n"
     ]
    }
   ],
   "source": [
    "airports.info()"
   ]
  },
  {
   "cell_type": "code",
   "execution_count": 170,
   "metadata": {
    "ExecuteTime": {
     "end_time": "2019-02-12T21:34:35.955195Z",
     "start_time": "2019-02-12T21:34:35.948239Z"
    }
   },
   "outputs": [],
   "source": [
    "col_names = ['tvc', 'fws', 'wban', 'date', 'time', 'source', 'lat', 'long', 'type',\n",
    "             'elev', 'call', 'quality', 'wind_angle', 'wind_quality', 'wind_type', \n",
    "             'wind_speed', 'wind_speed_quality', 'ceiling', 'ceiling_quality', \n",
    "             'ceiling_method', 'cavok', 'vis', 'vis_quality', 'vis_var', \n",
    "             'vis_var_quality', 'temp', 'temp_quality', 'dew', 'dew_quality', \n",
    "             'pressure', 'pressure_quality', 'addl']\n",
    "\n",
    "col_widths = [4, 6, 5, 8, 4, 1, 6, 7, 5, 5, 5, 4, 3, 1, 1, 4, \n",
    "                 1, 5, 1, 1, 1, 6, 1, 1, 1, 5, 1, 5, 1, 5, 1, 637]"
   ]
  },
  {
   "cell_type": "code",
   "execution_count": 1,
   "metadata": {
    "ExecuteTime": {
     "end_time": "2019-05-13T19:44:23.207663Z",
     "start_time": "2019-05-13T19:44:23.203087Z"
    },
    "scrolled": true
   },
   "outputs": [],
   "source": [
    "# Download weather file for each airport.\n",
    "for index, row in airports.iterrows():\n",
    "    if row['usaf'] == '999999': \n",
    "        continue\n",
    "    url = 'ftp://ftp.ncdc.noaa.gov/pub/data/noaa/2015/' + row['usaf'] + '-' + row['wban'] + '-2015.gz'  \n",
    "    fileandext = '../data/weather/hourly/ASOS/data/' + row['usaf'] + '-' + row['wban'] + '-2015.gz'\n",
    "    print(url)\n",
    "    print(fileandext)\n",
    "\n",
    "    # Comment following lines out after data are extracted\n",
    "    urllib.request.urlretrieve(url, file)\n",
    "    os.system('gunzip ' + file)\n",
    "    file = fileandext[:-3]\n",
    "    weather = pd.read_fwf(file, widths=col_widths, names=col_names)\n",
    "    os.system('rm ' + file)\n",
    "\n",
    "    try:\n",
    "        weather = pickle.load(open(file + '.pickle', 'rb'))\n",
    "    except:\n",
    "        pass\n",
    "        #urllib.request.urlretrieve(url, file)\n",
    "        # os.system('gunzip ' + file)\n",
    "       # weather = pd.read_fwf(file, widths=col_widths, names=col_names)\n",
    "        \n",
    "    # print(type(weather))\n",
    "    weather['year'] = weather['date']//10000\n",
    "    weather['month'] = (weather['date'] - weather['year']*10000)//100\n",
    "    weather['day'] = (weather['date'] - (weather['year']*10000 + weather['month']*100))\n",
    "\n",
    "    weather['hour'] = weather['time']//100\n",
    "    weather['minute'] = weather['time'] - weather['hour']*100\n",
    "\n",
    "    weather['datetime'] = pd.to_datetime(weather.year.astype(str) \n",
    "                                     + '-' + weather.month.astype(str) \n",
    "                                     + '-' + weather.day.astype(str) \n",
    "                                     + ' ' + weather.hour.astype(str) \n",
    "                                     + ':' +  weather.minute.astype(str))\n",
    "\n",
    "    weather['iata'] = row['iata']\n",
    "\n",
    "    if index == 0:\n",
    "        weathermaster = weather\n",
    "        \n",
    "    weathermaster = weathermaster.append(weather)\n",
    "\n",
    "    # Pickle file for quicker reloading.\n",
    "    pickle.dump(weather, open(file + '.pickle', 'wb'))\n",
    "\n"
   ]
  },
  {
   "cell_type": "code",
   "execution_count": 175,
   "metadata": {
    "ExecuteTime": {
     "end_time": "2019-02-12T22:03:55.443679Z",
     "start_time": "2019-02-12T22:03:44.517800Z"
    }
   },
   "outputs": [],
   "source": [
    "# Pickle weather file for later reloading.\n",
    "pickle.dump(weathermaster, open('../data/weather/hourly/ASOS/data/weathermaster original.pickle', 'wb'))"
   ]
  },
  {
   "cell_type": "code",
   "execution_count": 112,
   "metadata": {
    "ExecuteTime": {
     "end_time": "2019-02-12T21:05:05.383915Z",
     "start_time": "2019-02-12T21:04:57.264630Z"
    }
   },
   "outputs": [],
   "source": [
    "# Load weather file from pickle.\n",
    "weathermaster = pickle.load(open('../data/weather/hourly/ASOS/data/weathermaster original.pickle', 'rb'))"
   ]
  },
  {
   "cell_type": "code",
   "execution_count": 176,
   "metadata": {
    "ExecuteTime": {
     "end_time": "2019-02-12T22:04:01.029957Z",
     "start_time": "2019-02-12T22:04:00.991589Z"
    }
   },
   "outputs": [
    {
     "data": {
      "text/plain": [
       "Index(['tvc', 'fws', 'wban', 'date', 'time', 'source', 'lat', 'long', 'type',\n",
       "       'elev', 'call', 'quality', 'wind_angle', 'wind_quality', 'wind_type',\n",
       "       'wind_speed', 'wind_speed_quality', 'ceiling', 'ceiling_quality',\n",
       "       'ceiling_method', 'cavok', 'vis', 'vis_quality', 'vis_var',\n",
       "       'vis_var_quality', 'temp', 'temp_quality', 'dew', 'dew_quality',\n",
       "       'pressure', 'pressure_quality', 'addl', 'year', 'month', 'day', 'hour',\n",
       "       'minute', 'datetime', 'iata'],\n",
       "      dtype='object')"
      ]
     },
     "execution_count": 176,
     "metadata": {},
     "output_type": "execute_result"
    }
   ],
   "source": [
    "weathermaster.columns"
   ]
  },
  {
   "cell_type": "code",
   "execution_count": 177,
   "metadata": {
    "ExecuteTime": {
     "end_time": "2019-02-12T22:04:19.891325Z",
     "start_time": "2019-02-12T22:04:11.258830Z"
    }
   },
   "outputs": [],
   "source": [
    "# Clean up weather variables.\n",
    "weathermaster.loc[weathermaster['wind_speed'] == 9999, 'wind_speed'] = None\n",
    "weathermaster['wind_speed'] = weathermaster['wind_speed'] / 10\n",
    "\n",
    "weathermaster.loc[weathermaster['ceiling'] == 99999, 'ceiling'] = None\n",
    "\n",
    "weathermaster.loc[weathermaster['vis'] == 999999, 'vis'] = None\n",
    "\n",
    "weathermaster.loc[weathermaster['temp'] == 9999, 'temp'] = None\n",
    "weathermaster['temp'] = weathermaster['temp'] / 10\n",
    "\n",
    "weathermaster.loc[weathermaster['dew'] == 999999, 'dew'] = None\n",
    "weathermaster['dew'] = weathermaster['dew'] / 10\n",
    "\n",
    "weathermaster.loc[weathermaster['pressure'] == 99999, 'pressure'] = None\n",
    "weathermaster['pressure'] = weathermaster['pressure'] / 10"
   ]
  },
  {
   "cell_type": "code",
   "execution_count": 149,
   "metadata": {
    "ExecuteTime": {
     "end_time": "2019-02-12T21:27:49.664028Z",
     "start_time": "2019-02-12T21:27:49.658825Z"
    }
   },
   "outputs": [
    {
     "data": {
      "text/plain": [
       "\"\\ndef precipitation(mystring):\\n    if re.search(r'AA1[0-9]*', mystring):\\n        return re.search(r'AA1[0-9]*', mystring).group()\\n    else:\\n        return np.nan\\n\\nweathermaster['addl'].map(lambda x: precipitation(x))\\n# weathermaster['addl'].map(lambda x: x)\\n\""
      ]
     },
     "execution_count": 149,
     "metadata": {},
     "output_type": "execute_result"
    }
   ],
   "source": [
    "\"\"\"\n",
    "def precipitation(mystring):\n",
    "    if re.search(r'AA1[0-9]*', mystring):\n",
    "        return re.search(r'AA1[0-9]*', mystring).group()\n",
    "    else:\n",
    "        return np.nan\n",
    "\n",
    "weathermaster['addl'].map(lambda x: precipitation(x))\n",
    "# weathermaster['addl'].map(lambda x: x)\n",
    "\"\"\""
   ]
  },
  {
   "cell_type": "code",
   "execution_count": 178,
   "metadata": {
    "ExecuteTime": {
     "end_time": "2019-02-12T22:04:47.096453Z",
     "start_time": "2019-02-12T22:04:33.439957Z"
    }
   },
   "outputs": [],
   "source": [
    "weathermaster['aa1'] = weathermaster['addl'].str[3:6]\n",
    "weathermaster['precip'] = weathermaster['addl'].str[8:12]\n",
    "weathermaster.loc[weathermaster.aa1 != 'AA1', 'precip'] = np.nan\n",
    "pd.options.display.max_rows = 999\n",
    "weathermaster.loc[weathermaster['precip'] == '9999', 'precip'] = np.nan\n",
    "weathermaster['precip'] = (weathermaster['precip'].astype(float))/10"
   ]
  },
  {
   "cell_type": "code",
   "execution_count": 180,
   "metadata": {
    "ExecuteTime": {
     "end_time": "2019-02-12T22:05:14.480407Z",
     "start_time": "2019-02-12T22:04:59.046727Z"
    }
   },
   "outputs": [],
   "source": [
    "pickle.dump(weathermaster, open('../data/weather/hourly/ASOS/data/weathermaster.pickle', 'wb'))"
   ]
  },
  {
   "cell_type": "markdown",
   "metadata": {},
   "source": [
    "### <a id=\"1B\"></a>1B. Airline data"
   ]
  },
  {
   "cell_type": "code",
   "execution_count": 22,
   "metadata": {
    "ExecuteTime": {
     "end_time": "2019-02-12T16:49:44.546914Z",
     "start_time": "2019-02-12T16:49:44.539958Z"
    }
   },
   "outputs": [],
   "source": [
    "# Read in AIRLINE data.\n",
    "airlines = pd.read_csv('../data/airlines/airlines.csv')"
   ]
  },
  {
   "cell_type": "code",
   "execution_count": 23,
   "metadata": {
    "ExecuteTime": {
     "end_time": "2019-02-12T16:49:45.240584Z",
     "start_time": "2019-02-12T16:49:45.235046Z"
    }
   },
   "outputs": [
    {
     "data": {
      "text/plain": [
       "(14, 2)"
      ]
     },
     "execution_count": 23,
     "metadata": {},
     "output_type": "execute_result"
    }
   ],
   "source": [
    "airlines.shape"
   ]
  },
  {
   "cell_type": "code",
   "execution_count": 24,
   "metadata": {
    "ExecuteTime": {
     "end_time": "2019-02-12T16:49:46.132042Z",
     "start_time": "2019-02-12T16:49:46.127597Z"
    }
   },
   "outputs": [
    {
     "data": {
      "text/plain": [
       "Index(['IATA_CODE', 'AIRLINE'], dtype='object')"
      ]
     },
     "execution_count": 24,
     "metadata": {},
     "output_type": "execute_result"
    }
   ],
   "source": [
    "airlines.columns"
   ]
  },
  {
   "cell_type": "code",
   "execution_count": 25,
   "metadata": {
    "ExecuteTime": {
     "end_time": "2019-02-12T16:49:47.402736Z",
     "start_time": "2019-02-12T16:49:47.398423Z"
    }
   },
   "outputs": [],
   "source": [
    "# Rename columns to friendlier names.\n",
    "airlines.rename(columns={'IATA_CODE': 'airlinecode2', \n",
    "                       'AIRLINE':'airline_orig'}, \n",
    "               inplace=True)"
   ]
  },
  {
   "cell_type": "code",
   "execution_count": 26,
   "metadata": {
    "ExecuteTime": {
     "end_time": "2019-02-12T16:49:49.005542Z",
     "start_time": "2019-02-12T16:49:48.991565Z"
    }
   },
   "outputs": [],
   "source": [
    "# Clean up / simplify airline names.\n",
    "airlines['airline'] = airlines.airline_orig.str.split().str[0]\n",
    "airlines.airline = airlines.airline.str.strip()\n",
    "airlines.drop('airline_orig', axis=1, inplace=True)\n",
    "\n",
    "airlines.loc[airlines['airlinecode2'] == 'US', 'airline'] = 'US Airways'\n",
    "airlines.loc[airlines['airlinecode2'] == 'EV', 'airline'] = 'Atlantic SE'\n",
    "airlines.loc[airlines['airlinecode2'] == 'MQ', 'airline'] = 'Amer Eagle'"
   ]
  },
  {
   "cell_type": "code",
   "execution_count": 27,
   "metadata": {
    "ExecuteTime": {
     "end_time": "2019-02-12T16:49:50.508233Z",
     "start_time": "2019-02-12T16:49:50.500352Z"
    }
   },
   "outputs": [],
   "source": [
    "# Generate airline dummies.\n",
    "airline_dummies = pd.get_dummies(airlines['airlinecode2'], prefix='airline')\n",
    "airlines = airlines.merge(airline_dummies, left_index=True, right_index=True)"
   ]
  },
  {
   "cell_type": "code",
   "execution_count": 28,
   "metadata": {
    "ExecuteTime": {
     "end_time": "2019-02-12T16:49:51.460681Z",
     "start_time": "2019-02-12T16:49:51.455173Z"
    }
   },
   "outputs": [
    {
     "data": {
      "text/plain": [
       "Index(['airlinecode2', 'airline', 'airline_AA', 'airline_AS', 'airline_B6',\n",
       "       'airline_DL', 'airline_EV', 'airline_F9', 'airline_HA', 'airline_MQ',\n",
       "       'airline_NK', 'airline_OO', 'airline_UA', 'airline_US', 'airline_VX',\n",
       "       'airline_WN'],\n",
       "      dtype='object')"
      ]
     },
     "execution_count": 28,
     "metadata": {},
     "output_type": "execute_result"
    }
   ],
   "source": [
    "airlines.columns"
   ]
  },
  {
   "cell_type": "code",
   "execution_count": 29,
   "metadata": {
    "ExecuteTime": {
     "end_time": "2019-02-12T16:49:52.835740Z",
     "start_time": "2019-02-12T16:49:52.813696Z"
    }
   },
   "outputs": [
    {
     "data": {
      "text/html": [
       "<div>\n",
       "<style scoped>\n",
       "    .dataframe tbody tr th:only-of-type {\n",
       "        vertical-align: middle;\n",
       "    }\n",
       "\n",
       "    .dataframe tbody tr th {\n",
       "        vertical-align: top;\n",
       "    }\n",
       "\n",
       "    .dataframe thead th {\n",
       "        text-align: right;\n",
       "    }\n",
       "</style>\n",
       "<table border=\"1\" class=\"dataframe\">\n",
       "  <thead>\n",
       "    <tr style=\"text-align: right;\">\n",
       "      <th></th>\n",
       "      <th>airlinecode2</th>\n",
       "      <th>airline</th>\n",
       "      <th>airline_AA</th>\n",
       "      <th>airline_AS</th>\n",
       "      <th>airline_B6</th>\n",
       "      <th>airline_DL</th>\n",
       "      <th>airline_EV</th>\n",
       "      <th>airline_F9</th>\n",
       "      <th>airline_HA</th>\n",
       "      <th>airline_MQ</th>\n",
       "      <th>airline_NK</th>\n",
       "      <th>airline_OO</th>\n",
       "      <th>airline_UA</th>\n",
       "      <th>airline_US</th>\n",
       "      <th>airline_VX</th>\n",
       "      <th>airline_WN</th>\n",
       "    </tr>\n",
       "  </thead>\n",
       "  <tbody>\n",
       "    <tr>\n",
       "      <th>0</th>\n",
       "      <td>UA</td>\n",
       "      <td>United</td>\n",
       "      <td>0</td>\n",
       "      <td>0</td>\n",
       "      <td>0</td>\n",
       "      <td>0</td>\n",
       "      <td>0</td>\n",
       "      <td>0</td>\n",
       "      <td>0</td>\n",
       "      <td>0</td>\n",
       "      <td>0</td>\n",
       "      <td>0</td>\n",
       "      <td>1</td>\n",
       "      <td>0</td>\n",
       "      <td>0</td>\n",
       "      <td>0</td>\n",
       "    </tr>\n",
       "    <tr>\n",
       "      <th>1</th>\n",
       "      <td>AA</td>\n",
       "      <td>American</td>\n",
       "      <td>1</td>\n",
       "      <td>0</td>\n",
       "      <td>0</td>\n",
       "      <td>0</td>\n",
       "      <td>0</td>\n",
       "      <td>0</td>\n",
       "      <td>0</td>\n",
       "      <td>0</td>\n",
       "      <td>0</td>\n",
       "      <td>0</td>\n",
       "      <td>0</td>\n",
       "      <td>0</td>\n",
       "      <td>0</td>\n",
       "      <td>0</td>\n",
       "    </tr>\n",
       "    <tr>\n",
       "      <th>2</th>\n",
       "      <td>US</td>\n",
       "      <td>US Airways</td>\n",
       "      <td>0</td>\n",
       "      <td>0</td>\n",
       "      <td>0</td>\n",
       "      <td>0</td>\n",
       "      <td>0</td>\n",
       "      <td>0</td>\n",
       "      <td>0</td>\n",
       "      <td>0</td>\n",
       "      <td>0</td>\n",
       "      <td>0</td>\n",
       "      <td>0</td>\n",
       "      <td>1</td>\n",
       "      <td>0</td>\n",
       "      <td>0</td>\n",
       "    </tr>\n",
       "    <tr>\n",
       "      <th>3</th>\n",
       "      <td>F9</td>\n",
       "      <td>Frontier</td>\n",
       "      <td>0</td>\n",
       "      <td>0</td>\n",
       "      <td>0</td>\n",
       "      <td>0</td>\n",
       "      <td>0</td>\n",
       "      <td>1</td>\n",
       "      <td>0</td>\n",
       "      <td>0</td>\n",
       "      <td>0</td>\n",
       "      <td>0</td>\n",
       "      <td>0</td>\n",
       "      <td>0</td>\n",
       "      <td>0</td>\n",
       "      <td>0</td>\n",
       "    </tr>\n",
       "    <tr>\n",
       "      <th>4</th>\n",
       "      <td>B6</td>\n",
       "      <td>JetBlue</td>\n",
       "      <td>0</td>\n",
       "      <td>0</td>\n",
       "      <td>1</td>\n",
       "      <td>0</td>\n",
       "      <td>0</td>\n",
       "      <td>0</td>\n",
       "      <td>0</td>\n",
       "      <td>0</td>\n",
       "      <td>0</td>\n",
       "      <td>0</td>\n",
       "      <td>0</td>\n",
       "      <td>0</td>\n",
       "      <td>0</td>\n",
       "      <td>0</td>\n",
       "    </tr>\n",
       "    <tr>\n",
       "      <th>5</th>\n",
       "      <td>OO</td>\n",
       "      <td>Skywest</td>\n",
       "      <td>0</td>\n",
       "      <td>0</td>\n",
       "      <td>0</td>\n",
       "      <td>0</td>\n",
       "      <td>0</td>\n",
       "      <td>0</td>\n",
       "      <td>0</td>\n",
       "      <td>0</td>\n",
       "      <td>0</td>\n",
       "      <td>1</td>\n",
       "      <td>0</td>\n",
       "      <td>0</td>\n",
       "      <td>0</td>\n",
       "      <td>0</td>\n",
       "    </tr>\n",
       "    <tr>\n",
       "      <th>6</th>\n",
       "      <td>AS</td>\n",
       "      <td>Alaska</td>\n",
       "      <td>0</td>\n",
       "      <td>1</td>\n",
       "      <td>0</td>\n",
       "      <td>0</td>\n",
       "      <td>0</td>\n",
       "      <td>0</td>\n",
       "      <td>0</td>\n",
       "      <td>0</td>\n",
       "      <td>0</td>\n",
       "      <td>0</td>\n",
       "      <td>0</td>\n",
       "      <td>0</td>\n",
       "      <td>0</td>\n",
       "      <td>0</td>\n",
       "    </tr>\n",
       "    <tr>\n",
       "      <th>7</th>\n",
       "      <td>NK</td>\n",
       "      <td>Spirit</td>\n",
       "      <td>0</td>\n",
       "      <td>0</td>\n",
       "      <td>0</td>\n",
       "      <td>0</td>\n",
       "      <td>0</td>\n",
       "      <td>0</td>\n",
       "      <td>0</td>\n",
       "      <td>0</td>\n",
       "      <td>1</td>\n",
       "      <td>0</td>\n",
       "      <td>0</td>\n",
       "      <td>0</td>\n",
       "      <td>0</td>\n",
       "      <td>0</td>\n",
       "    </tr>\n",
       "    <tr>\n",
       "      <th>8</th>\n",
       "      <td>WN</td>\n",
       "      <td>Southwest</td>\n",
       "      <td>0</td>\n",
       "      <td>0</td>\n",
       "      <td>0</td>\n",
       "      <td>0</td>\n",
       "      <td>0</td>\n",
       "      <td>0</td>\n",
       "      <td>0</td>\n",
       "      <td>0</td>\n",
       "      <td>0</td>\n",
       "      <td>0</td>\n",
       "      <td>0</td>\n",
       "      <td>0</td>\n",
       "      <td>0</td>\n",
       "      <td>1</td>\n",
       "    </tr>\n",
       "    <tr>\n",
       "      <th>9</th>\n",
       "      <td>DL</td>\n",
       "      <td>Delta</td>\n",
       "      <td>0</td>\n",
       "      <td>0</td>\n",
       "      <td>0</td>\n",
       "      <td>1</td>\n",
       "      <td>0</td>\n",
       "      <td>0</td>\n",
       "      <td>0</td>\n",
       "      <td>0</td>\n",
       "      <td>0</td>\n",
       "      <td>0</td>\n",
       "      <td>0</td>\n",
       "      <td>0</td>\n",
       "      <td>0</td>\n",
       "      <td>0</td>\n",
       "    </tr>\n",
       "    <tr>\n",
       "      <th>10</th>\n",
       "      <td>EV</td>\n",
       "      <td>Atlantic SE</td>\n",
       "      <td>0</td>\n",
       "      <td>0</td>\n",
       "      <td>0</td>\n",
       "      <td>0</td>\n",
       "      <td>1</td>\n",
       "      <td>0</td>\n",
       "      <td>0</td>\n",
       "      <td>0</td>\n",
       "      <td>0</td>\n",
       "      <td>0</td>\n",
       "      <td>0</td>\n",
       "      <td>0</td>\n",
       "      <td>0</td>\n",
       "      <td>0</td>\n",
       "    </tr>\n",
       "    <tr>\n",
       "      <th>11</th>\n",
       "      <td>HA</td>\n",
       "      <td>Hawaiian</td>\n",
       "      <td>0</td>\n",
       "      <td>0</td>\n",
       "      <td>0</td>\n",
       "      <td>0</td>\n",
       "      <td>0</td>\n",
       "      <td>0</td>\n",
       "      <td>1</td>\n",
       "      <td>0</td>\n",
       "      <td>0</td>\n",
       "      <td>0</td>\n",
       "      <td>0</td>\n",
       "      <td>0</td>\n",
       "      <td>0</td>\n",
       "      <td>0</td>\n",
       "    </tr>\n",
       "    <tr>\n",
       "      <th>12</th>\n",
       "      <td>MQ</td>\n",
       "      <td>Amer Eagle</td>\n",
       "      <td>0</td>\n",
       "      <td>0</td>\n",
       "      <td>0</td>\n",
       "      <td>0</td>\n",
       "      <td>0</td>\n",
       "      <td>0</td>\n",
       "      <td>0</td>\n",
       "      <td>1</td>\n",
       "      <td>0</td>\n",
       "      <td>0</td>\n",
       "      <td>0</td>\n",
       "      <td>0</td>\n",
       "      <td>0</td>\n",
       "      <td>0</td>\n",
       "    </tr>\n",
       "    <tr>\n",
       "      <th>13</th>\n",
       "      <td>VX</td>\n",
       "      <td>Virgin</td>\n",
       "      <td>0</td>\n",
       "      <td>0</td>\n",
       "      <td>0</td>\n",
       "      <td>0</td>\n",
       "      <td>0</td>\n",
       "      <td>0</td>\n",
       "      <td>0</td>\n",
       "      <td>0</td>\n",
       "      <td>0</td>\n",
       "      <td>0</td>\n",
       "      <td>0</td>\n",
       "      <td>0</td>\n",
       "      <td>1</td>\n",
       "      <td>0</td>\n",
       "    </tr>\n",
       "  </tbody>\n",
       "</table>\n",
       "</div>"
      ],
      "text/plain": [
       "   airlinecode2      airline  airline_AA  airline_AS  airline_B6  airline_DL  \\\n",
       "0            UA       United           0           0           0           0   \n",
       "1            AA     American           1           0           0           0   \n",
       "2            US   US Airways           0           0           0           0   \n",
       "3            F9     Frontier           0           0           0           0   \n",
       "4            B6      JetBlue           0           0           1           0   \n",
       "5            OO      Skywest           0           0           0           0   \n",
       "6            AS       Alaska           0           1           0           0   \n",
       "7            NK       Spirit           0           0           0           0   \n",
       "8            WN    Southwest           0           0           0           0   \n",
       "9            DL        Delta           0           0           0           1   \n",
       "10           EV  Atlantic SE           0           0           0           0   \n",
       "11           HA     Hawaiian           0           0           0           0   \n",
       "12           MQ   Amer Eagle           0           0           0           0   \n",
       "13           VX       Virgin           0           0           0           0   \n",
       "\n",
       "    airline_EV  airline_F9  airline_HA  airline_MQ  airline_NK  airline_OO  \\\n",
       "0            0           0           0           0           0           0   \n",
       "1            0           0           0           0           0           0   \n",
       "2            0           0           0           0           0           0   \n",
       "3            0           1           0           0           0           0   \n",
       "4            0           0           0           0           0           0   \n",
       "5            0           0           0           0           0           1   \n",
       "6            0           0           0           0           0           0   \n",
       "7            0           0           0           0           1           0   \n",
       "8            0           0           0           0           0           0   \n",
       "9            0           0           0           0           0           0   \n",
       "10           1           0           0           0           0           0   \n",
       "11           0           0           1           0           0           0   \n",
       "12           0           0           0           1           0           0   \n",
       "13           0           0           0           0           0           0   \n",
       "\n",
       "    airline_UA  airline_US  airline_VX  airline_WN  \n",
       "0            1           0           0           0  \n",
       "1            0           0           0           0  \n",
       "2            0           1           0           0  \n",
       "3            0           0           0           0  \n",
       "4            0           0           0           0  \n",
       "5            0           0           0           0  \n",
       "6            0           0           0           0  \n",
       "7            0           0           0           0  \n",
       "8            0           0           0           1  \n",
       "9            0           0           0           0  \n",
       "10           0           0           0           0  \n",
       "11           0           0           0           0  \n",
       "12           0           0           0           0  \n",
       "13           0           0           1           0  "
      ]
     },
     "execution_count": 29,
     "metadata": {},
     "output_type": "execute_result"
    }
   ],
   "source": [
    "airlines"
   ]
  },
  {
   "cell_type": "code",
   "execution_count": 30,
   "metadata": {
    "ExecuteTime": {
     "end_time": "2019-02-12T16:49:59.896365Z",
     "start_time": "2019-02-12T16:49:59.890906Z"
    }
   },
   "outputs": [],
   "source": [
    "# Pickle file for quicker reloading.\n",
    "pickle.dump(airlines, open('../data/airlines/Airlines.pickle', 'wb'))"
   ]
  },
  {
   "cell_type": "markdown",
   "metadata": {},
   "source": [
    "### <a id=\"1c\"></a>1C. Flight data"
   ]
  },
  {
   "cell_type": "code",
   "execution_count": 129,
   "metadata": {
    "ExecuteTime": {
     "end_time": "2019-02-06T19:29:54.132687Z",
     "start_time": "2019-02-06T19:29:28.219814Z"
    }
   },
   "outputs": [
    {
     "name": "stderr",
     "output_type": "stream",
     "text": [
      "/anaconda3/lib/python3.7/site-packages/IPython/core/interactiveshell.py:3020: DtypeWarning: Columns (7,8) have mixed types. Specify dtype option on import or set low_memory=False.\n",
      "  interactivity=interactivity, compiler=compiler, result=result)\n"
     ]
    }
   ],
   "source": [
    "# Flights\n",
    "flights = pd.read_csv('../data/flights/raw/flights.csv')"
   ]
  },
  {
   "cell_type": "code",
   "execution_count": 130,
   "metadata": {
    "ExecuteTime": {
     "end_time": "2019-02-06T19:29:58.891228Z",
     "start_time": "2019-02-06T19:29:54.134996Z"
    }
   },
   "outputs": [],
   "source": [
    "# Pickle file for quicker reloading\n",
    "pickle.dump(flights, open('../data/flights/flights1.pickle', 'wb'))"
   ]
  },
  {
   "cell_type": "code",
   "execution_count": 31,
   "metadata": {
    "ExecuteTime": {
     "end_time": "2019-02-12T16:50:11.198770Z",
     "start_time": "2019-02-12T16:50:07.260053Z"
    }
   },
   "outputs": [],
   "source": [
    "# Un-pickle file.\n",
    "flights = pickle.load(open('../data/flights/flights1.pickle', 'rb'))"
   ]
  },
  {
   "cell_type": "code",
   "execution_count": 32,
   "metadata": {
    "ExecuteTime": {
     "end_time": "2019-02-12T16:50:11.207011Z",
     "start_time": "2019-02-12T16:50:11.200999Z"
    }
   },
   "outputs": [
    {
     "data": {
      "text/plain": [
       "Index(['YEAR', 'MONTH', 'DAY', 'DAY_OF_WEEK', 'AIRLINE', 'FLIGHT_NUMBER',\n",
       "       'TAIL_NUMBER', 'ORIGIN_AIRPORT', 'DESTINATION_AIRPORT',\n",
       "       'SCHEDULED_DEPARTURE', 'DEPARTURE_TIME', 'DEPARTURE_DELAY', 'TAXI_OUT',\n",
       "       'WHEELS_OFF', 'SCHEDULED_TIME', 'ELAPSED_TIME', 'AIR_TIME', 'DISTANCE',\n",
       "       'WHEELS_ON', 'TAXI_IN', 'SCHEDULED_ARRIVAL', 'ARRIVAL_TIME',\n",
       "       'ARRIVAL_DELAY', 'DIVERTED', 'CANCELLED', 'CANCELLATION_REASON',\n",
       "       'AIR_SYSTEM_DELAY', 'SECURITY_DELAY', 'AIRLINE_DELAY',\n",
       "       'LATE_AIRCRAFT_DELAY', 'WEATHER_DELAY'],\n",
       "      dtype='object')"
      ]
     },
     "execution_count": 32,
     "metadata": {},
     "output_type": "execute_result"
    }
   ],
   "source": [
    "flights.columns"
   ]
  },
  {
   "cell_type": "code",
   "execution_count": 33,
   "metadata": {
    "ExecuteTime": {
     "end_time": "2019-02-12T16:50:14.447000Z",
     "start_time": "2019-02-12T16:50:13.185276Z"
    }
   },
   "outputs": [],
   "source": [
    "# Rename columns to friendlier names.\n",
    "flights.rename(columns={'YEAR': 'year', 'MONTH':'month', 'DAY': 'day', 'DAY_OF_WEEK': 'dow', \n",
    "                        'AIRLINE': 'airlinecode', 'FLIGHT_NUMBER': 'num', 'TAIL_NUMBER': 'tail', \n",
    "                        'ORIGIN_AIRPORT': 'origin', 'DESTINATION_AIRPORT': 'dest', \n",
    "                        'SCHEDULED_DEPARTURE': 'depsch', 'DEPARTURE_TIME': 'depact', \n",
    "                        'DEPARTURE_DELAY': 'depdel', 'TAXI_OUT': 'taxiout', 'WHEELS_OFF': 'wheelsoff', \n",
    "                        'SCHEDULED_TIME': 'timesch', 'ELAPSED_TIME': 'timeact', 'AIR_TIME': 'timeair', \n",
    "                        'DISTANCE': 'dist', 'WHEELS_ON': 'wheelson', 'TAXI_IN': 'taxiin', \n",
    "                        'SCHEDULED_ARRIVAL': 'arrsch', 'ARRIVAL_TIME': 'arract', 'ARRIVAL_DELAY': 'arrdel', \n",
    "                        'DIVERTED': 'diverted', 'CANCELLED': 'cancelled', 'CANCELLATION_REASON': 'cancreason',\n",
    "                        'AIR_SYSTEM_DELAY': 'delsys', 'SECURITY_DELAY': 'delsec', 'AIRLINE_DELAY': 'delline',\n",
    "                        'LATE_AIRCRAFT_DELAY': 'dellate', 'WEATHER_DELAY': 'delwea'}, inplace=True)"
   ]
  },
  {
   "cell_type": "code",
   "execution_count": 34,
   "metadata": {
    "ExecuteTime": {
     "end_time": "2019-02-12T16:50:14.664164Z",
     "start_time": "2019-02-12T16:50:14.655108Z"
    }
   },
   "outputs": [
    {
     "data": {
      "text/plain": [
       "(5819079, 31)"
      ]
     },
     "execution_count": 34,
     "metadata": {},
     "output_type": "execute_result"
    }
   ],
   "source": [
    "flights.shape"
   ]
  },
  {
   "cell_type": "code",
   "execution_count": 36,
   "metadata": {
    "ExecuteTime": {
     "end_time": "2019-02-12T16:50:19.546360Z",
     "start_time": "2019-02-12T16:50:19.134746Z"
    }
   },
   "outputs": [],
   "source": [
    "flights['origin'] = flights['origin'].astype(str)"
   ]
  },
  {
   "cell_type": "markdown",
   "metadata": {},
   "source": [
    "##### Distance"
   ]
  },
  {
   "cell_type": "code",
   "execution_count": 37,
   "metadata": {
    "ExecuteTime": {
     "end_time": "2019-02-12T16:50:40.009561Z",
     "start_time": "2019-02-12T16:50:20.922053Z"
    }
   },
   "outputs": [],
   "source": [
    "# Make categorical variable for distance.\n",
    "bins = pd.IntervalIndex.from_tuples([(0, 350), (350, 700), (700, 1200), (1200, 2000), (2000, 5000)])\n",
    "flights['distcat'] = pd.cut(flights.dist, bins)"
   ]
  },
  {
   "cell_type": "code",
   "execution_count": 38,
   "metadata": {
    "ExecuteTime": {
     "end_time": "2019-02-12T16:50:41.398105Z",
     "start_time": "2019-02-12T16:50:40.011880Z"
    }
   },
   "outputs": [],
   "source": [
    "# Make dummies for distance.\n",
    "dist_dummies = pd.get_dummies(flights['distcat'], prefix='dist')\n",
    "flights = flights.merge(dist_dummies, left_index=True, right_index=True)"
   ]
  },
  {
   "cell_type": "markdown",
   "metadata": {},
   "source": [
    "##### Day of week"
   ]
  },
  {
   "cell_type": "code",
   "execution_count": 39,
   "metadata": {
    "ExecuteTime": {
     "end_time": "2019-02-12T16:50:41.462602Z",
     "start_time": "2019-02-12T16:50:41.399595Z"
    }
   },
   "outputs": [
    {
     "data": {
      "text/plain": [
       "1    865543\n",
       "2    844600\n",
       "3    855897\n",
       "4    872521\n",
       "5    862209\n",
       "6    700545\n",
       "7    817764\n",
       "Name: dow, dtype: int64"
      ]
     },
     "execution_count": 39,
     "metadata": {},
     "output_type": "execute_result"
    }
   ],
   "source": [
    "flights.dow.value_counts().sort_index()\n",
    "# No missing values"
   ]
  },
  {
   "cell_type": "code",
   "execution_count": 40,
   "metadata": {
    "ExecuteTime": {
     "end_time": "2019-02-12T16:50:47.367975Z",
     "start_time": "2019-02-12T16:50:44.594985Z"
    }
   },
   "outputs": [],
   "source": [
    "# Switch to US convention where 1 = Sunday and 7 = Saturday\n",
    "flights.dow += 1\n",
    "flights.loc[flights.dow == 8, 'dow'] = 1"
   ]
  },
  {
   "cell_type": "code",
   "execution_count": 41,
   "metadata": {
    "ExecuteTime": {
     "end_time": "2019-02-12T16:50:53.371678Z",
     "start_time": "2019-02-12T16:50:47.370674Z"
    }
   },
   "outputs": [],
   "source": [
    "# Replace numbers with day abbreviations.\n",
    "days = ['Sun', 'Mon', 'Tue', 'Wed', 'Thu', 'Fri', 'Sat']\n",
    "for day in range(7):\n",
    "    flights.loc[flights.dow == day + 1, 'dow'] = days[day]"
   ]
  },
  {
   "cell_type": "code",
   "execution_count": 42,
   "metadata": {
    "ExecuteTime": {
     "end_time": "2019-02-12T16:50:54.221480Z",
     "start_time": "2019-02-12T16:50:53.373306Z"
    }
   },
   "outputs": [],
   "source": [
    "# Make variable categorical.\n",
    "dow_cats = CategoricalDtype(categories=list(['Sun', 'Mon', 'Tue', 'Wed', 'Thu', 'Fri', 'Sat']), ordered=True)\n",
    "flights['dow'] = flights['dow'].astype(dow_cats)"
   ]
  },
  {
   "cell_type": "code",
   "execution_count": 43,
   "metadata": {
    "ExecuteTime": {
     "end_time": "2019-02-12T16:50:54.266235Z",
     "start_time": "2019-02-12T16:50:54.224618Z"
    }
   },
   "outputs": [
    {
     "data": {
      "text/plain": [
       "Sun    817764\n",
       "Mon    865543\n",
       "Tue    844600\n",
       "Wed    855897\n",
       "Thu    872521\n",
       "Fri    862209\n",
       "Sat    700545\n",
       "Name: dow, dtype: int64"
      ]
     },
     "execution_count": 43,
     "metadata": {},
     "output_type": "execute_result"
    }
   ],
   "source": [
    "flights.dow.value_counts().sort_index()"
   ]
  },
  {
   "cell_type": "code",
   "execution_count": 44,
   "metadata": {
    "ExecuteTime": {
     "end_time": "2019-02-12T16:50:55.464492Z",
     "start_time": "2019-02-12T16:50:54.269957Z"
    }
   },
   "outputs": [],
   "source": [
    "# Make day-of-week dummies.\n",
    "dow_dummies = pd.get_dummies(flights['dow'], prefix='dow')\n",
    "flights = flights.merge(dow_dummies, left_index=True, right_index=True)"
   ]
  },
  {
   "cell_type": "code",
   "execution_count": 45,
   "metadata": {
    "ExecuteTime": {
     "end_time": "2019-02-12T16:50:55.472207Z",
     "start_time": "2019-02-12T16:50:55.466253Z"
    }
   },
   "outputs": [
    {
     "data": {
      "text/plain": [
       "Index(['year', 'month', 'day', 'dow', 'airlinecode', 'num', 'tail', 'origin',\n",
       "       'dest', 'depsch', 'depact', 'depdel', 'taxiout', 'wheelsoff', 'timesch',\n",
       "       'timeact', 'timeair', 'dist', 'wheelson', 'taxiin', 'arrsch', 'arract',\n",
       "       'arrdel', 'diverted', 'cancelled', 'cancreason', 'delsys', 'delsec',\n",
       "       'delline', 'dellate', 'delwea', 'distcat', 'dist_(0, 350]',\n",
       "       'dist_(350, 700]', 'dist_(700, 1200]', 'dist_(1200, 2000]',\n",
       "       'dist_(2000, 5000]', 'dow_Sun', 'dow_Mon', 'dow_Tue', 'dow_Wed',\n",
       "       'dow_Thu', 'dow_Fri', 'dow_Sat'],\n",
       "      dtype='object')"
      ]
     },
     "execution_count": 45,
     "metadata": {},
     "output_type": "execute_result"
    }
   ],
   "source": [
    "flights.columns"
   ]
  },
  {
   "cell_type": "markdown",
   "metadata": {},
   "source": [
    "##### Actual departure time"
   ]
  },
  {
   "cell_type": "code",
   "execution_count": 46,
   "metadata": {
    "ExecuteTime": {
     "end_time": "2019-02-12T16:51:00.011546Z",
     "start_time": "2019-02-12T16:50:59.948922Z"
    }
   },
   "outputs": [
    {
     "data": {
      "text/plain": [
       "86153"
      ]
     },
     "execution_count": 46,
     "metadata": {},
     "output_type": "execute_result"
    }
   ],
   "source": [
    "# Count records with no actual departure time.\n",
    "flights.depact.isnull().sum()"
   ]
  },
  {
   "cell_type": "code",
   "execution_count": 47,
   "metadata": {
    "ExecuteTime": {
     "end_time": "2019-02-12T16:51:05.217428Z",
     "start_time": "2019-02-12T16:51:01.025253Z"
    }
   },
   "outputs": [],
   "source": [
    "# There are 86153 records with no actual departure time. Delete them.\n",
    "flights = flights[flights.depact.notnull()]"
   ]
  },
  {
   "cell_type": "code",
   "execution_count": 48,
   "metadata": {
    "ExecuteTime": {
     "end_time": "2019-02-12T16:51:05.298980Z",
     "start_time": "2019-02-12T16:51:05.221074Z"
    }
   },
   "outputs": [
    {
     "data": {
      "text/plain": [
       "6360"
      ]
     },
     "execution_count": 48,
     "metadata": {},
     "output_type": "execute_result"
    }
   ],
   "source": [
    "flights.arract.isnull().sum()"
   ]
  },
  {
   "cell_type": "code",
   "execution_count": 52,
   "metadata": {
    "ExecuteTime": {
     "end_time": "2019-02-12T16:51:46.538181Z",
     "start_time": "2019-02-12T16:51:45.132457Z"
    }
   },
   "outputs": [],
   "source": [
    "# There are still 6360 records with no actual arrival time. Delete them.\n",
    "flights = flights[flights.arract.notnull()]"
   ]
  },
  {
   "cell_type": "code",
   "execution_count": 53,
   "metadata": {
    "ExecuteTime": {
     "end_time": "2019-02-12T16:51:47.738071Z",
     "start_time": "2019-02-12T16:51:47.652093Z"
    }
   },
   "outputs": [
    {
     "data": {
      "text/plain": [
       "167.0"
      ]
     },
     "execution_count": 53,
     "metadata": {},
     "output_type": "execute_result"
    }
   ],
   "source": [
    "# Find 99th %ile.\n",
    "flights.depdel.quantile(.99)"
   ]
  },
  {
   "cell_type": "code",
   "execution_count": 54,
   "metadata": {
    "ExecuteTime": {
     "end_time": "2019-02-12T16:51:48.928863Z",
     "start_time": "2019-02-12T16:51:48.820096Z"
    }
   },
   "outputs": [
    {
     "data": {
      "text/plain": [
       "167.0"
      ]
     },
     "execution_count": 54,
     "metadata": {},
     "output_type": "execute_result"
    }
   ],
   "source": [
    "flights.arrdel.quantile(.99)"
   ]
  },
  {
   "cell_type": "code",
   "execution_count": 55,
   "metadata": {
    "ExecuteTime": {
     "end_time": "2019-02-12T16:51:50.519370Z",
     "start_time": "2019-02-12T16:51:50.347096Z"
    }
   },
   "outputs": [],
   "source": [
    "# Rein in outliers\n",
    "for delvar in ['depdel', 'arrdel']:\n",
    "    flights.loc[flights[delvar] >= 180, delvar] = 180"
   ]
  },
  {
   "cell_type": "markdown",
   "metadata": {},
   "source": [
    "##### Date/time variables"
   ]
  },
  {
   "cell_type": "code",
   "execution_count": 56,
   "metadata": {
    "ExecuteTime": {
     "end_time": "2019-02-12T16:52:16.320470Z",
     "start_time": "2019-02-12T16:51:54.162692Z"
    }
   },
   "outputs": [
    {
     "name": "stdout",
     "output_type": "stream",
     "text": [
      "depsch\n",
      "wheelsoff\n",
      "wheelson\n",
      "arrsch\n"
     ]
    }
   ],
   "source": [
    "# Convert some date/time variables to datetime format.\n",
    "for datevar in ['depsch', 'wheelsoff', 'wheelson', 'arrsch',]:\n",
    "    print(datevar)\n",
    "    flights['hour'] = flights[datevar] // 100\n",
    "    flights['minute'] = flights[datevar] % 100\n",
    "    flights[datevar] = pd.to_datetime(flights[['year', 'month', 'day', 'hour', 'minute']])"
   ]
  },
  {
   "cell_type": "code",
   "execution_count": 57,
   "metadata": {
    "ExecuteTime": {
     "end_time": "2019-02-12T16:52:22.745648Z",
     "start_time": "2019-02-12T16:52:20.937546Z"
    }
   },
   "outputs": [],
   "source": [
    "# Overwrite depact and arract based on depsch and depdel.\n",
    "\n",
    "# Convert depdel and arrdel to timedeltas.\n",
    "for deltavar in ['depdel', 'arrdel']:\n",
    "    flights[deltavar] = pd.to_timedelta(flights[deltavar], unit='minutes')\n",
    "\n",
    "flights.depact = flights.depsch + flights.depdel\n",
    "flights.arract = flights.arrsch + flights.arrdel"
   ]
  },
  {
   "cell_type": "code",
   "execution_count": 58,
   "metadata": {
    "ExecuteTime": {
     "end_time": "2019-02-12T16:52:31.433590Z",
     "start_time": "2019-02-12T16:52:30.098532Z"
    }
   },
   "outputs": [],
   "source": [
    "# Generate 'delayed' variables.\n",
    "flights['depwasdel'] = 0\n",
    "flights['arrwasdel'] = 0\n",
    "flights.loc[flights['depdel'] >= pd.to_timedelta('15 minutes'), 'depwasdel'] = 1\n",
    "flights.loc[flights['arrdel'] >= pd.to_timedelta('15 minutes'), 'arrwasdel'] = 1\n",
    "# flights['depwasdel'] = (flights['depdel'] >= pd.to_timedelta('15 minutes'))\n",
    "# flights['arrwasdel'] = (flights['arrdel'] >= pd.to_timedelta('15 minutes'))"
   ]
  },
  {
   "cell_type": "code",
   "execution_count": 59,
   "metadata": {
    "ExecuteTime": {
     "end_time": "2019-02-12T16:52:33.483355Z",
     "start_time": "2019-02-12T16:52:33.394221Z"
    }
   },
   "outputs": [
    {
     "data": {
      "text/plain": [
       "0    0.815926\n",
       "1    0.184074\n",
       "Name: depwasdel, dtype: float64"
      ]
     },
     "execution_count": 59,
     "metadata": {},
     "output_type": "execute_result"
    }
   ],
   "source": [
    "flights.depwasdel.value_counts(normalize=True)"
   ]
  },
  {
   "cell_type": "code",
   "execution_count": 60,
   "metadata": {
    "ExecuteTime": {
     "end_time": "2019-02-12T16:52:34.874165Z",
     "start_time": "2019-02-12T16:52:34.803438Z"
    }
   },
   "outputs": [
    {
     "data": {
      "text/plain": [
       "0    0.814297\n",
       "1    0.185703\n",
       "Name: arrwasdel, dtype: float64"
      ]
     },
     "execution_count": 60,
     "metadata": {},
     "output_type": "execute_result"
    }
   ],
   "source": [
    "flights.arrwasdel.value_counts(normalize=True)"
   ]
  },
  {
   "cell_type": "markdown",
   "metadata": {},
   "source": [
    "##### Hour of day"
   ]
  },
  {
   "cell_type": "code",
   "execution_count": 61,
   "metadata": {
    "ExecuteTime": {
     "end_time": "2019-02-12T16:53:05.095857Z",
     "start_time": "2019-02-12T16:52:48.481876Z"
    }
   },
   "outputs": [],
   "source": [
    "Convert hours from numeric to labels.\n",
    "hourslist = ['12m', '1a', '2a', '3a', '4a', '5a', '6a', '7a', '8a', '9a', '10a', '11a', '12n', '1p', '2p', '3p', '4p', '5p', '6p', '7p', '8p', '9p', '10p', '11p']\n",
    "flights['houro'] = flights['hour']\n",
    "for hour in range(24):\n",
    "    flights.loc[flights['houro'] == hour, 'houro'] = hourslist[hour]"
   ]
  },
  {
   "cell_type": "code",
   "execution_count": 62,
   "metadata": {
    "ExecuteTime": {
     "end_time": "2019-02-12T16:53:08.497453Z",
     "start_time": "2019-02-12T16:53:06.385882Z"
    }
   },
   "outputs": [],
   "source": [
    "# Drop the few weird cases where hour = 24.\n",
    "flights.drop(flights[flights.hour == 24].index, inplace=True)"
   ]
  },
  {
   "cell_type": "code",
   "execution_count": 63,
   "metadata": {
    "ExecuteTime": {
     "end_time": "2019-02-12T16:53:09.508462Z",
     "start_time": "2019-02-12T16:53:08.499698Z"
    }
   },
   "outputs": [],
   "source": [
    "# Create categorical variable.\n",
    "houro_cats = CategoricalDtype(categories=list(['6a', '7a', '8a', '9a', '10a', '11a', '12n', '1p', '2p', '3p', '4p', '5p', '6p', '7p', '8p', '9p', '10p', '11p', '12m', '1a', '2a', '3a', '4a', '5a']), ordered=True)\n",
    "flights['houro'] = flights['houro'].astype(houro_cats)"
   ]
  },
  {
   "cell_type": "markdown",
   "metadata": {
    "ExecuteTime": {
     "end_time": "2019-02-06T19:27:27.235654Z",
     "start_time": "2019-02-06T19:27:27.230164Z"
    }
   },
   "source": [
    "##### Dummies for hour of day"
   ]
  },
  {
   "cell_type": "code",
   "execution_count": 64,
   "metadata": {
    "ExecuteTime": {
     "end_time": "2019-02-12T16:53:14.580533Z",
     "start_time": "2019-02-12T16:53:12.037326Z"
    }
   },
   "outputs": [],
   "source": [
    "# Make hour dummies.\n",
    "hour_dummies = pd.get_dummies(flights['hour'], prefix='hour')\n",
    "flights = flights.merge(hour_dummies, left_index=True, right_index=True)"
   ]
  },
  {
   "cell_type": "markdown",
   "metadata": {},
   "source": [
    "##### Dummies for month of year"
   ]
  },
  {
   "cell_type": "code",
   "execution_count": 65,
   "metadata": {
    "ExecuteTime": {
     "end_time": "2019-02-12T16:53:17.698722Z",
     "start_time": "2019-02-12T16:53:15.939371Z"
    }
   },
   "outputs": [],
   "source": [
    "# Make month dummies.\n",
    "month_dummies = pd.get_dummies(flights['month'], prefix='month')\n",
    "flights = flights.merge(month_dummies, left_index=True, right_index=True)"
   ]
  },
  {
   "cell_type": "markdown",
   "metadata": {},
   "source": [
    "#### Last steps"
   ]
  },
  {
   "cell_type": "code",
   "execution_count": 66,
   "metadata": {
    "ExecuteTime": {
     "end_time": "2019-02-12T16:53:23.588894Z",
     "start_time": "2019-02-12T16:53:19.416341Z"
    }
   },
   "outputs": [],
   "source": [
    "# Drop columns I'm not currently using.\n",
    "flights.drop(columns=['taxiout', 'wheelsoff', 'timesch', 'timeact', \n",
    "                      'timeair', 'wheelson', 'taxiin', 'diverted', \n",
    "                     'cancelled', 'cancreason', 'delsys', 'delsec', \n",
    "                     'delline', 'dellate', 'delwea'], inplace=True)"
   ]
  },
  {
   "cell_type": "code",
   "execution_count": 67,
   "metadata": {
    "ExecuteTime": {
     "end_time": "2019-02-12T16:53:27.139590Z",
     "start_time": "2019-02-12T16:53:23.591190Z"
    }
   },
   "outputs": [],
   "source": [
    "# Pickle file for quicker reloading.\n",
    "pickle.dump(flights, open('../data/flights/flights2.pickle', 'wb'))"
   ]
  },
  {
   "cell_type": "code",
   "execution_count": 3,
   "metadata": {
    "ExecuteTime": {
     "end_time": "2019-02-12T18:35:14.961149Z",
     "start_time": "2019-02-12T18:35:11.983285Z"
    }
   },
   "outputs": [],
   "source": [
    "# Reload pickle file.\n",
    "flights = pickle.load(open('../data/flights/flights2.pickle', 'rb'))"
   ]
  },
  {
   "cell_type": "code",
   "execution_count": 4,
   "metadata": {
    "ExecuteTime": {
     "end_time": "2019-02-12T18:35:19.659876Z",
     "start_time": "2019-02-12T18:35:17.928151Z"
    }
   },
   "outputs": [],
   "source": [
    "# Take a sample of 1 million flights.\n",
    "sample = flights.sample(1000000)"
   ]
  },
  {
   "cell_type": "code",
   "execution_count": 5,
   "metadata": {
    "ExecuteTime": {
     "end_time": "2019-02-12T18:35:26.940057Z",
     "start_time": "2019-02-12T18:35:25.891928Z"
    }
   },
   "outputs": [],
   "source": [
    "# Pickle file for quicker reloading\n",
    "pickle.dump(sample, open('../data/flights/sample2.pickle', 'wb'))\n",
    "\n",
    "# sample.to_excel('../data/flights/sample1.xlsx')"
   ]
  },
  {
   "cell_type": "markdown",
   "metadata": {},
   "source": [
    "### <a id=\"1E\"></a>1E. Merge airline and airport data into flight data"
   ]
  },
  {
   "cell_type": "code",
   "execution_count": 2,
   "metadata": {
    "ExecuteTime": {
     "end_time": "2019-02-12T22:09:29.544350Z",
     "start_time": "2019-02-12T22:09:28.442175Z"
    }
   },
   "outputs": [],
   "source": [
    "# Un-pickle files.\n",
    "flights = pickle.load(open('../data/flights/sample2.pickle', 'rb'))\n",
    "# flights = pickle.load(open('../data/flights/flights2.pickle', 'rb'))"
   ]
  },
  {
   "cell_type": "code",
   "execution_count": 3,
   "metadata": {
    "ExecuteTime": {
     "end_time": "2019-02-12T22:09:32.022483Z",
     "start_time": "2019-02-12T22:09:32.017868Z"
    }
   },
   "outputs": [],
   "source": [
    "airlines = pickle.load(open('../data/airlines/Airlines.pickle', 'rb'))\n",
    "# airports = pickle.load(open('../data/airports/Airports with dummies.pickle', 'rb'))"
   ]
  },
  {
   "cell_type": "code",
   "execution_count": 4,
   "metadata": {
    "ExecuteTime": {
     "end_time": "2019-02-12T22:09:40.709186Z",
     "start_time": "2019-02-12T22:09:38.619710Z"
    }
   },
   "outputs": [],
   "source": [
    "# Merge in airline data.\n",
    "flights = flights.merge(airlines, left_on = 'airlinecode', right_on = 'airlinecode2')\n",
    "flights.drop('airlinecode2', axis=1, inplace=True)"
   ]
  },
  {
   "cell_type": "code",
   "execution_count": 6,
   "metadata": {
    "ExecuteTime": {
     "end_time": "2019-02-12T22:09:53.254455Z",
     "start_time": "2019-02-12T22:09:45.734144Z"
    }
   },
   "outputs": [],
   "source": [
    "# Merge in airport data for both origin and destination airports.\n",
    "for location in ['origin', 'dest']:\n",
    "    airports = pickle.load(open('../data/airports/Airports with dummies.pickle', 'rb'))\n",
    "    columnrenames = {}\n",
    "    for column in airports:\n",
    "        columnrenames[column] = location + '_' + column\n",
    "    airports.rename(columns=columnrenames, inplace=True)    \n",
    "    \n",
    "    flights = flights.merge(airports, how = 'left', left_on = location, right_on = location + '_iata')\n",
    "\n",
    "    # flights.drop(location + '_iata', axis=1, inplace=True)\n",
    "    # print(flights.shape)"
   ]
  },
  {
   "cell_type": "code",
   "execution_count": 7,
   "metadata": {
    "ExecuteTime": {
     "end_time": "2019-02-12T22:09:55.498145Z",
     "start_time": "2019-02-12T22:09:55.491276Z"
    }
   },
   "outputs": [
    {
     "data": {
      "text/plain": [
       "(1000000, 745)"
      ]
     },
     "execution_count": 7,
     "metadata": {},
     "output_type": "execute_result"
    }
   ],
   "source": [
    "flights.shape"
   ]
  },
  {
   "cell_type": "markdown",
   "metadata": {},
   "source": [
    "### <a id=\"1F\"></a>1F. Merge in weather data for each flight"
   ]
  },
  {
   "cell_type": "code",
   "execution_count": 9,
   "metadata": {
    "ExecuteTime": {
     "end_time": "2019-02-12T22:10:33.151842Z",
     "start_time": "2019-02-12T22:10:00.509638Z"
    }
   },
   "outputs": [],
   "source": [
    "# Sort flights data.\n",
    "flights.sort_values('depsch', inplace=True)"
   ]
  },
  {
   "cell_type": "code",
   "execution_count": 10,
   "metadata": {
    "ExecuteTime": {
     "end_time": "2019-02-12T22:10:47.644877Z",
     "start_time": "2019-02-12T22:10:38.828712Z"
    }
   },
   "outputs": [],
   "source": [
    "# Load weather data.\n",
    "weathermaster = pickle.load(open('../data/weather/hourly/ASOS/data/weathermaster.pickle', 'rb'))"
   ]
  },
  {
   "cell_type": "code",
   "execution_count": 11,
   "metadata": {
    "ExecuteTime": {
     "end_time": "2019-02-12T22:11:00.739115Z",
     "start_time": "2019-02-12T22:10:57.362033Z"
    }
   },
   "outputs": [],
   "source": [
    "# Sort weather data.\n",
    "weathermaster.sort_values('datetime', inplace=True)"
   ]
  },
  {
   "cell_type": "code",
   "execution_count": 12,
   "metadata": {
    "ExecuteTime": {
     "end_time": "2019-02-12T22:12:11.658818Z",
     "start_time": "2019-02-12T22:11:25.591396Z"
    }
   },
   "outputs": [],
   "source": [
    "# Merge weather data into flights data..\n",
    "flights = pd.merge_asof(flights, weathermaster, \n",
    "                        left_on='depsch', right_on='datetime', \n",
    "                        left_by='origin', right_by='iata', \n",
    "                        direction='nearest')"
   ]
  },
  {
   "cell_type": "code",
   "execution_count": 13,
   "metadata": {
    "ExecuteTime": {
     "end_time": "2019-02-12T22:12:40.449967Z",
     "start_time": "2019-02-12T22:12:24.231639Z"
    }
   },
   "outputs": [],
   "source": [
    "# Pickle file for quicker reloading.\n",
    "pickle.dump(flights, open('../data/flights/flights3.pickle', 'wb'), protocol=4)"
   ]
  },
  {
   "cell_type": "code",
   "execution_count": 14,
   "metadata": {
    "ExecuteTime": {
     "end_time": "2019-02-12T22:13:56.766334Z",
     "start_time": "2019-02-12T22:13:29.511604Z"
    }
   },
   "outputs": [],
   "source": [
    "# Pickle file for quicker reloading\n",
    "pickle.dump(flights, open('../data/flights/sample3.pickle', 'wb'))"
   ]
  },
  {
   "cell_type": "markdown",
   "metadata": {
    "ExecuteTime": {
     "end_time": "2019-02-01T21:37:35.545015Z",
     "start_time": "2019-02-01T21:37:35.540943Z"
    }
   },
   "source": [
    "## <a id=\"2\"></a>2. Exploratory data analysis"
   ]
  },
  {
   "cell_type": "code",
   "execution_count": 288,
   "metadata": {
    "ExecuteTime": {
     "end_time": "2019-02-11T21:48:07.917449Z",
     "start_time": "2019-02-11T21:48:07.076710Z"
    }
   },
   "outputs": [],
   "source": [
    "# Un-pickle sample data.\n",
    "flights = pickle.load(open('../data/flights/sample3.pickle', 'rb'))"
   ]
  },
  {
   "cell_type": "code",
   "execution_count": null,
   "metadata": {},
   "outputs": [],
   "source": [
    "# OR\n",
    "# Un-pickle all flight data.\n",
    "flights = pickle.load(open('../data/flights/flights3.pickle', 'rb'))"
   ]
  },
  {
   "cell_type": "code",
   "execution_count": 303,
   "metadata": {
    "ExecuteTime": {
     "end_time": "2019-02-11T21:59:39.869944Z",
     "start_time": "2019-02-11T21:59:21.718941Z"
    }
   },
   "outputs": [],
   "source": [
    "# Create data for Tableau heatmap.\n",
    "heatmap = flights.groupby(['dow', 'houro']).agg({'arrwasdel':np.mean}).reset_index()"
   ]
  },
  {
   "cell_type": "code",
   "execution_count": 304,
   "metadata": {
    "ExecuteTime": {
     "end_time": "2019-02-11T21:59:39.968925Z",
     "start_time": "2019-02-11T21:59:39.872685Z"
    }
   },
   "outputs": [
    {
     "data": {
      "text/html": [
       "<div>\n",
       "<style scoped>\n",
       "    .dataframe tbody tr th:only-of-type {\n",
       "        vertical-align: middle;\n",
       "    }\n",
       "\n",
       "    .dataframe tbody tr th {\n",
       "        vertical-align: top;\n",
       "    }\n",
       "\n",
       "    .dataframe thead th {\n",
       "        text-align: right;\n",
       "    }\n",
       "</style>\n",
       "<table border=\"1\" class=\"dataframe\">\n",
       "  <thead>\n",
       "    <tr style=\"text-align: right;\">\n",
       "      <th>houro</th>\n",
       "      <th>6a</th>\n",
       "      <th>7a</th>\n",
       "      <th>8a</th>\n",
       "      <th>9a</th>\n",
       "      <th>10a</th>\n",
       "      <th>11a</th>\n",
       "      <th>12n</th>\n",
       "      <th>1p</th>\n",
       "      <th>2p</th>\n",
       "      <th>3p</th>\n",
       "      <th>...</th>\n",
       "      <th>8p</th>\n",
       "      <th>9p</th>\n",
       "      <th>10p</th>\n",
       "      <th>11p</th>\n",
       "      <th>12m</th>\n",
       "      <th>1a</th>\n",
       "      <th>2a</th>\n",
       "      <th>3a</th>\n",
       "      <th>4a</th>\n",
       "      <th>5a</th>\n",
       "    </tr>\n",
       "    <tr>\n",
       "      <th>dow</th>\n",
       "      <th></th>\n",
       "      <th></th>\n",
       "      <th></th>\n",
       "      <th></th>\n",
       "      <th></th>\n",
       "      <th></th>\n",
       "      <th></th>\n",
       "      <th></th>\n",
       "      <th></th>\n",
       "      <th></th>\n",
       "      <th></th>\n",
       "      <th></th>\n",
       "      <th></th>\n",
       "      <th></th>\n",
       "      <th></th>\n",
       "      <th></th>\n",
       "      <th></th>\n",
       "      <th></th>\n",
       "      <th></th>\n",
       "      <th></th>\n",
       "      <th></th>\n",
       "    </tr>\n",
       "  </thead>\n",
       "  <tbody>\n",
       "    <tr>\n",
       "      <th>Sun</th>\n",
       "      <td>0.135399</td>\n",
       "      <td>0.107902</td>\n",
       "      <td>0.097137</td>\n",
       "      <td>0.102036</td>\n",
       "      <td>0.106892</td>\n",
       "      <td>0.123912</td>\n",
       "      <td>0.135725</td>\n",
       "      <td>0.149039</td>\n",
       "      <td>0.150640</td>\n",
       "      <td>0.169586</td>\n",
       "      <td>...</td>\n",
       "      <td>0.240917</td>\n",
       "      <td>0.262574</td>\n",
       "      <td>0.263408</td>\n",
       "      <td>0.250284</td>\n",
       "      <td>0.255352</td>\n",
       "      <td>0.238356</td>\n",
       "      <td>0.347826</td>\n",
       "      <td>0.325000</td>\n",
       "      <td>0.179191</td>\n",
       "      <td>0.182281</td>\n",
       "    </tr>\n",
       "    <tr>\n",
       "      <th>Mon</th>\n",
       "      <td>0.106337</td>\n",
       "      <td>0.097123</td>\n",
       "      <td>0.107986</td>\n",
       "      <td>0.119168</td>\n",
       "      <td>0.140871</td>\n",
       "      <td>0.147400</td>\n",
       "      <td>0.160413</td>\n",
       "      <td>0.171564</td>\n",
       "      <td>0.173608</td>\n",
       "      <td>0.199339</td>\n",
       "      <td>...</td>\n",
       "      <td>0.254079</td>\n",
       "      <td>0.269694</td>\n",
       "      <td>0.268546</td>\n",
       "      <td>0.265708</td>\n",
       "      <td>0.269189</td>\n",
       "      <td>0.279279</td>\n",
       "      <td>0.212500</td>\n",
       "      <td>0.311111</td>\n",
       "      <td>0.217143</td>\n",
       "      <td>0.171028</td>\n",
       "    </tr>\n",
       "    <tr>\n",
       "      <th>Tue</th>\n",
       "      <td>0.106695</td>\n",
       "      <td>0.086965</td>\n",
       "      <td>0.100884</td>\n",
       "      <td>0.113864</td>\n",
       "      <td>0.130859</td>\n",
       "      <td>0.132084</td>\n",
       "      <td>0.145442</td>\n",
       "      <td>0.160593</td>\n",
       "      <td>0.162916</td>\n",
       "      <td>0.177036</td>\n",
       "      <td>...</td>\n",
       "      <td>0.243391</td>\n",
       "      <td>0.242574</td>\n",
       "      <td>0.250352</td>\n",
       "      <td>0.241884</td>\n",
       "      <td>0.237062</td>\n",
       "      <td>0.257732</td>\n",
       "      <td>0.186441</td>\n",
       "      <td>0.285714</td>\n",
       "      <td>0.211180</td>\n",
       "      <td>0.147689</td>\n",
       "    </tr>\n",
       "    <tr>\n",
       "      <th>Wed</th>\n",
       "      <td>0.106453</td>\n",
       "      <td>0.087201</td>\n",
       "      <td>0.109195</td>\n",
       "      <td>0.116160</td>\n",
       "      <td>0.129308</td>\n",
       "      <td>0.137562</td>\n",
       "      <td>0.139948</td>\n",
       "      <td>0.155750</td>\n",
       "      <td>0.165601</td>\n",
       "      <td>0.171849</td>\n",
       "      <td>...</td>\n",
       "      <td>0.246481</td>\n",
       "      <td>0.240182</td>\n",
       "      <td>0.227958</td>\n",
       "      <td>0.236433</td>\n",
       "      <td>0.258285</td>\n",
       "      <td>0.227778</td>\n",
       "      <td>0.112903</td>\n",
       "      <td>0.321429</td>\n",
       "      <td>0.147541</td>\n",
       "      <td>0.156667</td>\n",
       "    </tr>\n",
       "    <tr>\n",
       "      <th>Thu</th>\n",
       "      <td>0.106468</td>\n",
       "      <td>0.090718</td>\n",
       "      <td>0.098822</td>\n",
       "      <td>0.113811</td>\n",
       "      <td>0.127898</td>\n",
       "      <td>0.141806</td>\n",
       "      <td>0.149597</td>\n",
       "      <td>0.164459</td>\n",
       "      <td>0.172023</td>\n",
       "      <td>0.188975</td>\n",
       "      <td>...</td>\n",
       "      <td>0.267794</td>\n",
       "      <td>0.288729</td>\n",
       "      <td>0.274209</td>\n",
       "      <td>0.287431</td>\n",
       "      <td>0.278559</td>\n",
       "      <td>0.278552</td>\n",
       "      <td>0.175000</td>\n",
       "      <td>0.275000</td>\n",
       "      <td>0.186747</td>\n",
       "      <td>0.187110</td>\n",
       "    </tr>\n",
       "    <tr>\n",
       "      <th>Fri</th>\n",
       "      <td>0.102231</td>\n",
       "      <td>0.091158</td>\n",
       "      <td>0.098304</td>\n",
       "      <td>0.105411</td>\n",
       "      <td>0.138810</td>\n",
       "      <td>0.141828</td>\n",
       "      <td>0.154702</td>\n",
       "      <td>0.173819</td>\n",
       "      <td>0.178783</td>\n",
       "      <td>0.190459</td>\n",
       "      <td>...</td>\n",
       "      <td>0.249779</td>\n",
       "      <td>0.264609</td>\n",
       "      <td>0.260687</td>\n",
       "      <td>0.259496</td>\n",
       "      <td>0.268495</td>\n",
       "      <td>0.252252</td>\n",
       "      <td>0.240506</td>\n",
       "      <td>0.309524</td>\n",
       "      <td>0.149068</td>\n",
       "      <td>0.175824</td>\n",
       "    </tr>\n",
       "    <tr>\n",
       "      <th>Sat</th>\n",
       "      <td>0.112514</td>\n",
       "      <td>0.088757</td>\n",
       "      <td>0.095824</td>\n",
       "      <td>0.104077</td>\n",
       "      <td>0.115686</td>\n",
       "      <td>0.126511</td>\n",
       "      <td>0.130313</td>\n",
       "      <td>0.139075</td>\n",
       "      <td>0.152889</td>\n",
       "      <td>0.159884</td>\n",
       "      <td>...</td>\n",
       "      <td>0.217685</td>\n",
       "      <td>0.209274</td>\n",
       "      <td>0.221079</td>\n",
       "      <td>0.215753</td>\n",
       "      <td>0.256731</td>\n",
       "      <td>0.253731</td>\n",
       "      <td>0.092593</td>\n",
       "      <td>0.255814</td>\n",
       "      <td>0.167832</td>\n",
       "      <td>0.167947</td>\n",
       "    </tr>\n",
       "  </tbody>\n",
       "</table>\n",
       "<p>7 rows × 24 columns</p>\n",
       "</div>"
      ],
      "text/plain": [
       "houro        6a        7a        8a        9a       10a       11a       12n  \\\n",
       "dow                                                                           \n",
       "Sun    0.135399  0.107902  0.097137  0.102036  0.106892  0.123912  0.135725   \n",
       "Mon    0.106337  0.097123  0.107986  0.119168  0.140871  0.147400  0.160413   \n",
       "Tue    0.106695  0.086965  0.100884  0.113864  0.130859  0.132084  0.145442   \n",
       "Wed    0.106453  0.087201  0.109195  0.116160  0.129308  0.137562  0.139948   \n",
       "Thu    0.106468  0.090718  0.098822  0.113811  0.127898  0.141806  0.149597   \n",
       "Fri    0.102231  0.091158  0.098304  0.105411  0.138810  0.141828  0.154702   \n",
       "Sat    0.112514  0.088757  0.095824  0.104077  0.115686  0.126511  0.130313   \n",
       "\n",
       "houro        1p        2p        3p  ...        8p        9p       10p  \\\n",
       "dow                                  ...                                 \n",
       "Sun    0.149039  0.150640  0.169586  ...  0.240917  0.262574  0.263408   \n",
       "Mon    0.171564  0.173608  0.199339  ...  0.254079  0.269694  0.268546   \n",
       "Tue    0.160593  0.162916  0.177036  ...  0.243391  0.242574  0.250352   \n",
       "Wed    0.155750  0.165601  0.171849  ...  0.246481  0.240182  0.227958   \n",
       "Thu    0.164459  0.172023  0.188975  ...  0.267794  0.288729  0.274209   \n",
       "Fri    0.173819  0.178783  0.190459  ...  0.249779  0.264609  0.260687   \n",
       "Sat    0.139075  0.152889  0.159884  ...  0.217685  0.209274  0.221079   \n",
       "\n",
       "houro       11p       12m        1a        2a        3a        4a        5a  \n",
       "dow                                                                          \n",
       "Sun    0.250284  0.255352  0.238356  0.347826  0.325000  0.179191  0.182281  \n",
       "Mon    0.265708  0.269189  0.279279  0.212500  0.311111  0.217143  0.171028  \n",
       "Tue    0.241884  0.237062  0.257732  0.186441  0.285714  0.211180  0.147689  \n",
       "Wed    0.236433  0.258285  0.227778  0.112903  0.321429  0.147541  0.156667  \n",
       "Thu    0.287431  0.278559  0.278552  0.175000  0.275000  0.186747  0.187110  \n",
       "Fri    0.259496  0.268495  0.252252  0.240506  0.309524  0.149068  0.175824  \n",
       "Sat    0.215753  0.256731  0.253731  0.092593  0.255814  0.167832  0.167947  \n",
       "\n",
       "[7 rows x 24 columns]"
      ]
     },
     "execution_count": 304,
     "metadata": {},
     "output_type": "execute_result"
    }
   ],
   "source": [
    "# Save out heatmap data.\n",
    "heatmap.to_csv('../presentation/heatmap-long.csv')\n",
    "heatmap = heatmap.pivot(index='dow', columns='houro', values='arrwasdel')\n",
    "heatmap.to_csv('../presentation/heatmap.csv')\n",
    "heatmap"
   ]
  },
  {
   "cell_type": "code",
   "execution_count": 11,
   "metadata": {
    "ExecuteTime": {
     "end_time": "2019-02-11T20:11:53.858929Z",
     "start_time": "2019-02-11T20:11:53.716592Z"
    }
   },
   "outputs": [
    {
     "data": {
      "image/png": "[encoded data removed]",
      "text/plain": [
       "<Figure size 432x288 with 1 Axes>"
      ]
     },
     "metadata": {
      "needs_background": "light"
     },
     "output_type": "display_data"
    }
   ],
   "source": [
    "plt.pcolor(heatmap)\n",
    "plt.show()"
   ]
  },
  {
   "cell_type": "code",
   "execution_count": 23,
   "metadata": {
    "ExecuteTime": {
     "end_time": "2019-02-11T20:24:55.204397Z",
     "start_time": "2019-02-11T20:24:54.863912Z"
    }
   },
   "outputs": [
    {
     "data": {
      "text/plain": [
       "<matplotlib.axes._subplots.AxesSubplot at 0x1a1ef52c18>"
      ]
     },
     "execution_count": 23,
     "metadata": {},
     "output_type": "execute_result"
    },
    {
     "data": {
      "image/png": "[encoded data removed]",
      "text/plain": [
       "<Figure size 432x288 with 2 Axes>"
      ]
     },
     "metadata": {
      "needs_background": "light"
     },
     "output_type": "display_data"
    }
   ],
   "source": [
    "sns.heatmap(heatmap, vmax=.33, cmap=\"coolwarm\")"
   ]
  },
  {
   "cell_type": "code",
   "execution_count": null,
   "metadata": {
    "ExecuteTime": {
     "end_time": "2019-02-11T18:46:01.343367Z",
     "start_time": "2019-02-11T18:46:01.275185Z"
    }
   },
   "outputs": [],
   "source": [
    "# Generate data for Tableau U.S. maps.\n",
    "# By origin airport\n",
    "maporigin = flights.groupby('origin_iata').aggregate({'year': 'count', 'origin_lat': np.mean, 'origin_long': np.mean, 'arrwasdel':np.mean}).reset_index()\n",
    "maporigin = maporigin[['origin_iata', 'origin_lat', 'origin_long', 'year', 'arrwasdel']]\n",
    "maporigin.rename(columns = {'year': 'flights'}, inplace = True)\n",
    "maporigin['flights_sqrt'] = np.sqrt(maporigin['flights'])\n",
    "maporigin.to_csv('../presentation/maporigin.csv')"
   ]
  },
  {
   "cell_type": "code",
   "execution_count": 60,
   "metadata": {
    "ExecuteTime": {
     "end_time": "2019-02-11T18:47:06.649335Z",
     "start_time": "2019-02-11T18:47:06.580107Z"
    }
   },
   "outputs": [],
   "source": [
    "# By destination airport\n",
    "mapdest = flights.groupby('dest_iata').aggregate({'year': 'count', 'dest_lat': np.mean, 'dest_long': np.mean, 'arrwasdel':np.mean}).reset_index()\n",
    "mapdest = mapdest[['dest_iata', 'dest_lat', 'dest_long', 'year', 'arrwasdel']]\n",
    "mapdest.rename(columns = {'year': 'flights'}, inplace = True)\n",
    "mapdest['flights_sqrt'] = np.sqrt(mapdest['flights'])\n",
    "mapdest.to_csv('../presentation/mapdest.csv')"
   ]
  },
  {
   "cell_type": "code",
   "execution_count": 59,
   "metadata": {
    "ExecuteTime": {
     "end_time": "2019-02-11T18:46:02.115763Z",
     "start_time": "2019-02-11T18:46:02.054148Z"
    }
   },
   "outputs": [
    {
     "data": {
      "text/html": [
       "<div>\n",
       "<style scoped>\n",
       "    .dataframe tbody tr th:only-of-type {\n",
       "        vertical-align: middle;\n",
       "    }\n",
       "\n",
       "    .dataframe tbody tr th {\n",
       "        vertical-align: top;\n",
       "    }\n",
       "\n",
       "    .dataframe thead th {\n",
       "        text-align: right;\n",
       "    }\n",
       "</style>\n",
       "<table border=\"1\" class=\"dataframe\">\n",
       "  <thead>\n",
       "    <tr style=\"text-align: right;\">\n",
       "      <th></th>\n",
       "      <th>origin_iata</th>\n",
       "      <th>origin_lat</th>\n",
       "      <th>origin_long</th>\n",
       "      <th>flights</th>\n",
       "      <th>arrwasdel</th>\n",
       "      <th>flights_sqrt</th>\n",
       "    </tr>\n",
       "  </thead>\n",
       "  <tbody>\n",
       "    <tr>\n",
       "      <th>0</th>\n",
       "      <td>ABE</td>\n",
       "      <td>40.652360</td>\n",
       "      <td>-75.440400</td>\n",
       "      <td>35</td>\n",
       "      <td>0.200000</td>\n",
       "      <td>5.916080</td>\n",
       "    </tr>\n",
       "    <tr>\n",
       "      <th>1</th>\n",
       "      <td>ABI</td>\n",
       "      <td>32.411320</td>\n",
       "      <td>-99.681900</td>\n",
       "      <td>43</td>\n",
       "      <td>0.139535</td>\n",
       "      <td>6.557439</td>\n",
       "    </tr>\n",
       "    <tr>\n",
       "      <th>2</th>\n",
       "      <td>ABQ</td>\n",
       "      <td>35.040220</td>\n",
       "      <td>-106.609190</td>\n",
       "      <td>344</td>\n",
       "      <td>0.174419</td>\n",
       "      <td>18.547237</td>\n",
       "    </tr>\n",
       "    <tr>\n",
       "      <th>3</th>\n",
       "      <td>ABR</td>\n",
       "      <td>45.449060</td>\n",
       "      <td>-98.421830</td>\n",
       "      <td>12</td>\n",
       "      <td>0.083333</td>\n",
       "      <td>3.464102</td>\n",
       "    </tr>\n",
       "    <tr>\n",
       "      <th>4</th>\n",
       "      <td>ABY</td>\n",
       "      <td>31.535520</td>\n",
       "      <td>-84.194470</td>\n",
       "      <td>19</td>\n",
       "      <td>0.157895</td>\n",
       "      <td>4.358899</td>\n",
       "    </tr>\n",
       "    <tr>\n",
       "      <th>5</th>\n",
       "      <td>ACK</td>\n",
       "      <td>41.253050</td>\n",
       "      <td>-70.060180</td>\n",
       "      <td>7</td>\n",
       "      <td>0.000000</td>\n",
       "      <td>2.645751</td>\n",
       "    </tr>\n",
       "    <tr>\n",
       "      <th>6</th>\n",
       "      <td>ACT</td>\n",
       "      <td>31.611290</td>\n",
       "      <td>-97.230520</td>\n",
       "      <td>19</td>\n",
       "      <td>0.315789</td>\n",
       "      <td>4.358899</td>\n",
       "    </tr>\n",
       "    <tr>\n",
       "      <th>7</th>\n",
       "      <td>ACV</td>\n",
       "      <td>40.978120</td>\n",
       "      <td>-124.108620</td>\n",
       "      <td>27</td>\n",
       "      <td>0.148148</td>\n",
       "      <td>5.196152</td>\n",
       "    </tr>\n",
       "    <tr>\n",
       "      <th>8</th>\n",
       "      <td>ACY</td>\n",
       "      <td>39.457580</td>\n",
       "      <td>-74.577170</td>\n",
       "      <td>67</td>\n",
       "      <td>0.283582</td>\n",
       "      <td>8.185353</td>\n",
       "    </tr>\n",
       "    <tr>\n",
       "      <th>9</th>\n",
       "      <td>ADK</td>\n",
       "      <td>51.877960</td>\n",
       "      <td>-176.646030</td>\n",
       "      <td>2</td>\n",
       "      <td>1.000000</td>\n",
       "      <td>1.414214</td>\n",
       "    </tr>\n",
       "    <tr>\n",
       "      <th>10</th>\n",
       "      <td>ADQ</td>\n",
       "      <td>57.749970</td>\n",
       "      <td>-152.493860</td>\n",
       "      <td>8</td>\n",
       "      <td>0.125000</td>\n",
       "      <td>2.828427</td>\n",
       "    </tr>\n",
       "    <tr>\n",
       "      <th>11</th>\n",
       "      <td>AEX</td>\n",
       "      <td>31.327370</td>\n",
       "      <td>-92.548560</td>\n",
       "      <td>54</td>\n",
       "      <td>0.148148</td>\n",
       "      <td>7.348469</td>\n",
       "    </tr>\n",
       "    <tr>\n",
       "      <th>12</th>\n",
       "      <td>AGS</td>\n",
       "      <td>33.369960</td>\n",
       "      <td>-81.964500</td>\n",
       "      <td>46</td>\n",
       "      <td>0.195652</td>\n",
       "      <td>6.782330</td>\n",
       "    </tr>\n",
       "    <tr>\n",
       "      <th>13</th>\n",
       "      <td>AKN</td>\n",
       "      <td>58.676800</td>\n",
       "      <td>-156.649220</td>\n",
       "      <td>3</td>\n",
       "      <td>0.666667</td>\n",
       "      <td>1.732051</td>\n",
       "    </tr>\n",
       "    <tr>\n",
       "      <th>14</th>\n",
       "      <td>ALB</td>\n",
       "      <td>42.748120</td>\n",
       "      <td>-73.802980</td>\n",
       "      <td>129</td>\n",
       "      <td>0.170543</td>\n",
       "      <td>11.357817</td>\n",
       "    </tr>\n",
       "    <tr>\n",
       "      <th>15</th>\n",
       "      <td>ALO</td>\n",
       "      <td>42.557080</td>\n",
       "      <td>-92.400340</td>\n",
       "      <td>7</td>\n",
       "      <td>0.428571</td>\n",
       "      <td>2.645751</td>\n",
       "    </tr>\n",
       "    <tr>\n",
       "      <th>16</th>\n",
       "      <td>AMA</td>\n",
       "      <td>35.219370</td>\n",
       "      <td>-101.705930</td>\n",
       "      <td>64</td>\n",
       "      <td>0.250000</td>\n",
       "      <td>8.000000</td>\n",
       "    </tr>\n",
       "    <tr>\n",
       "      <th>17</th>\n",
       "      <td>ANC</td>\n",
       "      <td>61.174320</td>\n",
       "      <td>-149.996190</td>\n",
       "      <td>279</td>\n",
       "      <td>0.132616</td>\n",
       "      <td>16.703293</td>\n",
       "    </tr>\n",
       "    <tr>\n",
       "      <th>18</th>\n",
       "      <td>APN</td>\n",
       "      <td>45.078070</td>\n",
       "      <td>-83.560290</td>\n",
       "      <td>10</td>\n",
       "      <td>0.200000</td>\n",
       "      <td>3.162278</td>\n",
       "    </tr>\n",
       "    <tr>\n",
       "      <th>19</th>\n",
       "      <td>ASE</td>\n",
       "      <td>39.223160</td>\n",
       "      <td>-106.868850</td>\n",
       "      <td>60</td>\n",
       "      <td>0.233333</td>\n",
       "      <td>7.745967</td>\n",
       "    </tr>\n",
       "    <tr>\n",
       "      <th>20</th>\n",
       "      <td>ATL</td>\n",
       "      <td>33.640440</td>\n",
       "      <td>-84.426940</td>\n",
       "      <td>5914</td>\n",
       "      <td>0.167061</td>\n",
       "      <td>76.902536</td>\n",
       "    </tr>\n",
       "    <tr>\n",
       "      <th>21</th>\n",
       "      <td>ATW</td>\n",
       "      <td>44.257410</td>\n",
       "      <td>-88.519480</td>\n",
       "      <td>46</td>\n",
       "      <td>0.217391</td>\n",
       "      <td>6.782330</td>\n",
       "    </tr>\n",
       "    <tr>\n",
       "      <th>22</th>\n",
       "      <td>AUS</td>\n",
       "      <td>30.194530</td>\n",
       "      <td>-97.669870</td>\n",
       "      <td>765</td>\n",
       "      <td>0.184314</td>\n",
       "      <td>27.658633</td>\n",
       "    </tr>\n",
       "    <tr>\n",
       "      <th>23</th>\n",
       "      <td>AVL</td>\n",
       "      <td>35.436190</td>\n",
       "      <td>-82.541810</td>\n",
       "      <td>44</td>\n",
       "      <td>0.113636</td>\n",
       "      <td>6.633250</td>\n",
       "    </tr>\n",
       "    <tr>\n",
       "      <th>24</th>\n",
       "      <td>AVP</td>\n",
       "      <td>41.338150</td>\n",
       "      <td>-75.724270</td>\n",
       "      <td>28</td>\n",
       "      <td>0.107143</td>\n",
       "      <td>5.291503</td>\n",
       "    </tr>\n",
       "    <tr>\n",
       "      <th>25</th>\n",
       "      <td>AZO</td>\n",
       "      <td>42.234880</td>\n",
       "      <td>-85.552060</td>\n",
       "      <td>33</td>\n",
       "      <td>0.121212</td>\n",
       "      <td>5.744563</td>\n",
       "    </tr>\n",
       "    <tr>\n",
       "      <th>26</th>\n",
       "      <td>BDL</td>\n",
       "      <td>41.938870</td>\n",
       "      <td>-72.683230</td>\n",
       "      <td>307</td>\n",
       "      <td>0.159609</td>\n",
       "      <td>17.521415</td>\n",
       "    </tr>\n",
       "    <tr>\n",
       "      <th>27</th>\n",
       "      <td>BET</td>\n",
       "      <td>60.779780</td>\n",
       "      <td>-161.838000</td>\n",
       "      <td>17</td>\n",
       "      <td>0.294118</td>\n",
       "      <td>4.123106</td>\n",
       "    </tr>\n",
       "    <tr>\n",
       "      <th>28</th>\n",
       "      <td>BFL</td>\n",
       "      <td>35.433600</td>\n",
       "      <td>-119.056770</td>\n",
       "      <td>51</td>\n",
       "      <td>0.274510</td>\n",
       "      <td>7.141428</td>\n",
       "    </tr>\n",
       "    <tr>\n",
       "      <th>29</th>\n",
       "      <td>BGM</td>\n",
       "      <td>42.208480</td>\n",
       "      <td>-75.979610</td>\n",
       "      <td>4</td>\n",
       "      <td>0.000000</td>\n",
       "      <td>2.000000</td>\n",
       "    </tr>\n",
       "    <tr>\n",
       "      <th>30</th>\n",
       "      <td>BGR</td>\n",
       "      <td>44.807440</td>\n",
       "      <td>-68.828140</td>\n",
       "      <td>3</td>\n",
       "      <td>0.666667</td>\n",
       "      <td>1.732051</td>\n",
       "    </tr>\n",
       "    <tr>\n",
       "      <th>31</th>\n",
       "      <td>BHM</td>\n",
       "      <td>33.562940</td>\n",
       "      <td>-86.753550</td>\n",
       "      <td>234</td>\n",
       "      <td>0.183761</td>\n",
       "      <td>15.297059</td>\n",
       "    </tr>\n",
       "    <tr>\n",
       "      <th>32</th>\n",
       "      <td>BIL</td>\n",
       "      <td>45.807660</td>\n",
       "      <td>-108.542860</td>\n",
       "      <td>65</td>\n",
       "      <td>0.153846</td>\n",
       "      <td>8.062258</td>\n",
       "    </tr>\n",
       "    <tr>\n",
       "      <th>33</th>\n",
       "      <td>BIS</td>\n",
       "      <td>46.774110</td>\n",
       "      <td>-100.746720</td>\n",
       "      <td>64</td>\n",
       "      <td>0.187500</td>\n",
       "      <td>8.000000</td>\n",
       "    </tr>\n",
       "    <tr>\n",
       "      <th>34</th>\n",
       "      <td>BJI</td>\n",
       "      <td>47.509420</td>\n",
       "      <td>-94.933720</td>\n",
       "      <td>10</td>\n",
       "      <td>0.100000</td>\n",
       "      <td>3.162278</td>\n",
       "    </tr>\n",
       "    <tr>\n",
       "      <th>35</th>\n",
       "      <td>BLI</td>\n",
       "      <td>48.792750</td>\n",
       "      <td>-122.537530</td>\n",
       "      <td>7</td>\n",
       "      <td>0.142857</td>\n",
       "      <td>2.645751</td>\n",
       "    </tr>\n",
       "    <tr>\n",
       "      <th>36</th>\n",
       "      <td>BMI</td>\n",
       "      <td>40.477990</td>\n",
       "      <td>-88.915950</td>\n",
       "      <td>58</td>\n",
       "      <td>0.206897</td>\n",
       "      <td>7.615773</td>\n",
       "    </tr>\n",
       "    <tr>\n",
       "      <th>37</th>\n",
       "      <td>BNA</td>\n",
       "      <td>36.124480</td>\n",
       "      <td>-86.678180</td>\n",
       "      <td>819</td>\n",
       "      <td>0.172161</td>\n",
       "      <td>28.618176</td>\n",
       "    </tr>\n",
       "    <tr>\n",
       "      <th>38</th>\n",
       "      <td>BOI</td>\n",
       "      <td>43.564440</td>\n",
       "      <td>-116.222780</td>\n",
       "      <td>220</td>\n",
       "      <td>0.177273</td>\n",
       "      <td>14.832397</td>\n",
       "    </tr>\n",
       "    <tr>\n",
       "      <th>39</th>\n",
       "      <td>BOS</td>\n",
       "      <td>42.364350</td>\n",
       "      <td>-71.005180</td>\n",
       "      <td>1800</td>\n",
       "      <td>0.206667</td>\n",
       "      <td>42.426407</td>\n",
       "    </tr>\n",
       "    <tr>\n",
       "      <th>40</th>\n",
       "      <td>BPT</td>\n",
       "      <td>29.950830</td>\n",
       "      <td>-94.020690</td>\n",
       "      <td>12</td>\n",
       "      <td>0.416667</td>\n",
       "      <td>3.464102</td>\n",
       "    </tr>\n",
       "    <tr>\n",
       "      <th>41</th>\n",
       "      <td>BQK</td>\n",
       "      <td>31.259030</td>\n",
       "      <td>-81.466310</td>\n",
       "      <td>9</td>\n",
       "      <td>0.111111</td>\n",
       "      <td>3.000000</td>\n",
       "    </tr>\n",
       "    <tr>\n",
       "      <th>42</th>\n",
       "      <td>BQN</td>\n",
       "      <td>18.494860</td>\n",
       "      <td>-67.129440</td>\n",
       "      <td>19</td>\n",
       "      <td>0.368421</td>\n",
       "      <td>4.358899</td>\n",
       "    </tr>\n",
       "    <tr>\n",
       "      <th>43</th>\n",
       "      <td>BRD</td>\n",
       "      <td>46.397860</td>\n",
       "      <td>-94.137230</td>\n",
       "      <td>10</td>\n",
       "      <td>0.100000</td>\n",
       "      <td>3.162278</td>\n",
       "    </tr>\n",
       "    <tr>\n",
       "      <th>44</th>\n",
       "      <td>BRO</td>\n",
       "      <td>25.906830</td>\n",
       "      <td>-97.425860</td>\n",
       "      <td>33</td>\n",
       "      <td>0.242424</td>\n",
       "      <td>5.744563</td>\n",
       "    </tr>\n",
       "    <tr>\n",
       "      <th>45</th>\n",
       "      <td>BRW</td>\n",
       "      <td>71.285450</td>\n",
       "      <td>-156.766000</td>\n",
       "      <td>17</td>\n",
       "      <td>0.294118</td>\n",
       "      <td>4.123106</td>\n",
       "    </tr>\n",
       "    <tr>\n",
       "      <th>46</th>\n",
       "      <td>BTM</td>\n",
       "      <td>45.954800</td>\n",
       "      <td>-112.497460</td>\n",
       "      <td>9</td>\n",
       "      <td>0.333333</td>\n",
       "      <td>3.000000</td>\n",
       "    </tr>\n",
       "    <tr>\n",
       "      <th>47</th>\n",
       "      <td>BTR</td>\n",
       "      <td>30.533160</td>\n",
       "      <td>-91.149630</td>\n",
       "      <td>128</td>\n",
       "      <td>0.304688</td>\n",
       "      <td>11.313708</td>\n",
       "    </tr>\n",
       "    <tr>\n",
       "      <th>48</th>\n",
       "      <td>BTV</td>\n",
       "      <td>44.473000</td>\n",
       "      <td>-73.150310</td>\n",
       "      <td>54</td>\n",
       "      <td>0.092593</td>\n",
       "      <td>7.348469</td>\n",
       "    </tr>\n",
       "    <tr>\n",
       "      <th>49</th>\n",
       "      <td>BUF</td>\n",
       "      <td>42.940520</td>\n",
       "      <td>-78.732170</td>\n",
       "      <td>264</td>\n",
       "      <td>0.170455</td>\n",
       "      <td>16.248077</td>\n",
       "    </tr>\n",
       "    <tr>\n",
       "      <th>50</th>\n",
       "      <td>BUR</td>\n",
       "      <td>34.200620</td>\n",
       "      <td>-118.358500</td>\n",
       "      <td>340</td>\n",
       "      <td>0.126471</td>\n",
       "      <td>18.439089</td>\n",
       "    </tr>\n",
       "    <tr>\n",
       "      <th>51</th>\n",
       "      <td>BWI</td>\n",
       "      <td>39.175400</td>\n",
       "      <td>-76.668200</td>\n",
       "      <td>1456</td>\n",
       "      <td>0.215659</td>\n",
       "      <td>38.157568</td>\n",
       "    </tr>\n",
       "    <tr>\n",
       "      <th>52</th>\n",
       "      <td>BZN</td>\n",
       "      <td>45.776900</td>\n",
       "      <td>-111.153010</td>\n",
       "      <td>73</td>\n",
       "      <td>0.109589</td>\n",
       "      <td>8.544004</td>\n",
       "    </tr>\n",
       "    <tr>\n",
       "      <th>53</th>\n",
       "      <td>CAE</td>\n",
       "      <td>33.938840</td>\n",
       "      <td>-81.119540</td>\n",
       "      <td>100</td>\n",
       "      <td>0.210000</td>\n",
       "      <td>10.000000</td>\n",
       "    </tr>\n",
       "    <tr>\n",
       "      <th>54</th>\n",
       "      <td>CAK</td>\n",
       "      <td>40.916310</td>\n",
       "      <td>-81.442470</td>\n",
       "      <td>108</td>\n",
       "      <td>0.120370</td>\n",
       "      <td>10.392305</td>\n",
       "    </tr>\n",
       "    <tr>\n",
       "      <th>55</th>\n",
       "      <td>CDC</td>\n",
       "      <td>37.700970</td>\n",
       "      <td>-113.098580</td>\n",
       "      <td>12</td>\n",
       "      <td>0.000000</td>\n",
       "      <td>3.464102</td>\n",
       "    </tr>\n",
       "    <tr>\n",
       "      <th>56</th>\n",
       "      <td>CDV</td>\n",
       "      <td>60.491830</td>\n",
       "      <td>-145.477650</td>\n",
       "      <td>12</td>\n",
       "      <td>0.250000</td>\n",
       "      <td>3.464102</td>\n",
       "    </tr>\n",
       "    <tr>\n",
       "      <th>57</th>\n",
       "      <td>CEC</td>\n",
       "      <td>41.780160</td>\n",
       "      <td>-124.236530</td>\n",
       "      <td>7</td>\n",
       "      <td>0.000000</td>\n",
       "      <td>2.645751</td>\n",
       "    </tr>\n",
       "    <tr>\n",
       "      <th>58</th>\n",
       "      <td>CHA</td>\n",
       "      <td>35.035270</td>\n",
       "      <td>-85.203790</td>\n",
       "      <td>64</td>\n",
       "      <td>0.187500</td>\n",
       "      <td>8.000000</td>\n",
       "    </tr>\n",
       "    <tr>\n",
       "      <th>59</th>\n",
       "      <td>CHO</td>\n",
       "      <td>38.138640</td>\n",
       "      <td>-78.452860</td>\n",
       "      <td>34</td>\n",
       "      <td>0.147059</td>\n",
       "      <td>5.830952</td>\n",
       "    </tr>\n",
       "    <tr>\n",
       "      <th>60</th>\n",
       "      <td>CHS</td>\n",
       "      <td>32.898650</td>\n",
       "      <td>-80.040510</td>\n",
       "      <td>186</td>\n",
       "      <td>0.155914</td>\n",
       "      <td>13.638182</td>\n",
       "    </tr>\n",
       "    <tr>\n",
       "      <th>61</th>\n",
       "      <td>CID</td>\n",
       "      <td>41.884590</td>\n",
       "      <td>-91.710870</td>\n",
       "      <td>109</td>\n",
       "      <td>0.192661</td>\n",
       "      <td>10.440307</td>\n",
       "    </tr>\n",
       "    <tr>\n",
       "      <th>62</th>\n",
       "      <td>CIU</td>\n",
       "      <td>46.250750</td>\n",
       "      <td>-84.472390</td>\n",
       "      <td>10</td>\n",
       "      <td>0.100000</td>\n",
       "      <td>3.162278</td>\n",
       "    </tr>\n",
       "    <tr>\n",
       "      <th>63</th>\n",
       "      <td>CLD</td>\n",
       "      <td>33.127230</td>\n",
       "      <td>-117.278730</td>\n",
       "      <td>9</td>\n",
       "      <td>0.222222</td>\n",
       "      <td>3.000000</td>\n",
       "    </tr>\n",
       "    <tr>\n",
       "      <th>64</th>\n",
       "      <td>CLE</td>\n",
       "      <td>41.410890</td>\n",
       "      <td>-81.849400</td>\n",
       "      <td>591</td>\n",
       "      <td>0.152284</td>\n",
       "      <td>24.310492</td>\n",
       "    </tr>\n",
       "    <tr>\n",
       "      <th>65</th>\n",
       "      <td>CLL</td>\n",
       "      <td>30.588590</td>\n",
       "      <td>-96.363820</td>\n",
       "      <td>36</td>\n",
       "      <td>0.138889</td>\n",
       "      <td>6.000000</td>\n",
       "    </tr>\n",
       "    <tr>\n",
       "      <th>66</th>\n",
       "      <td>CLT</td>\n",
       "      <td>35.214010</td>\n",
       "      <td>-80.943130</td>\n",
       "      <td>1733</td>\n",
       "      <td>0.210617</td>\n",
       "      <td>41.629317</td>\n",
       "    </tr>\n",
       "    <tr>\n",
       "      <th>67</th>\n",
       "      <td>CMH</td>\n",
       "      <td>39.997990</td>\n",
       "      <td>-82.891880</td>\n",
       "      <td>381</td>\n",
       "      <td>0.160105</td>\n",
       "      <td>19.519221</td>\n",
       "    </tr>\n",
       "    <tr>\n",
       "      <th>68</th>\n",
       "      <td>CMI</td>\n",
       "      <td>40.039250</td>\n",
       "      <td>-88.278060</td>\n",
       "      <td>33</td>\n",
       "      <td>0.030303</td>\n",
       "      <td>5.744563</td>\n",
       "    </tr>\n",
       "    <tr>\n",
       "      <th>69</th>\n",
       "      <td>CMX</td>\n",
       "      <td>47.168420</td>\n",
       "      <td>-88.489060</td>\n",
       "      <td>11</td>\n",
       "      <td>0.000000</td>\n",
       "      <td>3.316625</td>\n",
       "    </tr>\n",
       "    <tr>\n",
       "      <th>70</th>\n",
       "      <td>CNY</td>\n",
       "      <td>38.754960</td>\n",
       "      <td>-109.754840</td>\n",
       "      <td>3</td>\n",
       "      <td>0.000000</td>\n",
       "      <td>1.732051</td>\n",
       "    </tr>\n",
       "    <tr>\n",
       "      <th>71</th>\n",
       "      <td>COD</td>\n",
       "      <td>44.520190</td>\n",
       "      <td>-109.023800</td>\n",
       "      <td>11</td>\n",
       "      <td>0.090909</td>\n",
       "      <td>3.316625</td>\n",
       "    </tr>\n",
       "    <tr>\n",
       "      <th>72</th>\n",
       "      <td>COS</td>\n",
       "      <td>38.805810</td>\n",
       "      <td>-104.700250</td>\n",
       "      <td>109</td>\n",
       "      <td>0.192661</td>\n",
       "      <td>10.440307</td>\n",
       "    </tr>\n",
       "    <tr>\n",
       "      <th>73</th>\n",
       "      <td>COU</td>\n",
       "      <td>38.818090</td>\n",
       "      <td>-92.219630</td>\n",
       "      <td>27</td>\n",
       "      <td>0.185185</td>\n",
       "      <td>5.196152</td>\n",
       "    </tr>\n",
       "    <tr>\n",
       "      <th>74</th>\n",
       "      <td>CPR</td>\n",
       "      <td>42.908360</td>\n",
       "      <td>-106.464470</td>\n",
       "      <td>38</td>\n",
       "      <td>0.131579</td>\n",
       "      <td>6.164414</td>\n",
       "    </tr>\n",
       "    <tr>\n",
       "      <th>75</th>\n",
       "      <td>CRP</td>\n",
       "      <td>27.770360</td>\n",
       "      <td>-97.501220</td>\n",
       "      <td>86</td>\n",
       "      <td>0.139535</td>\n",
       "      <td>9.273618</td>\n",
       "    </tr>\n",
       "    <tr>\n",
       "      <th>76</th>\n",
       "      <td>CRW</td>\n",
       "      <td>38.373150</td>\n",
       "      <td>-81.593190</td>\n",
       "      <td>48</td>\n",
       "      <td>0.250000</td>\n",
       "      <td>6.928203</td>\n",
       "    </tr>\n",
       "    <tr>\n",
       "      <th>77</th>\n",
       "      <td>CSG</td>\n",
       "      <td>32.516330</td>\n",
       "      <td>-84.938860</td>\n",
       "      <td>12</td>\n",
       "      <td>0.166667</td>\n",
       "      <td>3.464102</td>\n",
       "    </tr>\n",
       "    <tr>\n",
       "      <th>78</th>\n",
       "      <td>CVG</td>\n",
       "      <td>39.046140</td>\n",
       "      <td>-84.662170</td>\n",
       "      <td>342</td>\n",
       "      <td>0.172515</td>\n",
       "      <td>18.493242</td>\n",
       "    </tr>\n",
       "    <tr>\n",
       "      <th>79</th>\n",
       "      <td>CWA</td>\n",
       "      <td>44.777620</td>\n",
       "      <td>-89.666780</td>\n",
       "      <td>12</td>\n",
       "      <td>0.083333</td>\n",
       "      <td>3.464102</td>\n",
       "    </tr>\n",
       "    <tr>\n",
       "      <th>80</th>\n",
       "      <td>DAB</td>\n",
       "      <td>29.179920</td>\n",
       "      <td>-81.058060</td>\n",
       "      <td>24</td>\n",
       "      <td>0.125000</td>\n",
       "      <td>4.898979</td>\n",
       "    </tr>\n",
       "    <tr>\n",
       "      <th>81</th>\n",
       "      <td>DAL</td>\n",
       "      <td>32.847110</td>\n",
       "      <td>-96.851770</td>\n",
       "      <td>1035</td>\n",
       "      <td>0.200000</td>\n",
       "      <td>32.171416</td>\n",
       "    </tr>\n",
       "    <tr>\n",
       "      <th>82</th>\n",
       "      <td>DAY</td>\n",
       "      <td>39.902380</td>\n",
       "      <td>-84.219380</td>\n",
       "      <td>163</td>\n",
       "      <td>0.165644</td>\n",
       "      <td>12.767145</td>\n",
       "    </tr>\n",
       "    <tr>\n",
       "      <th>83</th>\n",
       "      <td>DBQ</td>\n",
       "      <td>42.402960</td>\n",
       "      <td>-90.709170</td>\n",
       "      <td>12</td>\n",
       "      <td>0.166667</td>\n",
       "      <td>3.464102</td>\n",
       "    </tr>\n",
       "    <tr>\n",
       "      <th>84</th>\n",
       "      <td>DCA</td>\n",
       "      <td>38.852080</td>\n",
       "      <td>-77.037720</td>\n",
       "      <td>1262</td>\n",
       "      <td>0.192552</td>\n",
       "      <td>35.524639</td>\n",
       "    </tr>\n",
       "    <tr>\n",
       "      <th>85</th>\n",
       "      <td>DEN</td>\n",
       "      <td>39.858410</td>\n",
       "      <td>-104.667000</td>\n",
       "      <td>3328</td>\n",
       "      <td>0.214543</td>\n",
       "      <td>57.688820</td>\n",
       "    </tr>\n",
       "    <tr>\n",
       "      <th>86</th>\n",
       "      <td>DFW</td>\n",
       "      <td>32.895950</td>\n",
       "      <td>-97.037200</td>\n",
       "      <td>4035</td>\n",
       "      <td>0.208178</td>\n",
       "      <td>63.521650</td>\n",
       "    </tr>\n",
       "    <tr>\n",
       "      <th>87</th>\n",
       "      <td>DHN</td>\n",
       "      <td>31.321340</td>\n",
       "      <td>-85.449630</td>\n",
       "      <td>22</td>\n",
       "      <td>0.272727</td>\n",
       "      <td>4.690416</td>\n",
       "    </tr>\n",
       "    <tr>\n",
       "      <th>88</th>\n",
       "      <td>DIK</td>\n",
       "      <td>46.797390</td>\n",
       "      <td>-102.801950</td>\n",
       "      <td>14</td>\n",
       "      <td>0.285714</td>\n",
       "      <td>3.741657</td>\n",
       "    </tr>\n",
       "    <tr>\n",
       "      <th>89</th>\n",
       "      <td>DLG</td>\n",
       "      <td>59.045410</td>\n",
       "      <td>-158.503340</td>\n",
       "      <td>1</td>\n",
       "      <td>0.000000</td>\n",
       "      <td>1.000000</td>\n",
       "    </tr>\n",
       "    <tr>\n",
       "      <th>90</th>\n",
       "      <td>DLH</td>\n",
       "      <td>46.842090</td>\n",
       "      <td>-92.193650</td>\n",
       "      <td>30</td>\n",
       "      <td>0.200000</td>\n",
       "      <td>5.477226</td>\n",
       "    </tr>\n",
       "    <tr>\n",
       "      <th>91</th>\n",
       "      <td>DRO</td>\n",
       "      <td>37.151520</td>\n",
       "      <td>-107.753770</td>\n",
       "      <td>42</td>\n",
       "      <td>0.190476</td>\n",
       "      <td>6.480741</td>\n",
       "    </tr>\n",
       "    <tr>\n",
       "      <th>92</th>\n",
       "      <td>DSM</td>\n",
       "      <td>41.534930</td>\n",
       "      <td>-93.660680</td>\n",
       "      <td>127</td>\n",
       "      <td>0.181102</td>\n",
       "      <td>11.269428</td>\n",
       "    </tr>\n",
       "    <tr>\n",
       "      <th>93</th>\n",
       "      <td>DTW</td>\n",
       "      <td>42.212060</td>\n",
       "      <td>-83.348840</td>\n",
       "      <td>1869</td>\n",
       "      <td>0.176565</td>\n",
       "      <td>43.231933</td>\n",
       "    </tr>\n",
       "    <tr>\n",
       "      <th>94</th>\n",
       "      <td>DVL</td>\n",
       "      <td>48.114250</td>\n",
       "      <td>-98.908780</td>\n",
       "      <td>11</td>\n",
       "      <td>0.272727</td>\n",
       "      <td>3.316625</td>\n",
       "    </tr>\n",
       "    <tr>\n",
       "      <th>95</th>\n",
       "      <td>EAU</td>\n",
       "      <td>44.865260</td>\n",
       "      <td>-91.485070</td>\n",
       "      <td>12</td>\n",
       "      <td>0.000000</td>\n",
       "      <td>3.464102</td>\n",
       "    </tr>\n",
       "    <tr>\n",
       "      <th>96</th>\n",
       "      <td>ECP</td>\n",
       "      <td>30.357824</td>\n",
       "      <td>-85.795985</td>\n",
       "      <td>64</td>\n",
       "      <td>0.203125</td>\n",
       "      <td>8.000000</td>\n",
       "    </tr>\n",
       "    <tr>\n",
       "      <th>97</th>\n",
       "      <td>EGE</td>\n",
       "      <td>39.642570</td>\n",
       "      <td>-106.917700</td>\n",
       "      <td>26</td>\n",
       "      <td>0.192308</td>\n",
       "      <td>5.099020</td>\n",
       "    </tr>\n",
       "    <tr>\n",
       "      <th>98</th>\n",
       "      <td>EKO</td>\n",
       "      <td>40.824930</td>\n",
       "      <td>-115.791700</td>\n",
       "      <td>6</td>\n",
       "      <td>0.166667</td>\n",
       "      <td>2.449490</td>\n",
       "    </tr>\n",
       "    <tr>\n",
       "      <th>99</th>\n",
       "      <td>ELM</td>\n",
       "      <td>42.159910</td>\n",
       "      <td>-76.891440</td>\n",
       "      <td>39</td>\n",
       "      <td>0.128205</td>\n",
       "      <td>6.244998</td>\n",
       "    </tr>\n",
       "    <tr>\n",
       "      <th>100</th>\n",
       "      <td>ELP</td>\n",
       "      <td>31.806670</td>\n",
       "      <td>-106.377810</td>\n",
       "      <td>217</td>\n",
       "      <td>0.202765</td>\n",
       "      <td>14.730920</td>\n",
       "    </tr>\n",
       "    <tr>\n",
       "      <th>101</th>\n",
       "      <td>ERI</td>\n",
       "      <td>42.082020</td>\n",
       "      <td>-80.176220</td>\n",
       "      <td>7</td>\n",
       "      <td>0.142857</td>\n",
       "      <td>2.645751</td>\n",
       "    </tr>\n",
       "    <tr>\n",
       "      <th>102</th>\n",
       "      <td>ESC</td>\n",
       "      <td>45.722670</td>\n",
       "      <td>-87.093730</td>\n",
       "      <td>10</td>\n",
       "      <td>0.200000</td>\n",
       "      <td>3.162278</td>\n",
       "    </tr>\n",
       "    <tr>\n",
       "      <th>103</th>\n",
       "      <td>EUG</td>\n",
       "      <td>44.123260</td>\n",
       "      <td>-123.218690</td>\n",
       "      <td>78</td>\n",
       "      <td>0.205128</td>\n",
       "      <td>8.831761</td>\n",
       "    </tr>\n",
       "    <tr>\n",
       "      <th>104</th>\n",
       "      <td>EVV</td>\n",
       "      <td>38.037990</td>\n",
       "      <td>-87.530630</td>\n",
       "      <td>73</td>\n",
       "      <td>0.205479</td>\n",
       "      <td>8.544004</td>\n",
       "    </tr>\n",
       "    <tr>\n",
       "      <th>105</th>\n",
       "      <td>EWN</td>\n",
       "      <td>35.072970</td>\n",
       "      <td>-77.042940</td>\n",
       "      <td>12</td>\n",
       "      <td>0.000000</td>\n",
       "      <td>3.464102</td>\n",
       "    </tr>\n",
       "    <tr>\n",
       "      <th>106</th>\n",
       "      <td>EWR</td>\n",
       "      <td>40.692500</td>\n",
       "      <td>-74.168660</td>\n",
       "      <td>1830</td>\n",
       "      <td>0.223497</td>\n",
       "      <td>42.778499</td>\n",
       "    </tr>\n",
       "    <tr>\n",
       "      <th>107</th>\n",
       "      <td>EYW</td>\n",
       "      <td>24.556110</td>\n",
       "      <td>-81.759560</td>\n",
       "      <td>44</td>\n",
       "      <td>0.204545</td>\n",
       "      <td>6.633250</td>\n",
       "    </tr>\n",
       "    <tr>\n",
       "      <th>108</th>\n",
       "      <td>FAI</td>\n",
       "      <td>64.813680</td>\n",
       "      <td>-147.859670</td>\n",
       "      <td>34</td>\n",
       "      <td>0.205882</td>\n",
       "      <td>5.830952</td>\n",
       "    </tr>\n",
       "    <tr>\n",
       "      <th>109</th>\n",
       "      <td>FAR</td>\n",
       "      <td>46.919350</td>\n",
       "      <td>-96.814990</td>\n",
       "      <td>104</td>\n",
       "      <td>0.240385</td>\n",
       "      <td>10.198039</td>\n",
       "    </tr>\n",
       "    <tr>\n",
       "      <th>110</th>\n",
       "      <td>FAT</td>\n",
       "      <td>36.776190</td>\n",
       "      <td>-119.718140</td>\n",
       "      <td>120</td>\n",
       "      <td>0.175000</td>\n",
       "      <td>10.954451</td>\n",
       "    </tr>\n",
       "    <tr>\n",
       "      <th>111</th>\n",
       "      <td>FAY</td>\n",
       "      <td>34.991470</td>\n",
       "      <td>-78.880000</td>\n",
       "      <td>32</td>\n",
       "      <td>0.187500</td>\n",
       "      <td>5.656854</td>\n",
       "    </tr>\n",
       "    <tr>\n",
       "      <th>112</th>\n",
       "      <td>FCA</td>\n",
       "      <td>48.311400</td>\n",
       "      <td>-114.255070</td>\n",
       "      <td>34</td>\n",
       "      <td>0.176471</td>\n",
       "      <td>5.830952</td>\n",
       "    </tr>\n",
       "    <tr>\n",
       "      <th>113</th>\n",
       "      <td>FLG</td>\n",
       "      <td>35.138450</td>\n",
       "      <td>-111.671220</td>\n",
       "      <td>36</td>\n",
       "      <td>0.083333</td>\n",
       "      <td>6.000000</td>\n",
       "    </tr>\n",
       "    <tr>\n",
       "      <th>114</th>\n",
       "      <td>FLL</td>\n",
       "      <td>26.072580</td>\n",
       "      <td>-80.152750</td>\n",
       "      <td>1298</td>\n",
       "      <td>0.173344</td>\n",
       "      <td>36.027767</td>\n",
       "    </tr>\n",
       "    <tr>\n",
       "      <th>115</th>\n",
       "      <td>FNT</td>\n",
       "      <td>42.965500</td>\n",
       "      <td>-83.743460</td>\n",
       "      <td>91</td>\n",
       "      <td>0.109890</td>\n",
       "      <td>9.539392</td>\n",
       "    </tr>\n",
       "    <tr>\n",
       "      <th>116</th>\n",
       "      <td>FSD</td>\n",
       "      <td>43.581350</td>\n",
       "      <td>-96.741700</td>\n",
       "      <td>85</td>\n",
       "      <td>0.235294</td>\n",
       "      <td>9.219544</td>\n",
       "    </tr>\n",
       "    <tr>\n",
       "      <th>117</th>\n",
       "      <td>FSM</td>\n",
       "      <td>35.336590</td>\n",
       "      <td>-94.367440</td>\n",
       "      <td>48</td>\n",
       "      <td>0.291667</td>\n",
       "      <td>6.928203</td>\n",
       "    </tr>\n",
       "    <tr>\n",
       "      <th>118</th>\n",
       "      <td>FWA</td>\n",
       "      <td>40.978470</td>\n",
       "      <td>-85.195150</td>\n",
       "      <td>92</td>\n",
       "      <td>0.184783</td>\n",
       "      <td>9.591663</td>\n",
       "    </tr>\n",
       "    <tr>\n",
       "      <th>119</th>\n",
       "      <td>GCC</td>\n",
       "      <td>44.348900</td>\n",
       "      <td>-105.539360</td>\n",
       "      <td>20</td>\n",
       "      <td>0.150000</td>\n",
       "      <td>4.472136</td>\n",
       "    </tr>\n",
       "    <tr>\n",
       "      <th>120</th>\n",
       "      <td>GCK</td>\n",
       "      <td>37.927520</td>\n",
       "      <td>-100.724410</td>\n",
       "      <td>17</td>\n",
       "      <td>0.117647</td>\n",
       "      <td>4.123106</td>\n",
       "    </tr>\n",
       "    <tr>\n",
       "      <th>121</th>\n",
       "      <td>GEG</td>\n",
       "      <td>47.619860</td>\n",
       "      <td>-117.533840</td>\n",
       "      <td>162</td>\n",
       "      <td>0.129630</td>\n",
       "      <td>12.727922</td>\n",
       "    </tr>\n",
       "    <tr>\n",
       "      <th>122</th>\n",
       "      <td>GFK</td>\n",
       "      <td>47.949260</td>\n",
       "      <td>-97.176110</td>\n",
       "      <td>11</td>\n",
       "      <td>0.363636</td>\n",
       "      <td>3.316625</td>\n",
       "    </tr>\n",
       "    <tr>\n",
       "      <th>123</th>\n",
       "      <td>GGG</td>\n",
       "      <td>32.384860</td>\n",
       "      <td>-94.711710</td>\n",
       "      <td>10</td>\n",
       "      <td>0.100000</td>\n",
       "      <td>3.162278</td>\n",
       "    </tr>\n",
       "    <tr>\n",
       "      <th>124</th>\n",
       "      <td>GJT</td>\n",
       "      <td>39.122410</td>\n",
       "      <td>-108.526730</td>\n",
       "      <td>48</td>\n",
       "      <td>0.104167</td>\n",
       "      <td>6.928203</td>\n",
       "    </tr>\n",
       "    <tr>\n",
       "      <th>125</th>\n",
       "      <td>GNV</td>\n",
       "      <td>29.690060</td>\n",
       "      <td>-82.271780</td>\n",
       "      <td>54</td>\n",
       "      <td>0.222222</td>\n",
       "      <td>7.348469</td>\n",
       "    </tr>\n",
       "    <tr>\n",
       "      <th>126</th>\n",
       "      <td>GPT</td>\n",
       "      <td>30.407280</td>\n",
       "      <td>-89.070090</td>\n",
       "      <td>56</td>\n",
       "      <td>0.160714</td>\n",
       "      <td>7.483315</td>\n",
       "    </tr>\n",
       "    <tr>\n",
       "      <th>127</th>\n",
       "      <td>GRB</td>\n",
       "      <td>44.485070</td>\n",
       "      <td>-88.129590</td>\n",
       "      <td>82</td>\n",
       "      <td>0.158537</td>\n",
       "      <td>9.055385</td>\n",
       "    </tr>\n",
       "    <tr>\n",
       "      <th>128</th>\n",
       "      <td>GRI</td>\n",
       "      <td>40.967470</td>\n",
       "      <td>-98.308610</td>\n",
       "      <td>15</td>\n",
       "      <td>0.133333</td>\n",
       "      <td>3.872983</td>\n",
       "    </tr>\n",
       "    <tr>\n",
       "      <th>129</th>\n",
       "      <td>GRK</td>\n",
       "      <td>31.064900</td>\n",
       "      <td>-97.827800</td>\n",
       "      <td>63</td>\n",
       "      <td>0.174603</td>\n",
       "      <td>7.937254</td>\n",
       "    </tr>\n",
       "    <tr>\n",
       "      <th>130</th>\n",
       "      <td>GRR</td>\n",
       "      <td>42.880820</td>\n",
       "      <td>-85.522770</td>\n",
       "      <td>173</td>\n",
       "      <td>0.150289</td>\n",
       "      <td>13.152946</td>\n",
       "    </tr>\n",
       "    <tr>\n",
       "      <th>131</th>\n",
       "      <td>GSO</td>\n",
       "      <td>36.097750</td>\n",
       "      <td>-79.937300</td>\n",
       "      <td>108</td>\n",
       "      <td>0.157407</td>\n",
       "      <td>10.392305</td>\n",
       "    </tr>\n",
       "    <tr>\n",
       "      <th>132</th>\n",
       "      <td>GSP</td>\n",
       "      <td>34.895670</td>\n",
       "      <td>-82.218860</td>\n",
       "      <td>123</td>\n",
       "      <td>0.154472</td>\n",
       "      <td>11.090537</td>\n",
       "    </tr>\n",
       "    <tr>\n",
       "      <th>133</th>\n",
       "      <td>GTF</td>\n",
       "      <td>47.482000</td>\n",
       "      <td>-111.370690</td>\n",
       "      <td>26</td>\n",
       "      <td>0.115385</td>\n",
       "      <td>5.099020</td>\n",
       "    </tr>\n",
       "    <tr>\n",
       "      <th>134</th>\n",
       "      <td>GTR</td>\n",
       "      <td>33.450330</td>\n",
       "      <td>-88.591370</td>\n",
       "      <td>13</td>\n",
       "      <td>0.076923</td>\n",
       "      <td>3.605551</td>\n",
       "    </tr>\n",
       "    <tr>\n",
       "      <th>135</th>\n",
       "      <td>GUC</td>\n",
       "      <td>38.533960</td>\n",
       "      <td>-106.933180</td>\n",
       "      <td>6</td>\n",
       "      <td>0.166667</td>\n",
       "      <td>2.449490</td>\n",
       "    </tr>\n",
       "    <tr>\n",
       "      <th>136</th>\n",
       "      <td>GUM</td>\n",
       "      <td>13.483450</td>\n",
       "      <td>-144.795980</td>\n",
       "      <td>10</td>\n",
       "      <td>0.000000</td>\n",
       "      <td>3.162278</td>\n",
       "    </tr>\n",
       "    <tr>\n",
       "      <th>137</th>\n",
       "      <td>HDN</td>\n",
       "      <td>40.481180</td>\n",
       "      <td>-107.217660</td>\n",
       "      <td>8</td>\n",
       "      <td>0.125000</td>\n",
       "      <td>2.828427</td>\n",
       "    </tr>\n",
       "    <tr>\n",
       "      <th>138</th>\n",
       "      <td>HIB</td>\n",
       "      <td>47.386600</td>\n",
       "      <td>-92.838990</td>\n",
       "      <td>27</td>\n",
       "      <td>0.222222</td>\n",
       "      <td>5.196152</td>\n",
       "    </tr>\n",
       "    <tr>\n",
       "      <th>139</th>\n",
       "      <td>HLN</td>\n",
       "      <td>46.606820</td>\n",
       "      <td>-111.982750</td>\n",
       "      <td>34</td>\n",
       "      <td>0.088235</td>\n",
       "      <td>5.830952</td>\n",
       "    </tr>\n",
       "    <tr>\n",
       "      <th>140</th>\n",
       "      <td>HNL</td>\n",
       "      <td>21.318690</td>\n",
       "      <td>-157.922410</td>\n",
       "      <td>776</td>\n",
       "      <td>0.123711</td>\n",
       "      <td>27.856777</td>\n",
       "    </tr>\n",
       "    <tr>\n",
       "      <th>141</th>\n",
       "      <td>HOB</td>\n",
       "      <td>32.687530</td>\n",
       "      <td>-103.217030</td>\n",
       "      <td>12</td>\n",
       "      <td>0.166667</td>\n",
       "      <td>3.464102</td>\n",
       "    </tr>\n",
       "    <tr>\n",
       "      <th>142</th>\n",
       "      <td>HOU</td>\n",
       "      <td>29.645420</td>\n",
       "      <td>-95.278890</td>\n",
       "      <td>872</td>\n",
       "      <td>0.213303</td>\n",
       "      <td>29.529646</td>\n",
       "    </tr>\n",
       "    <tr>\n",
       "      <th>143</th>\n",
       "      <td>HPN</td>\n",
       "      <td>41.066960</td>\n",
       "      <td>-73.707570</td>\n",
       "      <td>145</td>\n",
       "      <td>0.255172</td>\n",
       "      <td>12.041595</td>\n",
       "    </tr>\n",
       "    <tr>\n",
       "      <th>144</th>\n",
       "      <td>HRL</td>\n",
       "      <td>26.228510</td>\n",
       "      <td>-97.654390</td>\n",
       "      <td>51</td>\n",
       "      <td>0.196078</td>\n",
       "      <td>7.141428</td>\n",
       "    </tr>\n",
       "    <tr>\n",
       "      <th>145</th>\n",
       "      <td>HSV</td>\n",
       "      <td>34.640450</td>\n",
       "      <td>-86.773110</td>\n",
       "      <td>58</td>\n",
       "      <td>0.103448</td>\n",
       "      <td>7.615773</td>\n",
       "    </tr>\n",
       "    <tr>\n",
       "      <th>146</th>\n",
       "      <td>HYA</td>\n",
       "      <td>41.669340</td>\n",
       "      <td>-70.280360</td>\n",
       "      <td>2</td>\n",
       "      <td>0.500000</td>\n",
       "      <td>1.414214</td>\n",
       "    </tr>\n",
       "    <tr>\n",
       "      <th>147</th>\n",
       "      <td>HYS</td>\n",
       "      <td>38.844940</td>\n",
       "      <td>-99.274030</td>\n",
       "      <td>9</td>\n",
       "      <td>0.333333</td>\n",
       "      <td>3.000000</td>\n",
       "    </tr>\n",
       "    <tr>\n",
       "      <th>148</th>\n",
       "      <td>IAD</td>\n",
       "      <td>38.944530</td>\n",
       "      <td>-77.455810</td>\n",
       "      <td>630</td>\n",
       "      <td>0.207937</td>\n",
       "      <td>25.099801</td>\n",
       "    </tr>\n",
       "    <tr>\n",
       "      <th>149</th>\n",
       "      <td>IAG</td>\n",
       "      <td>43.107260</td>\n",
       "      <td>-78.945380</td>\n",
       "      <td>7</td>\n",
       "      <td>0.142857</td>\n",
       "      <td>2.645751</td>\n",
       "    </tr>\n",
       "    <tr>\n",
       "      <th>150</th>\n",
       "      <td>IAH</td>\n",
       "      <td>29.980470</td>\n",
       "      <td>-95.339720</td>\n",
       "      <td>2576</td>\n",
       "      <td>0.215839</td>\n",
       "      <td>50.754310</td>\n",
       "    </tr>\n",
       "    <tr>\n",
       "      <th>151</th>\n",
       "      <td>ICT</td>\n",
       "      <td>37.649960</td>\n",
       "      <td>-97.433050</td>\n",
       "      <td>152</td>\n",
       "      <td>0.223684</td>\n",
       "      <td>12.328828</td>\n",
       "    </tr>\n",
       "    <tr>\n",
       "      <th>152</th>\n",
       "      <td>IDA</td>\n",
       "      <td>43.514560</td>\n",
       "      <td>-112.070170</td>\n",
       "      <td>54</td>\n",
       "      <td>0.111111</td>\n",
       "      <td>7.348469</td>\n",
       "    </tr>\n",
       "    <tr>\n",
       "      <th>153</th>\n",
       "      <td>ILG</td>\n",
       "      <td>39.678720</td>\n",
       "      <td>-75.606530</td>\n",
       "      <td>2</td>\n",
       "      <td>0.500000</td>\n",
       "      <td>1.414214</td>\n",
       "    </tr>\n",
       "    <tr>\n",
       "      <th>154</th>\n",
       "      <td>ILM</td>\n",
       "      <td>34.270610</td>\n",
       "      <td>-77.902560</td>\n",
       "      <td>38</td>\n",
       "      <td>0.210526</td>\n",
       "      <td>6.164414</td>\n",
       "    </tr>\n",
       "    <tr>\n",
       "      <th>155</th>\n",
       "      <td>IMT</td>\n",
       "      <td>45.818350</td>\n",
       "      <td>-88.114540</td>\n",
       "      <td>19</td>\n",
       "      <td>0.157895</td>\n",
       "      <td>4.358899</td>\n",
       "    </tr>\n",
       "    <tr>\n",
       "      <th>156</th>\n",
       "      <td>IND</td>\n",
       "      <td>39.717330</td>\n",
       "      <td>-86.294380</td>\n",
       "      <td>451</td>\n",
       "      <td>0.179601</td>\n",
       "      <td>21.236761</td>\n",
       "    </tr>\n",
       "    <tr>\n",
       "      <th>157</th>\n",
       "      <td>INL</td>\n",
       "      <td>48.566190</td>\n",
       "      <td>-93.403070</td>\n",
       "      <td>9</td>\n",
       "      <td>0.222222</td>\n",
       "      <td>3.000000</td>\n",
       "    </tr>\n",
       "    <tr>\n",
       "      <th>158</th>\n",
       "      <td>ISN</td>\n",
       "      <td>48.177940</td>\n",
       "      <td>-103.642350</td>\n",
       "      <td>49</td>\n",
       "      <td>0.102041</td>\n",
       "      <td>7.000000</td>\n",
       "    </tr>\n",
       "    <tr>\n",
       "      <th>159</th>\n",
       "      <td>ISP</td>\n",
       "      <td>40.795240</td>\n",
       "      <td>-73.100210</td>\n",
       "      <td>73</td>\n",
       "      <td>0.246575</td>\n",
       "      <td>8.544004</td>\n",
       "    </tr>\n",
       "    <tr>\n",
       "      <th>160</th>\n",
       "      <td>ITH</td>\n",
       "      <td>42.491030</td>\n",
       "      <td>-76.458440</td>\n",
       "      <td>2</td>\n",
       "      <td>0.500000</td>\n",
       "      <td>1.414214</td>\n",
       "    </tr>\n",
       "    <tr>\n",
       "      <th>161</th>\n",
       "      <td>ITO</td>\n",
       "      <td>19.720260</td>\n",
       "      <td>-155.048470</td>\n",
       "      <td>84</td>\n",
       "      <td>0.047619</td>\n",
       "      <td>9.165151</td>\n",
       "    </tr>\n",
       "    <tr>\n",
       "      <th>162</th>\n",
       "      <td>JAC</td>\n",
       "      <td>43.607320</td>\n",
       "      <td>-110.737740</td>\n",
       "      <td>67</td>\n",
       "      <td>0.104478</td>\n",
       "      <td>8.185353</td>\n",
       "    </tr>\n",
       "    <tr>\n",
       "      <th>163</th>\n",
       "      <td>JAN</td>\n",
       "      <td>32.311170</td>\n",
       "      <td>-90.075890</td>\n",
       "      <td>119</td>\n",
       "      <td>0.168067</td>\n",
       "      <td>10.908712</td>\n",
       "    </tr>\n",
       "    <tr>\n",
       "      <th>164</th>\n",
       "      <td>JAX</td>\n",
       "      <td>30.494060</td>\n",
       "      <td>-81.687860</td>\n",
       "      <td>292</td>\n",
       "      <td>0.119863</td>\n",
       "      <td>17.088007</td>\n",
       "    </tr>\n",
       "    <tr>\n",
       "      <th>165</th>\n",
       "      <td>JFK</td>\n",
       "      <td>40.639750</td>\n",
       "      <td>-73.778930</td>\n",
       "      <td>1582</td>\n",
       "      <td>0.224399</td>\n",
       "      <td>39.774364</td>\n",
       "    </tr>\n",
       "    <tr>\n",
       "      <th>166</th>\n",
       "      <td>JLN</td>\n",
       "      <td>37.151810</td>\n",
       "      <td>-94.498270</td>\n",
       "      <td>8</td>\n",
       "      <td>0.000000</td>\n",
       "      <td>2.828427</td>\n",
       "    </tr>\n",
       "    <tr>\n",
       "      <th>167</th>\n",
       "      <td>JMS</td>\n",
       "      <td>46.929720</td>\n",
       "      <td>-98.678200</td>\n",
       "      <td>18</td>\n",
       "      <td>0.055556</td>\n",
       "      <td>4.242641</td>\n",
       "    </tr>\n",
       "    <tr>\n",
       "      <th>168</th>\n",
       "      <td>JNU</td>\n",
       "      <td>58.354960</td>\n",
       "      <td>-134.576280</td>\n",
       "      <td>74</td>\n",
       "      <td>0.202703</td>\n",
       "      <td>8.602325</td>\n",
       "    </tr>\n",
       "    <tr>\n",
       "      <th>169</th>\n",
       "      <td>KOA</td>\n",
       "      <td>19.738770</td>\n",
       "      <td>-156.045630</td>\n",
       "      <td>201</td>\n",
       "      <td>0.119403</td>\n",
       "      <td>14.177447</td>\n",
       "    </tr>\n",
       "    <tr>\n",
       "      <th>170</th>\n",
       "      <td>KTN</td>\n",
       "      <td>55.355570</td>\n",
       "      <td>-131.713740</td>\n",
       "      <td>39</td>\n",
       "      <td>0.230769</td>\n",
       "      <td>6.244998</td>\n",
       "    </tr>\n",
       "    <tr>\n",
       "      <th>171</th>\n",
       "      <td>LAN</td>\n",
       "      <td>42.778700</td>\n",
       "      <td>-84.587360</td>\n",
       "      <td>30</td>\n",
       "      <td>0.200000</td>\n",
       "      <td>5.477226</td>\n",
       "    </tr>\n",
       "    <tr>\n",
       "      <th>172</th>\n",
       "      <td>LAR</td>\n",
       "      <td>41.312050</td>\n",
       "      <td>-105.674990</td>\n",
       "      <td>8</td>\n",
       "      <td>0.125000</td>\n",
       "      <td>2.828427</td>\n",
       "    </tr>\n",
       "    <tr>\n",
       "      <th>173</th>\n",
       "      <td>LAS</td>\n",
       "      <td>36.080360</td>\n",
       "      <td>-115.152330</td>\n",
       "      <td>2355</td>\n",
       "      <td>0.209342</td>\n",
       "      <td>48.528342</td>\n",
       "    </tr>\n",
       "    <tr>\n",
       "      <th>174</th>\n",
       "      <td>LAW</td>\n",
       "      <td>34.567710</td>\n",
       "      <td>-98.416640</td>\n",
       "      <td>25</td>\n",
       "      <td>0.160000</td>\n",
       "      <td>5.000000</td>\n",
       "    </tr>\n",
       "    <tr>\n",
       "      <th>175</th>\n",
       "      <td>LAX</td>\n",
       "      <td>33.942540</td>\n",
       "      <td>-118.408070</td>\n",
       "      <td>3311</td>\n",
       "      <td>0.207490</td>\n",
       "      <td>57.541290</td>\n",
       "    </tr>\n",
       "    <tr>\n",
       "      <th>176</th>\n",
       "      <td>LBB</td>\n",
       "      <td>33.663640</td>\n",
       "      <td>-101.822780</td>\n",
       "      <td>61</td>\n",
       "      <td>0.196721</td>\n",
       "      <td>7.810250</td>\n",
       "    </tr>\n",
       "    <tr>\n",
       "      <th>177</th>\n",
       "      <td>LBE</td>\n",
       "      <td>40.275940</td>\n",
       "      <td>-79.404800</td>\n",
       "      <td>28</td>\n",
       "      <td>0.392857</td>\n",
       "      <td>5.291503</td>\n",
       "    </tr>\n",
       "    <tr>\n",
       "      <th>178</th>\n",
       "      <td>LCH</td>\n",
       "      <td>30.126100</td>\n",
       "      <td>-93.223400</td>\n",
       "      <td>32</td>\n",
       "      <td>0.156250</td>\n",
       "      <td>5.656854</td>\n",
       "    </tr>\n",
       "    <tr>\n",
       "      <th>179</th>\n",
       "      <td>LEX</td>\n",
       "      <td>38.036970</td>\n",
       "      <td>-84.605390</td>\n",
       "      <td>98</td>\n",
       "      <td>0.183673</td>\n",
       "      <td>9.899495</td>\n",
       "    </tr>\n",
       "    <tr>\n",
       "      <th>180</th>\n",
       "      <td>LFT</td>\n",
       "      <td>30.205280</td>\n",
       "      <td>-91.987660</td>\n",
       "      <td>98</td>\n",
       "      <td>0.183673</td>\n",
       "      <td>9.899495</td>\n",
       "    </tr>\n",
       "    <tr>\n",
       "      <th>181</th>\n",
       "      <td>LGA</td>\n",
       "      <td>40.777240</td>\n",
       "      <td>-73.872610</td>\n",
       "      <td>1646</td>\n",
       "      <td>0.233293</td>\n",
       "      <td>40.570926</td>\n",
       "    </tr>\n",
       "    <tr>\n",
       "      <th>182</th>\n",
       "      <td>LGB</td>\n",
       "      <td>33.817720</td>\n",
       "      <td>-118.151610</td>\n",
       "      <td>166</td>\n",
       "      <td>0.204819</td>\n",
       "      <td>12.884099</td>\n",
       "    </tr>\n",
       "    <tr>\n",
       "      <th>183</th>\n",
       "      <td>LIH</td>\n",
       "      <td>21.975980</td>\n",
       "      <td>-159.338960</td>\n",
       "      <td>187</td>\n",
       "      <td>0.101604</td>\n",
       "      <td>13.674794</td>\n",
       "    </tr>\n",
       "    <tr>\n",
       "      <th>184</th>\n",
       "      <td>LIT</td>\n",
       "      <td>34.729400</td>\n",
       "      <td>-92.224250</td>\n",
       "      <td>194</td>\n",
       "      <td>0.211340</td>\n",
       "      <td>13.928388</td>\n",
       "    </tr>\n",
       "    <tr>\n",
       "      <th>185</th>\n",
       "      <td>LNK</td>\n",
       "      <td>40.850970</td>\n",
       "      <td>-96.759250</td>\n",
       "      <td>46</td>\n",
       "      <td>0.108696</td>\n",
       "      <td>6.782330</td>\n",
       "    </tr>\n",
       "    <tr>\n",
       "      <th>186</th>\n",
       "      <td>LRD</td>\n",
       "      <td>27.543740</td>\n",
       "      <td>-99.461540</td>\n",
       "      <td>41</td>\n",
       "      <td>0.097561</td>\n",
       "      <td>6.403124</td>\n",
       "    </tr>\n",
       "    <tr>\n",
       "      <th>187</th>\n",
       "      <td>LSE</td>\n",
       "      <td>43.879380</td>\n",
       "      <td>-91.256540</td>\n",
       "      <td>24</td>\n",
       "      <td>0.125000</td>\n",
       "      <td>4.898979</td>\n",
       "    </tr>\n",
       "    <tr>\n",
       "      <th>188</th>\n",
       "      <td>LWS</td>\n",
       "      <td>46.374500</td>\n",
       "      <td>-117.015390</td>\n",
       "      <td>12</td>\n",
       "      <td>0.083333</td>\n",
       "      <td>3.464102</td>\n",
       "    </tr>\n",
       "    <tr>\n",
       "      <th>189</th>\n",
       "      <td>MAF</td>\n",
       "      <td>31.942530</td>\n",
       "      <td>-102.201910</td>\n",
       "      <td>144</td>\n",
       "      <td>0.201389</td>\n",
       "      <td>12.000000</td>\n",
       "    </tr>\n",
       "    <tr>\n",
       "      <th>190</th>\n",
       "      <td>MBS</td>\n",
       "      <td>43.532910</td>\n",
       "      <td>-84.079650</td>\n",
       "      <td>29</td>\n",
       "      <td>0.206897</td>\n",
       "      <td>5.385165</td>\n",
       "    </tr>\n",
       "    <tr>\n",
       "      <th>191</th>\n",
       "      <td>MCI</td>\n",
       "      <td>39.297610</td>\n",
       "      <td>-94.713910</td>\n",
       "      <td>680</td>\n",
       "      <td>0.167647</td>\n",
       "      <td>26.076810</td>\n",
       "    </tr>\n",
       "    <tr>\n",
       "      <th>192</th>\n",
       "      <td>MCO</td>\n",
       "      <td>28.428890</td>\n",
       "      <td>-81.316030</td>\n",
       "      <td>1923</td>\n",
       "      <td>0.198128</td>\n",
       "      <td>43.852024</td>\n",
       "    </tr>\n",
       "    <tr>\n",
       "      <th>193</th>\n",
       "      <td>MDT</td>\n",
       "      <td>40.193500</td>\n",
       "      <td>-76.763400</td>\n",
       "      <td>76</td>\n",
       "      <td>0.131579</td>\n",
       "      <td>8.717798</td>\n",
       "    </tr>\n",
       "    <tr>\n",
       "      <th>194</th>\n",
       "      <td>MDW</td>\n",
       "      <td>41.785980</td>\n",
       "      <td>-87.752420</td>\n",
       "      <td>1354</td>\n",
       "      <td>0.219350</td>\n",
       "      <td>36.796739</td>\n",
       "    </tr>\n",
       "    <tr>\n",
       "      <th>195</th>\n",
       "      <td>MEI</td>\n",
       "      <td>32.333130</td>\n",
       "      <td>-88.751210</td>\n",
       "      <td>18</td>\n",
       "      <td>0.277778</td>\n",
       "      <td>4.242641</td>\n",
       "    </tr>\n",
       "    <tr>\n",
       "      <th>196</th>\n",
       "      <td>MEM</td>\n",
       "      <td>35.042420</td>\n",
       "      <td>-89.976670</td>\n",
       "      <td>269</td>\n",
       "      <td>0.178439</td>\n",
       "      <td>16.401219</td>\n",
       "    </tr>\n",
       "    <tr>\n",
       "      <th>197</th>\n",
       "      <td>MFE</td>\n",
       "      <td>26.175830</td>\n",
       "      <td>-98.238610</td>\n",
       "      <td>53</td>\n",
       "      <td>0.169811</td>\n",
       "      <td>7.280110</td>\n",
       "    </tr>\n",
       "    <tr>\n",
       "      <th>198</th>\n",
       "      <td>MFR</td>\n",
       "      <td>42.374230</td>\n",
       "      <td>-122.873500</td>\n",
       "      <td>43</td>\n",
       "      <td>0.232558</td>\n",
       "      <td>6.557439</td>\n",
       "    </tr>\n",
       "    <tr>\n",
       "      <th>199</th>\n",
       "      <td>MGM</td>\n",
       "      <td>32.300640</td>\n",
       "      <td>-86.393980</td>\n",
       "      <td>67</td>\n",
       "      <td>0.119403</td>\n",
       "      <td>8.185353</td>\n",
       "    </tr>\n",
       "    <tr>\n",
       "      <th>200</th>\n",
       "      <td>MHK</td>\n",
       "      <td>39.140970</td>\n",
       "      <td>-96.670830</td>\n",
       "      <td>24</td>\n",
       "      <td>0.166667</td>\n",
       "      <td>4.898979</td>\n",
       "    </tr>\n",
       "    <tr>\n",
       "      <th>201</th>\n",
       "      <td>MHT</td>\n",
       "      <td>42.934520</td>\n",
       "      <td>-71.437060</td>\n",
       "      <td>94</td>\n",
       "      <td>0.127660</td>\n",
       "      <td>9.695360</td>\n",
       "    </tr>\n",
       "    <tr>\n",
       "      <th>202</th>\n",
       "      <td>MIA</td>\n",
       "      <td>25.793250</td>\n",
       "      <td>-80.290560</td>\n",
       "      <td>1116</td>\n",
       "      <td>0.231183</td>\n",
       "      <td>33.406586</td>\n",
       "    </tr>\n",
       "    <tr>\n",
       "      <th>203</th>\n",
       "      <td>MKE</td>\n",
       "      <td>42.947220</td>\n",
       "      <td>-87.896580</td>\n",
       "      <td>521</td>\n",
       "      <td>0.161228</td>\n",
       "      <td>22.825424</td>\n",
       "    </tr>\n",
       "    <tr>\n",
       "      <th>204</th>\n",
       "      <td>MKG</td>\n",
       "      <td>43.169490</td>\n",
       "      <td>-86.238220</td>\n",
       "      <td>10</td>\n",
       "      <td>0.100000</td>\n",
       "      <td>3.162278</td>\n",
       "    </tr>\n",
       "    <tr>\n",
       "      <th>205</th>\n",
       "      <td>MLB</td>\n",
       "      <td>28.102750</td>\n",
       "      <td>-80.645810</td>\n",
       "      <td>23</td>\n",
       "      <td>0.086957</td>\n",
       "      <td>4.795832</td>\n",
       "    </tr>\n",
       "    <tr>\n",
       "      <th>206</th>\n",
       "      <td>MLI</td>\n",
       "      <td>41.448530</td>\n",
       "      <td>-90.507540</td>\n",
       "      <td>52</td>\n",
       "      <td>0.250000</td>\n",
       "      <td>7.211103</td>\n",
       "    </tr>\n",
       "    <tr>\n",
       "      <th>207</th>\n",
       "      <td>MLU</td>\n",
       "      <td>32.510870</td>\n",
       "      <td>-92.037690</td>\n",
       "      <td>66</td>\n",
       "      <td>0.121212</td>\n",
       "      <td>8.124038</td>\n",
       "    </tr>\n",
       "    <tr>\n",
       "      <th>208</th>\n",
       "      <td>MMH</td>\n",
       "      <td>37.624050</td>\n",
       "      <td>-118.837770</td>\n",
       "      <td>2</td>\n",
       "      <td>0.500000</td>\n",
       "      <td>1.414214</td>\n",
       "    </tr>\n",
       "    <tr>\n",
       "      <th>209</th>\n",
       "      <td>MOB</td>\n",
       "      <td>30.691420</td>\n",
       "      <td>-88.242830</td>\n",
       "      <td>79</td>\n",
       "      <td>0.113924</td>\n",
       "      <td>8.888194</td>\n",
       "    </tr>\n",
       "    <tr>\n",
       "      <th>210</th>\n",
       "      <td>MOT</td>\n",
       "      <td>48.259380</td>\n",
       "      <td>-101.280330</td>\n",
       "      <td>36</td>\n",
       "      <td>0.083333</td>\n",
       "      <td>6.000000</td>\n",
       "    </tr>\n",
       "    <tr>\n",
       "      <th>211</th>\n",
       "      <td>MQT</td>\n",
       "      <td>46.353640</td>\n",
       "      <td>-87.395360</td>\n",
       "      <td>4</td>\n",
       "      <td>0.250000</td>\n",
       "      <td>2.000000</td>\n",
       "    </tr>\n",
       "    <tr>\n",
       "      <th>212</th>\n",
       "      <td>MRY</td>\n",
       "      <td>36.586980</td>\n",
       "      <td>-121.842950</td>\n",
       "      <td>42</td>\n",
       "      <td>0.071429</td>\n",
       "      <td>6.480741</td>\n",
       "    </tr>\n",
       "    <tr>\n",
       "      <th>213</th>\n",
       "      <td>MSN</td>\n",
       "      <td>43.139860</td>\n",
       "      <td>-89.337510</td>\n",
       "      <td>155</td>\n",
       "      <td>0.167742</td>\n",
       "      <td>12.449900</td>\n",
       "    </tr>\n",
       "    <tr>\n",
       "      <th>214</th>\n",
       "      <td>MSO</td>\n",
       "      <td>46.916310</td>\n",
       "      <td>-114.090560</td>\n",
       "      <td>38</td>\n",
       "      <td>0.157895</td>\n",
       "      <td>6.164414</td>\n",
       "    </tr>\n",
       "    <tr>\n",
       "      <th>215</th>\n",
       "      <td>MSP</td>\n",
       "      <td>44.880550</td>\n",
       "      <td>-93.216920</td>\n",
       "      <td>1896</td>\n",
       "      <td>0.170886</td>\n",
       "      <td>43.543082</td>\n",
       "    </tr>\n",
       "    <tr>\n",
       "      <th>216</th>\n",
       "      <td>MSY</td>\n",
       "      <td>29.993390</td>\n",
       "      <td>-90.258030</td>\n",
       "      <td>649</td>\n",
       "      <td>0.146379</td>\n",
       "      <td>25.475478</td>\n",
       "    </tr>\n",
       "    <tr>\n",
       "      <th>217</th>\n",
       "      <td>MTJ</td>\n",
       "      <td>38.508870</td>\n",
       "      <td>-107.893830</td>\n",
       "      <td>15</td>\n",
       "      <td>0.000000</td>\n",
       "      <td>3.872983</td>\n",
       "    </tr>\n",
       "    <tr>\n",
       "      <th>218</th>\n",
       "      <td>MVY</td>\n",
       "      <td>41.393030</td>\n",
       "      <td>-70.614330</td>\n",
       "      <td>5</td>\n",
       "      <td>0.600000</td>\n",
       "      <td>2.236068</td>\n",
       "    </tr>\n",
       "    <tr>\n",
       "      <th>219</th>\n",
       "      <td>MYR</td>\n",
       "      <td>33.679750</td>\n",
       "      <td>-78.928330</td>\n",
       "      <td>106</td>\n",
       "      <td>0.226415</td>\n",
       "      <td>10.295630</td>\n",
       "    </tr>\n",
       "    <tr>\n",
       "      <th>220</th>\n",
       "      <td>OAJ</td>\n",
       "      <td>34.829160</td>\n",
       "      <td>-77.612140</td>\n",
       "      <td>17</td>\n",
       "      <td>0.352941</td>\n",
       "      <td>4.123106</td>\n",
       "    </tr>\n",
       "    <tr>\n",
       "      <th>221</th>\n",
       "      <td>OAK</td>\n",
       "      <td>37.721290</td>\n",
       "      <td>-122.220720</td>\n",
       "      <td>710</td>\n",
       "      <td>0.194366</td>\n",
       "      <td>26.645825</td>\n",
       "    </tr>\n",
       "    <tr>\n",
       "      <th>222</th>\n",
       "      <td>OGG</td>\n",
       "      <td>20.898650</td>\n",
       "      <td>-156.430460</td>\n",
       "      <td>357</td>\n",
       "      <td>0.134454</td>\n",
       "      <td>18.894444</td>\n",
       "    </tr>\n",
       "    <tr>\n",
       "      <th>223</th>\n",
       "      <td>OKC</td>\n",
       "      <td>35.393090</td>\n",
       "      <td>-97.600730</td>\n",
       "      <td>253</td>\n",
       "      <td>0.122530</td>\n",
       "      <td>15.905974</td>\n",
       "    </tr>\n",
       "    <tr>\n",
       "      <th>224</th>\n",
       "      <td>OMA</td>\n",
       "      <td>41.302520</td>\n",
       "      <td>-95.894170</td>\n",
       "      <td>286</td>\n",
       "      <td>0.171329</td>\n",
       "      <td>16.911535</td>\n",
       "    </tr>\n",
       "    <tr>\n",
       "      <th>225</th>\n",
       "      <td>OME</td>\n",
       "      <td>64.512200</td>\n",
       "      <td>-165.445250</td>\n",
       "      <td>11</td>\n",
       "      <td>0.272727</td>\n",
       "      <td>3.316625</td>\n",
       "    </tr>\n",
       "    <tr>\n",
       "      <th>226</th>\n",
       "      <td>ONT</td>\n",
       "      <td>34.056000</td>\n",
       "      <td>-117.601190</td>\n",
       "      <td>318</td>\n",
       "      <td>0.179245</td>\n",
       "      <td>17.832555</td>\n",
       "    </tr>\n",
       "    <tr>\n",
       "      <th>227</th>\n",
       "      <td>ORD</td>\n",
       "      <td>41.979600</td>\n",
       "      <td>-87.904460</td>\n",
       "      <td>5009</td>\n",
       "      <td>0.239569</td>\n",
       "      <td>70.774289</td>\n",
       "    </tr>\n",
       "    <tr>\n",
       "      <th>228</th>\n",
       "      <td>ORF</td>\n",
       "      <td>36.894610</td>\n",
       "      <td>-76.201220</td>\n",
       "      <td>148</td>\n",
       "      <td>0.155405</td>\n",
       "      <td>12.165525</td>\n",
       "    </tr>\n",
       "    <tr>\n",
       "      <th>229</th>\n",
       "      <td>ORH</td>\n",
       "      <td>42.267340</td>\n",
       "      <td>-71.875710</td>\n",
       "      <td>8</td>\n",
       "      <td>0.375000</td>\n",
       "      <td>2.828427</td>\n",
       "    </tr>\n",
       "    <tr>\n",
       "      <th>230</th>\n",
       "      <td>OTH</td>\n",
       "      <td>43.417140</td>\n",
       "      <td>-124.246030</td>\n",
       "      <td>4</td>\n",
       "      <td>0.250000</td>\n",
       "      <td>2.000000</td>\n",
       "    </tr>\n",
       "    <tr>\n",
       "      <th>231</th>\n",
       "      <td>OTZ</td>\n",
       "      <td>66.884680</td>\n",
       "      <td>-162.598550</td>\n",
       "      <td>12</td>\n",
       "      <td>0.250000</td>\n",
       "      <td>3.464102</td>\n",
       "    </tr>\n",
       "    <tr>\n",
       "      <th>232</th>\n",
       "      <td>PAH</td>\n",
       "      <td>37.060830</td>\n",
       "      <td>-88.773750</td>\n",
       "      <td>22</td>\n",
       "      <td>0.136364</td>\n",
       "      <td>4.690416</td>\n",
       "    </tr>\n",
       "    <tr>\n",
       "      <th>233</th>\n",
       "      <td>PBG</td>\n",
       "      <td>44.651930</td>\n",
       "      <td>-73.467907</td>\n",
       "      <td>2</td>\n",
       "      <td>0.000000</td>\n",
       "      <td>1.414214</td>\n",
       "    </tr>\n",
       "    <tr>\n",
       "      <th>234</th>\n",
       "      <td>PBI</td>\n",
       "      <td>26.683160</td>\n",
       "      <td>-80.095590</td>\n",
       "      <td>445</td>\n",
       "      <td>0.213483</td>\n",
       "      <td>21.095023</td>\n",
       "    </tr>\n",
       "    <tr>\n",
       "      <th>235</th>\n",
       "      <td>PDX</td>\n",
       "      <td>45.588720</td>\n",
       "      <td>-122.597500</td>\n",
       "      <td>831</td>\n",
       "      <td>0.137184</td>\n",
       "      <td>28.827071</td>\n",
       "    </tr>\n",
       "    <tr>\n",
       "      <th>236</th>\n",
       "      <td>PHF</td>\n",
       "      <td>37.131900</td>\n",
       "      <td>-76.492990</td>\n",
       "      <td>19</td>\n",
       "      <td>0.105263</td>\n",
       "      <td>4.358899</td>\n",
       "    </tr>\n",
       "    <tr>\n",
       "      <th>237</th>\n",
       "      <td>PHL</td>\n",
       "      <td>39.871950</td>\n",
       "      <td>-75.241140</td>\n",
       "      <td>1106</td>\n",
       "      <td>0.223327</td>\n",
       "      <td>33.256578</td>\n",
       "    </tr>\n",
       "    <tr>\n",
       "      <th>238</th>\n",
       "      <td>PHX</td>\n",
       "      <td>33.434170</td>\n",
       "      <td>-112.008060</td>\n",
       "      <td>2516</td>\n",
       "      <td>0.190779</td>\n",
       "      <td>50.159745</td>\n",
       "    </tr>\n",
       "    <tr>\n",
       "      <th>239</th>\n",
       "      <td>PIA</td>\n",
       "      <td>40.664240</td>\n",
       "      <td>-89.693310</td>\n",
       "      <td>80</td>\n",
       "      <td>0.287500</td>\n",
       "      <td>8.944272</td>\n",
       "    </tr>\n",
       "    <tr>\n",
       "      <th>240</th>\n",
       "      <td>PIB</td>\n",
       "      <td>31.467150</td>\n",
       "      <td>-89.337060</td>\n",
       "      <td>11</td>\n",
       "      <td>0.090909</td>\n",
       "      <td>3.316625</td>\n",
       "    </tr>\n",
       "    <tr>\n",
       "      <th>241</th>\n",
       "      <td>PIH</td>\n",
       "      <td>42.911310</td>\n",
       "      <td>-112.595860</td>\n",
       "      <td>8</td>\n",
       "      <td>0.000000</td>\n",
       "      <td>2.828427</td>\n",
       "    </tr>\n",
       "    <tr>\n",
       "      <th>242</th>\n",
       "      <td>PIT</td>\n",
       "      <td>40.491470</td>\n",
       "      <td>-80.232870</td>\n",
       "      <td>388</td>\n",
       "      <td>0.152062</td>\n",
       "      <td>19.697716</td>\n",
       "    </tr>\n",
       "    <tr>\n",
       "      <th>243</th>\n",
       "      <td>PLN</td>\n",
       "      <td>45.570930</td>\n",
       "      <td>-84.796720</td>\n",
       "      <td>14</td>\n",
       "      <td>0.142857</td>\n",
       "      <td>3.741657</td>\n",
       "    </tr>\n",
       "    <tr>\n",
       "      <th>244</th>\n",
       "      <td>PNS</td>\n",
       "      <td>30.473310</td>\n",
       "      <td>-87.187440</td>\n",
       "      <td>117</td>\n",
       "      <td>0.205128</td>\n",
       "      <td>10.816654</td>\n",
       "    </tr>\n",
       "    <tr>\n",
       "      <th>245</th>\n",
       "      <td>PPG</td>\n",
       "      <td>14.331020</td>\n",
       "      <td>-170.710530</td>\n",
       "      <td>4</td>\n",
       "      <td>0.250000</td>\n",
       "      <td>2.000000</td>\n",
       "    </tr>\n",
       "    <tr>\n",
       "      <th>246</th>\n",
       "      <td>PSC</td>\n",
       "      <td>46.264680</td>\n",
       "      <td>-119.119030</td>\n",
       "      <td>47</td>\n",
       "      <td>0.106383</td>\n",
       "      <td>6.855655</td>\n",
       "    </tr>\n",
       "    <tr>\n",
       "      <th>247</th>\n",
       "      <td>PSE</td>\n",
       "      <td>18.008300</td>\n",
       "      <td>-66.563010</td>\n",
       "      <td>8</td>\n",
       "      <td>0.000000</td>\n",
       "      <td>2.828427</td>\n",
       "    </tr>\n",
       "    <tr>\n",
       "      <th>248</th>\n",
       "      <td>PSG</td>\n",
       "      <td>56.801650</td>\n",
       "      <td>-132.945280</td>\n",
       "      <td>11</td>\n",
       "      <td>0.181818</td>\n",
       "      <td>3.316625</td>\n",
       "    </tr>\n",
       "    <tr>\n",
       "      <th>249</th>\n",
       "      <td>PSP</td>\n",
       "      <td>33.829220</td>\n",
       "      <td>-116.506250</td>\n",
       "      <td>159</td>\n",
       "      <td>0.125786</td>\n",
       "      <td>12.609520</td>\n",
       "    </tr>\n",
       "    <tr>\n",
       "      <th>250</th>\n",
       "      <td>PUB</td>\n",
       "      <td>38.289090</td>\n",
       "      <td>-104.496570</td>\n",
       "      <td>8</td>\n",
       "      <td>0.250000</td>\n",
       "      <td>2.828427</td>\n",
       "    </tr>\n",
       "    <tr>\n",
       "      <th>251</th>\n",
       "      <td>PVD</td>\n",
       "      <td>41.724000</td>\n",
       "      <td>-71.428220</td>\n",
       "      <td>175</td>\n",
       "      <td>0.165714</td>\n",
       "      <td>13.228757</td>\n",
       "    </tr>\n",
       "    <tr>\n",
       "      <th>252</th>\n",
       "      <td>PWM</td>\n",
       "      <td>43.646170</td>\n",
       "      <td>-70.308750</td>\n",
       "      <td>81</td>\n",
       "      <td>0.148148</td>\n",
       "      <td>9.000000</td>\n",
       "    </tr>\n",
       "    <tr>\n",
       "      <th>253</th>\n",
       "      <td>RAP</td>\n",
       "      <td>44.045320</td>\n",
       "      <td>-103.057370</td>\n",
       "      <td>60</td>\n",
       "      <td>0.200000</td>\n",
       "      <td>7.745967</td>\n",
       "    </tr>\n",
       "    <tr>\n",
       "      <th>254</th>\n",
       "      <td>RDD</td>\n",
       "      <td>40.508980</td>\n",
       "      <td>-122.293400</td>\n",
       "      <td>6</td>\n",
       "      <td>0.500000</td>\n",
       "      <td>2.449490</td>\n",
       "    </tr>\n",
       "    <tr>\n",
       "      <th>255</th>\n",
       "      <td>RDM</td>\n",
       "      <td>44.254070</td>\n",
       "      <td>-121.149960</td>\n",
       "      <td>48</td>\n",
       "      <td>0.229167</td>\n",
       "      <td>6.928203</td>\n",
       "    </tr>\n",
       "    <tr>\n",
       "      <th>256</th>\n",
       "      <td>RDU</td>\n",
       "      <td>35.877640</td>\n",
       "      <td>-78.787470</td>\n",
       "      <td>489</td>\n",
       "      <td>0.169734</td>\n",
       "      <td>22.113344</td>\n",
       "    </tr>\n",
       "    <tr>\n",
       "      <th>257</th>\n",
       "      <td>RHI</td>\n",
       "      <td>45.631190</td>\n",
       "      <td>-89.467450</td>\n",
       "      <td>24</td>\n",
       "      <td>0.166667</td>\n",
       "      <td>4.898979</td>\n",
       "    </tr>\n",
       "    <tr>\n",
       "      <th>258</th>\n",
       "      <td>RIC</td>\n",
       "      <td>37.505170</td>\n",
       "      <td>-77.319670</td>\n",
       "      <td>241</td>\n",
       "      <td>0.240664</td>\n",
       "      <td>15.524175</td>\n",
       "    </tr>\n",
       "    <tr>\n",
       "      <th>259</th>\n",
       "      <td>RKS</td>\n",
       "      <td>41.594220</td>\n",
       "      <td>-109.065190</td>\n",
       "      <td>13</td>\n",
       "      <td>0.000000</td>\n",
       "      <td>3.605551</td>\n",
       "    </tr>\n",
       "    <tr>\n",
       "      <th>260</th>\n",
       "      <td>RNO</td>\n",
       "      <td>39.498580</td>\n",
       "      <td>-119.768060</td>\n",
       "      <td>210</td>\n",
       "      <td>0.176190</td>\n",
       "      <td>14.491377</td>\n",
       "    </tr>\n",
       "    <tr>\n",
       "      <th>261</th>\n",
       "      <td>ROA</td>\n",
       "      <td>37.325470</td>\n",
       "      <td>-79.975430</td>\n",
       "      <td>35</td>\n",
       "      <td>0.142857</td>\n",
       "      <td>5.916080</td>\n",
       "    </tr>\n",
       "    <tr>\n",
       "      <th>262</th>\n",
       "      <td>ROC</td>\n",
       "      <td>43.118870</td>\n",
       "      <td>-77.672380</td>\n",
       "      <td>124</td>\n",
       "      <td>0.161290</td>\n",
       "      <td>11.135529</td>\n",
       "    </tr>\n",
       "    <tr>\n",
       "      <th>263</th>\n",
       "      <td>ROW</td>\n",
       "      <td>33.301560</td>\n",
       "      <td>-104.530560</td>\n",
       "      <td>20</td>\n",
       "      <td>0.200000</td>\n",
       "      <td>4.472136</td>\n",
       "    </tr>\n",
       "    <tr>\n",
       "      <th>264</th>\n",
       "      <td>RST</td>\n",
       "      <td>43.908830</td>\n",
       "      <td>-92.497990</td>\n",
       "      <td>39</td>\n",
       "      <td>0.128205</td>\n",
       "      <td>6.244998</td>\n",
       "    </tr>\n",
       "    <tr>\n",
       "      <th>265</th>\n",
       "      <td>RSW</td>\n",
       "      <td>26.536170</td>\n",
       "      <td>-81.755170</td>\n",
       "      <td>485</td>\n",
       "      <td>0.160825</td>\n",
       "      <td>22.022716</td>\n",
       "    </tr>\n",
       "    <tr>\n",
       "      <th>266</th>\n",
       "      <td>SAF</td>\n",
       "      <td>35.616780</td>\n",
       "      <td>-106.088140</td>\n",
       "      <td>20</td>\n",
       "      <td>0.150000</td>\n",
       "      <td>4.472136</td>\n",
       "    </tr>\n",
       "    <tr>\n",
       "      <th>267</th>\n",
       "      <td>SAN</td>\n",
       "      <td>32.733560</td>\n",
       "      <td>-117.189660</td>\n",
       "      <td>1252</td>\n",
       "      <td>0.168530</td>\n",
       "      <td>35.383612</td>\n",
       "    </tr>\n",
       "    <tr>\n",
       "      <th>268</th>\n",
       "      <td>SAT</td>\n",
       "      <td>29.533690</td>\n",
       "      <td>-98.469780</td>\n",
       "      <td>505</td>\n",
       "      <td>0.140594</td>\n",
       "      <td>22.472205</td>\n",
       "    </tr>\n",
       "    <tr>\n",
       "      <th>269</th>\n",
       "      <td>SAV</td>\n",
       "      <td>32.127580</td>\n",
       "      <td>-81.202140</td>\n",
       "      <td>132</td>\n",
       "      <td>0.174242</td>\n",
       "      <td>11.489125</td>\n",
       "    </tr>\n",
       "    <tr>\n",
       "      <th>270</th>\n",
       "      <td>SBA</td>\n",
       "      <td>34.426210</td>\n",
       "      <td>-119.840370</td>\n",
       "      <td>102</td>\n",
       "      <td>0.225490</td>\n",
       "      <td>10.099505</td>\n",
       "    </tr>\n",
       "    <tr>\n",
       "      <th>271</th>\n",
       "      <td>SBN</td>\n",
       "      <td>41.708950</td>\n",
       "      <td>-86.318470</td>\n",
       "      <td>66</td>\n",
       "      <td>0.227273</td>\n",
       "      <td>8.124038</td>\n",
       "    </tr>\n",
       "    <tr>\n",
       "      <th>272</th>\n",
       "      <td>SBP</td>\n",
       "      <td>35.237060</td>\n",
       "      <td>-120.642390</td>\n",
       "      <td>54</td>\n",
       "      <td>0.111111</td>\n",
       "      <td>7.348469</td>\n",
       "    </tr>\n",
       "    <tr>\n",
       "      <th>273</th>\n",
       "      <td>SCC</td>\n",
       "      <td>70.194760</td>\n",
       "      <td>-148.465160</td>\n",
       "      <td>13</td>\n",
       "      <td>0.153846</td>\n",
       "      <td>3.605551</td>\n",
       "    </tr>\n",
       "    <tr>\n",
       "      <th>274</th>\n",
       "      <td>SCE</td>\n",
       "      <td>40.851210</td>\n",
       "      <td>-77.846300</td>\n",
       "      <td>8</td>\n",
       "      <td>0.250000</td>\n",
       "      <td>2.828427</td>\n",
       "    </tr>\n",
       "    <tr>\n",
       "      <th>275</th>\n",
       "      <td>SDF</td>\n",
       "      <td>38.174390</td>\n",
       "      <td>-85.736000</td>\n",
       "      <td>148</td>\n",
       "      <td>0.216216</td>\n",
       "      <td>12.165525</td>\n",
       "    </tr>\n",
       "    <tr>\n",
       "      <th>276</th>\n",
       "      <td>SEA</td>\n",
       "      <td>47.448980</td>\n",
       "      <td>-122.309310</td>\n",
       "      <td>1904</td>\n",
       "      <td>0.158088</td>\n",
       "      <td>43.634848</td>\n",
       "    </tr>\n",
       "    <tr>\n",
       "      <th>277</th>\n",
       "      <td>SFO</td>\n",
       "      <td>37.619000</td>\n",
       "      <td>-122.374840</td>\n",
       "      <td>2507</td>\n",
       "      <td>0.208616</td>\n",
       "      <td>50.069951</td>\n",
       "    </tr>\n",
       "    <tr>\n",
       "      <th>278</th>\n",
       "      <td>SGF</td>\n",
       "      <td>37.244330</td>\n",
       "      <td>-93.386860</td>\n",
       "      <td>101</td>\n",
       "      <td>0.188119</td>\n",
       "      <td>10.049876</td>\n",
       "    </tr>\n",
       "    <tr>\n",
       "      <th>279</th>\n",
       "      <td>SGU</td>\n",
       "      <td>37.090580</td>\n",
       "      <td>-113.593060</td>\n",
       "      <td>33</td>\n",
       "      <td>0.121212</td>\n",
       "      <td>5.744563</td>\n",
       "    </tr>\n",
       "    <tr>\n",
       "      <th>280</th>\n",
       "      <td>SHV</td>\n",
       "      <td>32.446630</td>\n",
       "      <td>-93.825600</td>\n",
       "      <td>92</td>\n",
       "      <td>0.163043</td>\n",
       "      <td>9.591663</td>\n",
       "    </tr>\n",
       "    <tr>\n",
       "      <th>281</th>\n",
       "      <td>SIT</td>\n",
       "      <td>57.047140</td>\n",
       "      <td>-135.361600</td>\n",
       "      <td>27</td>\n",
       "      <td>0.111111</td>\n",
       "      <td>5.196152</td>\n",
       "    </tr>\n",
       "    <tr>\n",
       "      <th>282</th>\n",
       "      <td>SJC</td>\n",
       "      <td>37.361860</td>\n",
       "      <td>-121.929010</td>\n",
       "      <td>692</td>\n",
       "      <td>0.176301</td>\n",
       "      <td>26.305893</td>\n",
       "    </tr>\n",
       "    <tr>\n",
       "      <th>283</th>\n",
       "      <td>SJT</td>\n",
       "      <td>31.357750</td>\n",
       "      <td>-100.496310</td>\n",
       "      <td>27</td>\n",
       "      <td>0.111111</td>\n",
       "      <td>5.196152</td>\n",
       "    </tr>\n",
       "    <tr>\n",
       "      <th>284</th>\n",
       "      <td>SJU</td>\n",
       "      <td>18.439420</td>\n",
       "      <td>-66.001830</td>\n",
       "      <td>422</td>\n",
       "      <td>0.180095</td>\n",
       "      <td>20.542639</td>\n",
       "    </tr>\n",
       "    <tr>\n",
       "      <th>285</th>\n",
       "      <td>SLC</td>\n",
       "      <td>40.788390</td>\n",
       "      <td>-111.977770</td>\n",
       "      <td>1729</td>\n",
       "      <td>0.134182</td>\n",
       "      <td>41.581246</td>\n",
       "    </tr>\n",
       "    <tr>\n",
       "      <th>286</th>\n",
       "      <td>SMF</td>\n",
       "      <td>38.695420</td>\n",
       "      <td>-121.590770</td>\n",
       "      <td>631</td>\n",
       "      <td>0.166403</td>\n",
       "      <td>25.119713</td>\n",
       "    </tr>\n",
       "    <tr>\n",
       "      <th>287</th>\n",
       "      <td>SMX</td>\n",
       "      <td>34.899250</td>\n",
       "      <td>-120.457580</td>\n",
       "      <td>9</td>\n",
       "      <td>0.333333</td>\n",
       "      <td>3.000000</td>\n",
       "    </tr>\n",
       "    <tr>\n",
       "      <th>288</th>\n",
       "      <td>SNA</td>\n",
       "      <td>33.675660</td>\n",
       "      <td>-117.868220</td>\n",
       "      <td>619</td>\n",
       "      <td>0.166397</td>\n",
       "      <td>24.879711</td>\n",
       "    </tr>\n",
       "    <tr>\n",
       "      <th>289</th>\n",
       "      <td>SPI</td>\n",
       "      <td>39.843950</td>\n",
       "      <td>-89.677620</td>\n",
       "      <td>27</td>\n",
       "      <td>0.333333</td>\n",
       "      <td>5.196152</td>\n",
       "    </tr>\n",
       "    <tr>\n",
       "      <th>290</th>\n",
       "      <td>SPS</td>\n",
       "      <td>33.988800</td>\n",
       "      <td>-98.491890</td>\n",
       "      <td>15</td>\n",
       "      <td>0.000000</td>\n",
       "      <td>3.872983</td>\n",
       "    </tr>\n",
       "    <tr>\n",
       "      <th>291</th>\n",
       "      <td>SRQ</td>\n",
       "      <td>27.395330</td>\n",
       "      <td>-82.554110</td>\n",
       "      <td>62</td>\n",
       "      <td>0.209677</td>\n",
       "      <td>7.874008</td>\n",
       "    </tr>\n",
       "    <tr>\n",
       "      <th>292</th>\n",
       "      <td>STL</td>\n",
       "      <td>38.747690</td>\n",
       "      <td>-90.359990</td>\n",
       "      <td>821</td>\n",
       "      <td>0.163216</td>\n",
       "      <td>28.653098</td>\n",
       "    </tr>\n",
       "    <tr>\n",
       "      <th>293</th>\n",
       "      <td>STT</td>\n",
       "      <td>18.337310</td>\n",
       "      <td>-64.973360</td>\n",
       "      <td>74</td>\n",
       "      <td>0.162162</td>\n",
       "      <td>8.602325</td>\n",
       "    </tr>\n",
       "    <tr>\n",
       "      <th>294</th>\n",
       "      <td>STX</td>\n",
       "      <td>17.701890</td>\n",
       "      <td>-64.798560</td>\n",
       "      <td>16</td>\n",
       "      <td>0.062500</td>\n",
       "      <td>4.000000</td>\n",
       "    </tr>\n",
       "    <tr>\n",
       "      <th>295</th>\n",
       "      <td>SUN</td>\n",
       "      <td>43.504840</td>\n",
       "      <td>-114.296590</td>\n",
       "      <td>10</td>\n",
       "      <td>0.100000</td>\n",
       "      <td>3.162278</td>\n",
       "    </tr>\n",
       "    <tr>\n",
       "      <th>296</th>\n",
       "      <td>SUX</td>\n",
       "      <td>42.402600</td>\n",
       "      <td>-96.384370</td>\n",
       "      <td>10</td>\n",
       "      <td>0.100000</td>\n",
       "      <td>3.162278</td>\n",
       "    </tr>\n",
       "    <tr>\n",
       "      <th>297</th>\n",
       "      <td>SWF</td>\n",
       "      <td>41.504090</td>\n",
       "      <td>-74.104840</td>\n",
       "      <td>9</td>\n",
       "      <td>0.000000</td>\n",
       "      <td>3.000000</td>\n",
       "    </tr>\n",
       "    <tr>\n",
       "      <th>298</th>\n",
       "      <td>SYR</td>\n",
       "      <td>43.111190</td>\n",
       "      <td>-76.106310</td>\n",
       "      <td>89</td>\n",
       "      <td>0.157303</td>\n",
       "      <td>9.433981</td>\n",
       "    </tr>\n",
       "    <tr>\n",
       "      <th>299</th>\n",
       "      <td>TLH</td>\n",
       "      <td>30.396530</td>\n",
       "      <td>-84.350330</td>\n",
       "      <td>50</td>\n",
       "      <td>0.160000</td>\n",
       "      <td>7.071068</td>\n",
       "    </tr>\n",
       "    <tr>\n",
       "      <th>300</th>\n",
       "      <td>TOL</td>\n",
       "      <td>41.586810</td>\n",
       "      <td>-83.807830</td>\n",
       "      <td>14</td>\n",
       "      <td>0.142857</td>\n",
       "      <td>3.741657</td>\n",
       "    </tr>\n",
       "    <tr>\n",
       "      <th>301</th>\n",
       "      <td>TPA</td>\n",
       "      <td>27.975470</td>\n",
       "      <td>-82.533250</td>\n",
       "      <td>1130</td>\n",
       "      <td>0.182301</td>\n",
       "      <td>33.615473</td>\n",
       "    </tr>\n",
       "    <tr>\n",
       "      <th>302</th>\n",
       "      <td>TRI</td>\n",
       "      <td>36.475210</td>\n",
       "      <td>-82.407420</td>\n",
       "      <td>31</td>\n",
       "      <td>0.258065</td>\n",
       "      <td>5.567764</td>\n",
       "    </tr>\n",
       "    <tr>\n",
       "      <th>303</th>\n",
       "      <td>TTN</td>\n",
       "      <td>40.276690</td>\n",
       "      <td>-74.813470</td>\n",
       "      <td>50</td>\n",
       "      <td>0.200000</td>\n",
       "      <td>7.071068</td>\n",
       "    </tr>\n",
       "    <tr>\n",
       "      <th>304</th>\n",
       "      <td>TUL</td>\n",
       "      <td>36.198370</td>\n",
       "      <td>-95.888240</td>\n",
       "      <td>244</td>\n",
       "      <td>0.131148</td>\n",
       "      <td>15.620499</td>\n",
       "    </tr>\n",
       "    <tr>\n",
       "      <th>305</th>\n",
       "      <td>TUS</td>\n",
       "      <td>32.116080</td>\n",
       "      <td>-110.941030</td>\n",
       "      <td>261</td>\n",
       "      <td>0.145594</td>\n",
       "      <td>16.155494</td>\n",
       "    </tr>\n",
       "    <tr>\n",
       "      <th>306</th>\n",
       "      <td>TVC</td>\n",
       "      <td>44.741440</td>\n",
       "      <td>-85.582240</td>\n",
       "      <td>46</td>\n",
       "      <td>0.173913</td>\n",
       "      <td>6.782330</td>\n",
       "    </tr>\n",
       "    <tr>\n",
       "      <th>307</th>\n",
       "      <td>TWF</td>\n",
       "      <td>42.481800</td>\n",
       "      <td>-114.487740</td>\n",
       "      <td>12</td>\n",
       "      <td>0.166667</td>\n",
       "      <td>3.464102</td>\n",
       "    </tr>\n",
       "    <tr>\n",
       "      <th>308</th>\n",
       "      <td>TXK</td>\n",
       "      <td>33.453710</td>\n",
       "      <td>-93.991020</td>\n",
       "      <td>20</td>\n",
       "      <td>0.300000</td>\n",
       "      <td>4.472136</td>\n",
       "    </tr>\n",
       "    <tr>\n",
       "      <th>309</th>\n",
       "      <td>TYR</td>\n",
       "      <td>32.354140</td>\n",
       "      <td>-95.402390</td>\n",
       "      <td>39</td>\n",
       "      <td>0.102564</td>\n",
       "      <td>6.244998</td>\n",
       "    </tr>\n",
       "    <tr>\n",
       "      <th>310</th>\n",
       "      <td>TYS</td>\n",
       "      <td>35.812490</td>\n",
       "      <td>-83.992860</td>\n",
       "      <td>125</td>\n",
       "      <td>0.288000</td>\n",
       "      <td>11.180340</td>\n",
       "    </tr>\n",
       "    <tr>\n",
       "      <th>311</th>\n",
       "      <td>UST</td>\n",
       "      <td>29.954390</td>\n",
       "      <td>-81.345080</td>\n",
       "      <td>2</td>\n",
       "      <td>0.000000</td>\n",
       "      <td>1.414214</td>\n",
       "    </tr>\n",
       "    <tr>\n",
       "      <th>312</th>\n",
       "      <td>VEL</td>\n",
       "      <td>40.440900</td>\n",
       "      <td>-109.509920</td>\n",
       "      <td>6</td>\n",
       "      <td>0.000000</td>\n",
       "      <td>2.449490</td>\n",
       "    </tr>\n",
       "    <tr>\n",
       "      <th>313</th>\n",
       "      <td>VLD</td>\n",
       "      <td>30.782500</td>\n",
       "      <td>-83.276720</td>\n",
       "      <td>18</td>\n",
       "      <td>0.111111</td>\n",
       "      <td>4.242641</td>\n",
       "    </tr>\n",
       "    <tr>\n",
       "      <th>314</th>\n",
       "      <td>VPS</td>\n",
       "      <td>30.483250</td>\n",
       "      <td>-86.525400</td>\n",
       "      <td>88</td>\n",
       "      <td>0.147727</td>\n",
       "      <td>9.380832</td>\n",
       "    </tr>\n",
       "    <tr>\n",
       "      <th>315</th>\n",
       "      <td>WRG</td>\n",
       "      <td>56.484330</td>\n",
       "      <td>-132.369820</td>\n",
       "      <td>15</td>\n",
       "      <td>0.200000</td>\n",
       "      <td>3.872983</td>\n",
       "    </tr>\n",
       "    <tr>\n",
       "      <th>316</th>\n",
       "      <td>WYS</td>\n",
       "      <td>44.688400</td>\n",
       "      <td>-111.117640</td>\n",
       "      <td>1</td>\n",
       "      <td>0.000000</td>\n",
       "      <td>1.000000</td>\n",
       "    </tr>\n",
       "    <tr>\n",
       "      <th>317</th>\n",
       "      <td>XNA</td>\n",
       "      <td>36.281870</td>\n",
       "      <td>-94.306810</td>\n",
       "      <td>163</td>\n",
       "      <td>0.214724</td>\n",
       "      <td>12.767145</td>\n",
       "    </tr>\n",
       "    <tr>\n",
       "      <th>318</th>\n",
       "      <td>YAK</td>\n",
       "      <td>59.503360</td>\n",
       "      <td>-139.660230</td>\n",
       "      <td>11</td>\n",
       "      <td>0.272727</td>\n",
       "      <td>3.316625</td>\n",
       "    </tr>\n",
       "    <tr>\n",
       "      <th>319</th>\n",
       "      <td>YUM</td>\n",
       "      <td>32.656580</td>\n",
       "      <td>-114.605970</td>\n",
       "      <td>33</td>\n",
       "      <td>0.060606</td>\n",
       "      <td>5.744563</td>\n",
       "    </tr>\n",
       "  </tbody>\n",
       "</table>\n",
       "</div>"
      ],
      "text/plain": [
       "    origin_iata  origin_lat  origin_long  flights  arrwasdel  flights_sqrt\n",
       "0           ABE   40.652360   -75.440400       35   0.200000      5.916080\n",
       "1           ABI   32.411320   -99.681900       43   0.139535      6.557439\n",
       "2           ABQ   35.040220  -106.609190      344   0.174419     18.547237\n",
       "3           ABR   45.449060   -98.421830       12   0.083333      3.464102\n",
       "4           ABY   31.535520   -84.194470       19   0.157895      4.358899\n",
       "5           ACK   41.253050   -70.060180        7   0.000000      2.645751\n",
       "6           ACT   31.611290   -97.230520       19   0.315789      4.358899\n",
       "7           ACV   40.978120  -124.108620       27   0.148148      5.196152\n",
       "8           ACY   39.457580   -74.577170       67   0.283582      8.185353\n",
       "9           ADK   51.877960  -176.646030        2   1.000000      1.414214\n",
       "10          ADQ   57.749970  -152.493860        8   0.125000      2.828427\n",
       "11          AEX   31.327370   -92.548560       54   0.148148      7.348469\n",
       "12          AGS   33.369960   -81.964500       46   0.195652      6.782330\n",
       "13          AKN   58.676800  -156.649220        3   0.666667      1.732051\n",
       "14          ALB   42.748120   -73.802980      129   0.170543     11.357817\n",
       "15          ALO   42.557080   -92.400340        7   0.428571      2.645751\n",
       "16          AMA   35.219370  -101.705930       64   0.250000      8.000000\n",
       "17          ANC   61.174320  -149.996190      279   0.132616     16.703293\n",
       "18          APN   45.078070   -83.560290       10   0.200000      3.162278\n",
       "19          ASE   39.223160  -106.868850       60   0.233333      7.745967\n",
       "20          ATL   33.640440   -84.426940     5914   0.167061     76.902536\n",
       "21          ATW   44.257410   -88.519480       46   0.217391      6.782330\n",
       "22          AUS   30.194530   -97.669870      765   0.184314     27.658633\n",
       "23          AVL   35.436190   -82.541810       44   0.113636      6.633250\n",
       "24          AVP   41.338150   -75.724270       28   0.107143      5.291503\n",
       "25          AZO   42.234880   -85.552060       33   0.121212      5.744563\n",
       "26          BDL   41.938870   -72.683230      307   0.159609     17.521415\n",
       "27          BET   60.779780  -161.838000       17   0.294118      4.123106\n",
       "28          BFL   35.433600  -119.056770       51   0.274510      7.141428\n",
       "29          BGM   42.208480   -75.979610        4   0.000000      2.000000\n",
       "30          BGR   44.807440   -68.828140        3   0.666667      1.732051\n",
       "31          BHM   33.562940   -86.753550      234   0.183761     15.297059\n",
       "32          BIL   45.807660  -108.542860       65   0.153846      8.062258\n",
       "33          BIS   46.774110  -100.746720       64   0.187500      8.000000\n",
       "34          BJI   47.509420   -94.933720       10   0.100000      3.162278\n",
       "35          BLI   48.792750  -122.537530        7   0.142857      2.645751\n",
       "36          BMI   40.477990   -88.915950       58   0.206897      7.615773\n",
       "37          BNA   36.124480   -86.678180      819   0.172161     28.618176\n",
       "38          BOI   43.564440  -116.222780      220   0.177273     14.832397\n",
       "39          BOS   42.364350   -71.005180     1800   0.206667     42.426407\n",
       "40          BPT   29.950830   -94.020690       12   0.416667      3.464102\n",
       "41          BQK   31.259030   -81.466310        9   0.111111      3.000000\n",
       "42          BQN   18.494860   -67.129440       19   0.368421      4.358899\n",
       "43          BRD   46.397860   -94.137230       10   0.100000      3.162278\n",
       "44          BRO   25.906830   -97.425860       33   0.242424      5.744563\n",
       "45          BRW   71.285450  -156.766000       17   0.294118      4.123106\n",
       "46          BTM   45.954800  -112.497460        9   0.333333      3.000000\n",
       "47          BTR   30.533160   -91.149630      128   0.304688     11.313708\n",
       "48          BTV   44.473000   -73.150310       54   0.092593      7.348469\n",
       "49          BUF   42.940520   -78.732170      264   0.170455     16.248077\n",
       "50          BUR   34.200620  -118.358500      340   0.126471     18.439089\n",
       "51          BWI   39.175400   -76.668200     1456   0.215659     38.157568\n",
       "52          BZN   45.776900  -111.153010       73   0.109589      8.544004\n",
       "53          CAE   33.938840   -81.119540      100   0.210000     10.000000\n",
       "54          CAK   40.916310   -81.442470      108   0.120370     10.392305\n",
       "55          CDC   37.700970  -113.098580       12   0.000000      3.464102\n",
       "56          CDV   60.491830  -145.477650       12   0.250000      3.464102\n",
       "57          CEC   41.780160  -124.236530        7   0.000000      2.645751\n",
       "58          CHA   35.035270   -85.203790       64   0.187500      8.000000\n",
       "59          CHO   38.138640   -78.452860       34   0.147059      5.830952\n",
       "60          CHS   32.898650   -80.040510      186   0.155914     13.638182\n",
       "61          CID   41.884590   -91.710870      109   0.192661     10.440307\n",
       "62          CIU   46.250750   -84.472390       10   0.100000      3.162278\n",
       "63          CLD   33.127230  -117.278730        9   0.222222      3.000000\n",
       "64          CLE   41.410890   -81.849400      591   0.152284     24.310492\n",
       "65          CLL   30.588590   -96.363820       36   0.138889      6.000000\n",
       "66          CLT   35.214010   -80.943130     1733   0.210617     41.629317\n",
       "67          CMH   39.997990   -82.891880      381   0.160105     19.519221\n",
       "68          CMI   40.039250   -88.278060       33   0.030303      5.744563\n",
       "69          CMX   47.168420   -88.489060       11   0.000000      3.316625\n",
       "70          CNY   38.754960  -109.754840        3   0.000000      1.732051\n",
       "71          COD   44.520190  -109.023800       11   0.090909      3.316625\n",
       "72          COS   38.805810  -104.700250      109   0.192661     10.440307\n",
       "73          COU   38.818090   -92.219630       27   0.185185      5.196152\n",
       "74          CPR   42.908360  -106.464470       38   0.131579      6.164414\n",
       "75          CRP   27.770360   -97.501220       86   0.139535      9.273618\n",
       "76          CRW   38.373150   -81.593190       48   0.250000      6.928203\n",
       "77          CSG   32.516330   -84.938860       12   0.166667      3.464102\n",
       "78          CVG   39.046140   -84.662170      342   0.172515     18.493242\n",
       "79          CWA   44.777620   -89.666780       12   0.083333      3.464102\n",
       "80          DAB   29.179920   -81.058060       24   0.125000      4.898979\n",
       "81          DAL   32.847110   -96.851770     1035   0.200000     32.171416\n",
       "82          DAY   39.902380   -84.219380      163   0.165644     12.767145\n",
       "83          DBQ   42.402960   -90.709170       12   0.166667      3.464102\n",
       "84          DCA   38.852080   -77.037720     1262   0.192552     35.524639\n",
       "85          DEN   39.858410  -104.667000     3328   0.214543     57.688820\n",
       "86          DFW   32.895950   -97.037200     4035   0.208178     63.521650\n",
       "87          DHN   31.321340   -85.449630       22   0.272727      4.690416\n",
       "88          DIK   46.797390  -102.801950       14   0.285714      3.741657\n",
       "89          DLG   59.045410  -158.503340        1   0.000000      1.000000\n",
       "90          DLH   46.842090   -92.193650       30   0.200000      5.477226\n",
       "91          DRO   37.151520  -107.753770       42   0.190476      6.480741\n",
       "92          DSM   41.534930   -93.660680      127   0.181102     11.269428\n",
       "93          DTW   42.212060   -83.348840     1869   0.176565     43.231933\n",
       "94          DVL   48.114250   -98.908780       11   0.272727      3.316625\n",
       "95          EAU   44.865260   -91.485070       12   0.000000      3.464102\n",
       "96          ECP   30.357824   -85.795985       64   0.203125      8.000000\n",
       "97          EGE   39.642570  -106.917700       26   0.192308      5.099020\n",
       "98          EKO   40.824930  -115.791700        6   0.166667      2.449490\n",
       "99          ELM   42.159910   -76.891440       39   0.128205      6.244998\n",
       "100         ELP   31.806670  -106.377810      217   0.202765     14.730920\n",
       "101         ERI   42.082020   -80.176220        7   0.142857      2.645751\n",
       "102         ESC   45.722670   -87.093730       10   0.200000      3.162278\n",
       "103         EUG   44.123260  -123.218690       78   0.205128      8.831761\n",
       "104         EVV   38.037990   -87.530630       73   0.205479      8.544004\n",
       "105         EWN   35.072970   -77.042940       12   0.000000      3.464102\n",
       "106         EWR   40.692500   -74.168660     1830   0.223497     42.778499\n",
       "107         EYW   24.556110   -81.759560       44   0.204545      6.633250\n",
       "108         FAI   64.813680  -147.859670       34   0.205882      5.830952\n",
       "109         FAR   46.919350   -96.814990      104   0.240385     10.198039\n",
       "110         FAT   36.776190  -119.718140      120   0.175000     10.954451\n",
       "111         FAY   34.991470   -78.880000       32   0.187500      5.656854\n",
       "112         FCA   48.311400  -114.255070       34   0.176471      5.830952\n",
       "113         FLG   35.138450  -111.671220       36   0.083333      6.000000\n",
       "114         FLL   26.072580   -80.152750     1298   0.173344     36.027767\n",
       "115         FNT   42.965500   -83.743460       91   0.109890      9.539392\n",
       "116         FSD   43.581350   -96.741700       85   0.235294      9.219544\n",
       "117         FSM   35.336590   -94.367440       48   0.291667      6.928203\n",
       "118         FWA   40.978470   -85.195150       92   0.184783      9.591663\n",
       "119         GCC   44.348900  -105.539360       20   0.150000      4.472136\n",
       "120         GCK   37.927520  -100.724410       17   0.117647      4.123106\n",
       "121         GEG   47.619860  -117.533840      162   0.129630     12.727922\n",
       "122         GFK   47.949260   -97.176110       11   0.363636      3.316625\n",
       "123         GGG   32.384860   -94.711710       10   0.100000      3.162278\n",
       "124         GJT   39.122410  -108.526730       48   0.104167      6.928203\n",
       "125         GNV   29.690060   -82.271780       54   0.222222      7.348469\n",
       "126         GPT   30.407280   -89.070090       56   0.160714      7.483315\n",
       "127         GRB   44.485070   -88.129590       82   0.158537      9.055385\n",
       "128         GRI   40.967470   -98.308610       15   0.133333      3.872983\n",
       "129         GRK   31.064900   -97.827800       63   0.174603      7.937254\n",
       "130         GRR   42.880820   -85.522770      173   0.150289     13.152946\n",
       "131         GSO   36.097750   -79.937300      108   0.157407     10.392305\n",
       "132         GSP   34.895670   -82.218860      123   0.154472     11.090537\n",
       "133         GTF   47.482000  -111.370690       26   0.115385      5.099020\n",
       "134         GTR   33.450330   -88.591370       13   0.076923      3.605551\n",
       "135         GUC   38.533960  -106.933180        6   0.166667      2.449490\n",
       "136         GUM   13.483450  -144.795980       10   0.000000      3.162278\n",
       "137         HDN   40.481180  -107.217660        8   0.125000      2.828427\n",
       "138         HIB   47.386600   -92.838990       27   0.222222      5.196152\n",
       "139         HLN   46.606820  -111.982750       34   0.088235      5.830952\n",
       "140         HNL   21.318690  -157.922410      776   0.123711     27.856777\n",
       "141         HOB   32.687530  -103.217030       12   0.166667      3.464102\n",
       "142         HOU   29.645420   -95.278890      872   0.213303     29.529646\n",
       "143         HPN   41.066960   -73.707570      145   0.255172     12.041595\n",
       "144         HRL   26.228510   -97.654390       51   0.196078      7.141428\n",
       "145         HSV   34.640450   -86.773110       58   0.103448      7.615773\n",
       "146         HYA   41.669340   -70.280360        2   0.500000      1.414214\n",
       "147         HYS   38.844940   -99.274030        9   0.333333      3.000000\n",
       "148         IAD   38.944530   -77.455810      630   0.207937     25.099801\n",
       "149         IAG   43.107260   -78.945380        7   0.142857      2.645751\n",
       "150         IAH   29.980470   -95.339720     2576   0.215839     50.754310\n",
       "151         ICT   37.649960   -97.433050      152   0.223684     12.328828\n",
       "152         IDA   43.514560  -112.070170       54   0.111111      7.348469\n",
       "153         ILG   39.678720   -75.606530        2   0.500000      1.414214\n",
       "154         ILM   34.270610   -77.902560       38   0.210526      6.164414\n",
       "155         IMT   45.818350   -88.114540       19   0.157895      4.358899\n",
       "156         IND   39.717330   -86.294380      451   0.179601     21.236761\n",
       "157         INL   48.566190   -93.403070        9   0.222222      3.000000\n",
       "158         ISN   48.177940  -103.642350       49   0.102041      7.000000\n",
       "159         ISP   40.795240   -73.100210       73   0.246575      8.544004\n",
       "160         ITH   42.491030   -76.458440        2   0.500000      1.414214\n",
       "161         ITO   19.720260  -155.048470       84   0.047619      9.165151\n",
       "162         JAC   43.607320  -110.737740       67   0.104478      8.185353\n",
       "163         JAN   32.311170   -90.075890      119   0.168067     10.908712\n",
       "164         JAX   30.494060   -81.687860      292   0.119863     17.088007\n",
       "165         JFK   40.639750   -73.778930     1582   0.224399     39.774364\n",
       "166         JLN   37.151810   -94.498270        8   0.000000      2.828427\n",
       "167         JMS   46.929720   -98.678200       18   0.055556      4.242641\n",
       "168         JNU   58.354960  -134.576280       74   0.202703      8.602325\n",
       "169         KOA   19.738770  -156.045630      201   0.119403     14.177447\n",
       "170         KTN   55.355570  -131.713740       39   0.230769      6.244998\n",
       "171         LAN   42.778700   -84.587360       30   0.200000      5.477226\n",
       "172         LAR   41.312050  -105.674990        8   0.125000      2.828427\n",
       "173         LAS   36.080360  -115.152330     2355   0.209342     48.528342\n",
       "174         LAW   34.567710   -98.416640       25   0.160000      5.000000\n",
       "175         LAX   33.942540  -118.408070     3311   0.207490     57.541290\n",
       "176         LBB   33.663640  -101.822780       61   0.196721      7.810250\n",
       "177         LBE   40.275940   -79.404800       28   0.392857      5.291503\n",
       "178         LCH   30.126100   -93.223400       32   0.156250      5.656854\n",
       "179         LEX   38.036970   -84.605390       98   0.183673      9.899495\n",
       "180         LFT   30.205280   -91.987660       98   0.183673      9.899495\n",
       "181         LGA   40.777240   -73.872610     1646   0.233293     40.570926\n",
       "182         LGB   33.817720  -118.151610      166   0.204819     12.884099\n",
       "183         LIH   21.975980  -159.338960      187   0.101604     13.674794\n",
       "184         LIT   34.729400   -92.224250      194   0.211340     13.928388\n",
       "185         LNK   40.850970   -96.759250       46   0.108696      6.782330\n",
       "186         LRD   27.543740   -99.461540       41   0.097561      6.403124\n",
       "187         LSE   43.879380   -91.256540       24   0.125000      4.898979\n",
       "188         LWS   46.374500  -117.015390       12   0.083333      3.464102\n",
       "189         MAF   31.942530  -102.201910      144   0.201389     12.000000\n",
       "190         MBS   43.532910   -84.079650       29   0.206897      5.385165\n",
       "191         MCI   39.297610   -94.713910      680   0.167647     26.076810\n",
       "192         MCO   28.428890   -81.316030     1923   0.198128     43.852024\n",
       "193         MDT   40.193500   -76.763400       76   0.131579      8.717798\n",
       "194         MDW   41.785980   -87.752420     1354   0.219350     36.796739\n",
       "195         MEI   32.333130   -88.751210       18   0.277778      4.242641\n",
       "196         MEM   35.042420   -89.976670      269   0.178439     16.401219\n",
       "197         MFE   26.175830   -98.238610       53   0.169811      7.280110\n",
       "198         MFR   42.374230  -122.873500       43   0.232558      6.557439\n",
       "199         MGM   32.300640   -86.393980       67   0.119403      8.185353\n",
       "200         MHK   39.140970   -96.670830       24   0.166667      4.898979\n",
       "201         MHT   42.934520   -71.437060       94   0.127660      9.695360\n",
       "202         MIA   25.793250   -80.290560     1116   0.231183     33.406586\n",
       "203         MKE   42.947220   -87.896580      521   0.161228     22.825424\n",
       "204         MKG   43.169490   -86.238220       10   0.100000      3.162278\n",
       "205         MLB   28.102750   -80.645810       23   0.086957      4.795832\n",
       "206         MLI   41.448530   -90.507540       52   0.250000      7.211103\n",
       "207         MLU   32.510870   -92.037690       66   0.121212      8.124038\n",
       "208         MMH   37.624050  -118.837770        2   0.500000      1.414214\n",
       "209         MOB   30.691420   -88.242830       79   0.113924      8.888194\n",
       "210         MOT   48.259380  -101.280330       36   0.083333      6.000000\n",
       "211         MQT   46.353640   -87.395360        4   0.250000      2.000000\n",
       "212         MRY   36.586980  -121.842950       42   0.071429      6.480741\n",
       "213         MSN   43.139860   -89.337510      155   0.167742     12.449900\n",
       "214         MSO   46.916310  -114.090560       38   0.157895      6.164414\n",
       "215         MSP   44.880550   -93.216920     1896   0.170886     43.543082\n",
       "216         MSY   29.993390   -90.258030      649   0.146379     25.475478\n",
       "217         MTJ   38.508870  -107.893830       15   0.000000      3.872983\n",
       "218         MVY   41.393030   -70.614330        5   0.600000      2.236068\n",
       "219         MYR   33.679750   -78.928330      106   0.226415     10.295630\n",
       "220         OAJ   34.829160   -77.612140       17   0.352941      4.123106\n",
       "221         OAK   37.721290  -122.220720      710   0.194366     26.645825\n",
       "222         OGG   20.898650  -156.430460      357   0.134454     18.894444\n",
       "223         OKC   35.393090   -97.600730      253   0.122530     15.905974\n",
       "224         OMA   41.302520   -95.894170      286   0.171329     16.911535\n",
       "225         OME   64.512200  -165.445250       11   0.272727      3.316625\n",
       "226         ONT   34.056000  -117.601190      318   0.179245     17.832555\n",
       "227         ORD   41.979600   -87.904460     5009   0.239569     70.774289\n",
       "228         ORF   36.894610   -76.201220      148   0.155405     12.165525\n",
       "229         ORH   42.267340   -71.875710        8   0.375000      2.828427\n",
       "230         OTH   43.417140  -124.246030        4   0.250000      2.000000\n",
       "231         OTZ   66.884680  -162.598550       12   0.250000      3.464102\n",
       "232         PAH   37.060830   -88.773750       22   0.136364      4.690416\n",
       "233         PBG   44.651930   -73.467907        2   0.000000      1.414214\n",
       "234         PBI   26.683160   -80.095590      445   0.213483     21.095023\n",
       "235         PDX   45.588720  -122.597500      831   0.137184     28.827071\n",
       "236         PHF   37.131900   -76.492990       19   0.105263      4.358899\n",
       "237         PHL   39.871950   -75.241140     1106   0.223327     33.256578\n",
       "238         PHX   33.434170  -112.008060     2516   0.190779     50.159745\n",
       "239         PIA   40.664240   -89.693310       80   0.287500      8.944272\n",
       "240         PIB   31.467150   -89.337060       11   0.090909      3.316625\n",
       "241         PIH   42.911310  -112.595860        8   0.000000      2.828427\n",
       "242         PIT   40.491470   -80.232870      388   0.152062     19.697716\n",
       "243         PLN   45.570930   -84.796720       14   0.142857      3.741657\n",
       "244         PNS   30.473310   -87.187440      117   0.205128     10.816654\n",
       "245         PPG   14.331020  -170.710530        4   0.250000      2.000000\n",
       "246         PSC   46.264680  -119.119030       47   0.106383      6.855655\n",
       "247         PSE   18.008300   -66.563010        8   0.000000      2.828427\n",
       "248         PSG   56.801650  -132.945280       11   0.181818      3.316625\n",
       "249         PSP   33.829220  -116.506250      159   0.125786     12.609520\n",
       "250         PUB   38.289090  -104.496570        8   0.250000      2.828427\n",
       "251         PVD   41.724000   -71.428220      175   0.165714     13.228757\n",
       "252         PWM   43.646170   -70.308750       81   0.148148      9.000000\n",
       "253         RAP   44.045320  -103.057370       60   0.200000      7.745967\n",
       "254         RDD   40.508980  -122.293400        6   0.500000      2.449490\n",
       "255         RDM   44.254070  -121.149960       48   0.229167      6.928203\n",
       "256         RDU   35.877640   -78.787470      489   0.169734     22.113344\n",
       "257         RHI   45.631190   -89.467450       24   0.166667      4.898979\n",
       "258         RIC   37.505170   -77.319670      241   0.240664     15.524175\n",
       "259         RKS   41.594220  -109.065190       13   0.000000      3.605551\n",
       "260         RNO   39.498580  -119.768060      210   0.176190     14.491377\n",
       "261         ROA   37.325470   -79.975430       35   0.142857      5.916080\n",
       "262         ROC   43.118870   -77.672380      124   0.161290     11.135529\n",
       "263         ROW   33.301560  -104.530560       20   0.200000      4.472136\n",
       "264         RST   43.908830   -92.497990       39   0.128205      6.244998\n",
       "265         RSW   26.536170   -81.755170      485   0.160825     22.022716\n",
       "266         SAF   35.616780  -106.088140       20   0.150000      4.472136\n",
       "267         SAN   32.733560  -117.189660     1252   0.168530     35.383612\n",
       "268         SAT   29.533690   -98.469780      505   0.140594     22.472205\n",
       "269         SAV   32.127580   -81.202140      132   0.174242     11.489125\n",
       "270         SBA   34.426210  -119.840370      102   0.225490     10.099505\n",
       "271         SBN   41.708950   -86.318470       66   0.227273      8.124038\n",
       "272         SBP   35.237060  -120.642390       54   0.111111      7.348469\n",
       "273         SCC   70.194760  -148.465160       13   0.153846      3.605551\n",
       "274         SCE   40.851210   -77.846300        8   0.250000      2.828427\n",
       "275         SDF   38.174390   -85.736000      148   0.216216     12.165525\n",
       "276         SEA   47.448980  -122.309310     1904   0.158088     43.634848\n",
       "277         SFO   37.619000  -122.374840     2507   0.208616     50.069951\n",
       "278         SGF   37.244330   -93.386860      101   0.188119     10.049876\n",
       "279         SGU   37.090580  -113.593060       33   0.121212      5.744563\n",
       "280         SHV   32.446630   -93.825600       92   0.163043      9.591663\n",
       "281         SIT   57.047140  -135.361600       27   0.111111      5.196152\n",
       "282         SJC   37.361860  -121.929010      692   0.176301     26.305893\n",
       "283         SJT   31.357750  -100.496310       27   0.111111      5.196152\n",
       "284         SJU   18.439420   -66.001830      422   0.180095     20.542639\n",
       "285         SLC   40.788390  -111.977770     1729   0.134182     41.581246\n",
       "286         SMF   38.695420  -121.590770      631   0.166403     25.119713\n",
       "287         SMX   34.899250  -120.457580        9   0.333333      3.000000\n",
       "288         SNA   33.675660  -117.868220      619   0.166397     24.879711\n",
       "289         SPI   39.843950   -89.677620       27   0.333333      5.196152\n",
       "290         SPS   33.988800   -98.491890       15   0.000000      3.872983\n",
       "291         SRQ   27.395330   -82.554110       62   0.209677      7.874008\n",
       "292         STL   38.747690   -90.359990      821   0.163216     28.653098\n",
       "293         STT   18.337310   -64.973360       74   0.162162      8.602325\n",
       "294         STX   17.701890   -64.798560       16   0.062500      4.000000\n",
       "295         SUN   43.504840  -114.296590       10   0.100000      3.162278\n",
       "296         SUX   42.402600   -96.384370       10   0.100000      3.162278\n",
       "297         SWF   41.504090   -74.104840        9   0.000000      3.000000\n",
       "298         SYR   43.111190   -76.106310       89   0.157303      9.433981\n",
       "299         TLH   30.396530   -84.350330       50   0.160000      7.071068\n",
       "300         TOL   41.586810   -83.807830       14   0.142857      3.741657\n",
       "301         TPA   27.975470   -82.533250     1130   0.182301     33.615473\n",
       "302         TRI   36.475210   -82.407420       31   0.258065      5.567764\n",
       "303         TTN   40.276690   -74.813470       50   0.200000      7.071068\n",
       "304         TUL   36.198370   -95.888240      244   0.131148     15.620499\n",
       "305         TUS   32.116080  -110.941030      261   0.145594     16.155494\n",
       "306         TVC   44.741440   -85.582240       46   0.173913      6.782330\n",
       "307         TWF   42.481800  -114.487740       12   0.166667      3.464102\n",
       "308         TXK   33.453710   -93.991020       20   0.300000      4.472136\n",
       "309         TYR   32.354140   -95.402390       39   0.102564      6.244998\n",
       "310         TYS   35.812490   -83.992860      125   0.288000     11.180340\n",
       "311         UST   29.954390   -81.345080        2   0.000000      1.414214\n",
       "312         VEL   40.440900  -109.509920        6   0.000000      2.449490\n",
       "313         VLD   30.782500   -83.276720       18   0.111111      4.242641\n",
       "314         VPS   30.483250   -86.525400       88   0.147727      9.380832\n",
       "315         WRG   56.484330  -132.369820       15   0.200000      3.872983\n",
       "316         WYS   44.688400  -111.117640        1   0.000000      1.000000\n",
       "317         XNA   36.281870   -94.306810      163   0.214724     12.767145\n",
       "318         YAK   59.503360  -139.660230       11   0.272727      3.316625\n",
       "319         YUM   32.656580  -114.605970       33   0.060606      5.744563"
      ]
     },
     "execution_count": 59,
     "metadata": {},
     "output_type": "execute_result"
    }
   ],
   "source": [
    "maporigin.head()"
   ]
  },
  {
   "cell_type": "code",
   "execution_count": 61,
   "metadata": {
    "ExecuteTime": {
     "end_time": "2019-02-11T18:49:33.505519Z",
     "start_time": "2019-02-11T18:49:33.494099Z"
    }
   },
   "outputs": [
    {
     "data": {
      "text/plain": [
       "count    320.000000\n",
       "mean       0.179986\n",
       "std        0.108130\n",
       "min        0.000000\n",
       "25%        0.125000\n",
       "50%        0.169132\n",
       "75%        0.211831\n",
       "max        1.000000\n",
       "Name: arrwasdel, dtype: float64"
      ]
     },
     "execution_count": 61,
     "metadata": {},
     "output_type": "execute_result"
    }
   ],
   "source": [
    "# Look at distribution of % delayed by origin airport.\n",
    "maporigin.arrwasdel.describe()"
   ]
  },
  {
   "cell_type": "code",
   "execution_count": 62,
   "metadata": {
    "ExecuteTime": {
     "end_time": "2019-02-11T18:50:12.249795Z",
     "start_time": "2019-02-11T18:50:11.986725Z"
    }
   },
   "outputs": [
    {
     "data": {
      "text/plain": [
       "<matplotlib.axes._subplots.AxesSubplot at 0x1ae4d1d320>"
      ]
     },
     "execution_count": 62,
     "metadata": {},
     "output_type": "execute_result"
    },
    {
     "data": {
      "image/png": "[encoded data removed]",
      "text/plain": [
       "<Figure size 432x288 with 1 Axes>"
      ]
     },
     "metadata": {
      "needs_background": "light"
     },
     "output_type": "display_data"
    }
   ],
   "source": [
    "sns.distplot(maporigin.arrwasdel)"
   ]
  },
  {
   "cell_type": "code",
   "execution_count": 63,
   "metadata": {
    "ExecuteTime": {
     "end_time": "2019-02-11T18:53:28.301277Z",
     "start_time": "2019-02-11T18:53:28.291471Z"
    }
   },
   "outputs": [
    {
     "data": {
      "text/plain": [
       "count    318.000000\n",
       "mean       0.180584\n",
       "std        0.102467\n",
       "min        0.000000\n",
       "25%        0.133333\n",
       "50%        0.185376\n",
       "75%        0.225806\n",
       "max        1.000000\n",
       "Name: arrwasdel, dtype: float64"
      ]
     },
     "execution_count": 63,
     "metadata": {},
     "output_type": "execute_result"
    }
   ],
   "source": [
    "# Look at distribution of % delayed by origin airport.\n",
    "mapdest.arrwasdel.describe()"
   ]
  },
  {
   "cell_type": "code",
   "execution_count": 64,
   "metadata": {
    "ExecuteTime": {
     "end_time": "2019-02-11T18:53:56.502771Z",
     "start_time": "2019-02-11T18:53:56.285980Z"
    }
   },
   "outputs": [
    {
     "data": {
      "text/plain": [
       "<matplotlib.axes._subplots.AxesSubplot at 0x1a1e3b6400>"
      ]
     },
     "execution_count": 64,
     "metadata": {},
     "output_type": "execute_result"
    },
    {
     "data": {
      "image/png": "[encoded data removed]",
      "text/plain": [
       "<Figure size 432x288 with 1 Axes>"
      ]
     },
     "metadata": {
      "needs_background": "light"
     },
     "output_type": "display_data"
    }
   ],
   "source": [
    "sns.distplot(mapdest.arrwasdel)"
   ]
  },
  {
   "cell_type": "code",
   "execution_count": 130,
   "metadata": {
    "ExecuteTime": {
     "end_time": "2019-02-07T19:10:28.593733Z",
     "start_time": "2019-02-07T19:10:28.520654Z"
    }
   },
   "outputs": [
    {
     "name": "stdout",
     "output_type": "stream",
     "text": [
      "month\n",
      "1     0.211231\n",
      "2     0.232934\n",
      "3     0.193344\n",
      "4     0.170494\n",
      "5     0.181553\n",
      "6     0.238051\n",
      "7     0.208045\n",
      "8     0.183687\n",
      "9     0.129838\n",
      "10    0.123606\n",
      "11    0.151851\n",
      "12    0.204305\n",
      "Name: arrwasdel, dtype: float64\n",
      "dow\n",
      "sun    0.181581\n",
      "mon    0.197596\n",
      "tue    0.181409\n",
      "wed    0.179617\n",
      "thu    0.200267\n",
      "fri    0.193164\n",
      "sat    0.159446\n",
      "Name: arrwasdel, dtype: float64\n",
      "hour\n",
      "0     0.259995\n",
      "1     0.253262\n",
      "2     0.217822\n",
      "3     0.201258\n",
      "4     0.174455\n",
      "5     0.172705\n",
      "6     0.111737\n",
      "7     0.090581\n",
      "8     0.100312\n",
      "9     0.112060\n",
      "10    0.127978\n",
      "11    0.133857\n",
      "12    0.148941\n",
      "13    0.158856\n",
      "14    0.168629\n",
      "15    0.177528\n",
      "16    0.195706\n",
      "17    0.212631\n",
      "18    0.233832\n",
      "19    0.243723\n",
      "20    0.248957\n",
      "21    0.255178\n",
      "22    0.259357\n",
      "23    0.258667\n",
      "Name: arrwasdel, dtype: float64\n",
      "airline\n",
      "Alaska         0.129657\n",
      "Amer Eagle     0.219346\n",
      "American       0.180230\n",
      "Atlantic SE    0.194404\n",
      "Delta          0.133055\n",
      "Frontier       0.258384\n",
      "Hawaiian       0.111995\n",
      "JetBlue        0.221081\n",
      "Skywest        0.189140\n",
      "Southwest      0.192278\n",
      "Spirit         0.297328\n",
      "US Airways     0.189026\n",
      "United         0.204081\n",
      "Virgin         0.194232\n",
      "Name: arrwasdel, dtype: float64\n",
      "distcat\n",
      "(0, 350]        0.182483\n",
      "(350, 700]      0.179721\n",
      "(700, 1200]     0.194634\n",
      "(1200, 2000]    0.187993\n",
      "(2000, 5000]    0.181279\n",
      "Name: arrwasdel, dtype: float64\n"
     ]
    }
   ],
   "source": [
    "# Look at distribution of % delayed by several key variables.\n",
    "for xvar in (['month', 'dow', 'hour', 'airline', 'distcat']):\n",
    "    print(flights.groupby(xvar).arrwasdel.mean())"
   ]
  },
  {
   "cell_type": "code",
   "execution_count": 1,
   "metadata": {
    "ExecuteTime": {
     "end_time": "2019-05-13T17:59:45.493812Z",
     "start_time": "2019-05-13T17:59:45.487484Z"
    }
   },
   "outputs": [],
   "source": [
    "# for xvar in (['origin']):\n",
    "#     print(flights.groupby(xvar).arrwasdel.mean().sort_values())"
   ]
  },
  {
   "cell_type": "code",
   "execution_count": 132,
   "metadata": {
    "ExecuteTime": {
     "end_time": "2019-02-07T19:11:09.993774Z",
     "start_time": "2019-02-07T19:11:09.685086Z"
    },
    "scrolled": true
   },
   "outputs": [
    {
     "data": {
      "text/plain": [
       "(array([5.2420e+03, 3.9987e+04, 5.6168e+04, 6.1013e+04, 5.4542e+04,\n",
       "        5.4579e+04, 5.0405e+04, 3.0707e+04, 3.7324e+04, 3.9146e+04,\n",
       "        3.1968e+04, 2.1169e+04, 1.3630e+04, 9.4440e+03, 1.2615e+04,\n",
       "        1.3036e+04, 7.8710e+03, 1.0917e+04, 5.3010e+03, 6.0180e+03,\n",
       "        2.5370e+03, 5.2210e+03, 4.2310e+03, 4.8640e+03, 9.5960e+03,\n",
       "        6.7650e+03, 2.5690e+03, 1.4270e+03, 3.9000e+02, 3.9300e+02,\n",
       "        2.7000e+01, 0.0000e+00, 1.8000e+01, 1.2200e+02, 3.7000e+01]),\n",
       " array([   0.,  100.,  200.,  300.,  400.,  500.,  600.,  700.,  800.,\n",
       "         900., 1000., 1100., 1200., 1300., 1400., 1500., 1600., 1700.,\n",
       "        1800., 1900., 2000., 2100., 2200., 2300., 2400., 2500., 2600.,\n",
       "        2700., 2800., 2900., 3000., 3100., 3200., 3300., 3400., 3500.]),\n",
       " <a list of 35 Patch objects>)"
      ]
     },
     "execution_count": 132,
     "metadata": {},
     "output_type": "execute_result"
    },
    {
     "data": {
      "image/png": "[encoded data removed]",
      "text/plain": [
       "<Figure size 432x288 with 1 Axes>"
      ]
     },
     "metadata": {
      "needs_background": "light"
     },
     "output_type": "display_data"
    }
   ],
   "source": [
    "# Look at distribution of flights by distance traveled.\n",
    "plt.hist(flights.dist, bins=35, range=(0, 3500))"
   ]
  },
  {
   "cell_type": "code",
   "execution_count": 133,
   "metadata": {
    "ExecuteTime": {
     "end_time": "2019-02-07T19:11:28.419373Z",
     "start_time": "2019-02-07T19:11:28.405018Z"
    },
    "scrolled": true
   },
   "outputs": [
    {
     "data": {
      "text/plain": [
       "7     54594\n",
       "8     52573\n",
       "3     51773\n",
       "6     51678\n",
       "5     51109\n",
       "10    50669\n",
       "4     50430\n",
       "12    49519\n",
       "11    48969\n",
       "9     48314\n",
       "1     47905\n",
       "2     42467\n",
       "Name: month, dtype: int64"
      ]
     },
     "execution_count": 133,
     "metadata": {},
     "output_type": "execute_result"
    }
   ],
   "source": [
    "flights.month.value_counts()"
   ]
  },
  {
   "cell_type": "markdown",
   "metadata": {},
   "source": [
    "## <a id=\"3\"></a>3. Classification models"
   ]
  },
  {
   "cell_type": "markdown",
   "metadata": {},
   "source": [
    "### <a id=\"3A\"></a>3A. Prepare data for use in models"
   ]
  },
  {
   "cell_type": "code",
   "execution_count": 26,
   "metadata": {
    "ExecuteTime": {
     "end_time": "2019-02-12T19:40:00.081690Z",
     "start_time": "2019-02-12T19:39:40.928122Z"
    }
   },
   "outputs": [],
   "source": [
    "# Un-pickle data.\n",
    "flights = pickle.load(open('../data/flights/sample3.pickle', 'rb'))"
   ]
  },
  {
   "cell_type": "code",
   "execution_count": 16,
   "metadata": {
    "ExecuteTime": {
     "end_time": "2019-02-12T22:15:17.721260Z",
     "start_time": "2019-02-12T22:15:13.813257Z"
    }
   },
   "outputs": [],
   "source": [
    "# Define y (class) vector and X (features) matrix.\n",
    "# First, create subset of variables that contains both y and X variables.\n",
    "flights_subset = flights[['arrwasdel', \n",
    "                          \n",
    "                          'airline_UA', 'airline_AA', \n",
    "                          'airline_US', 'airline_B6', 'airline_OO', \n",
    "                          'airline_AS', 'airline_NK', 'airline_WN', \n",
    "                          'airline_DL', 'airline_EV', 'airline_HA', \n",
    "                          'airline_MQ', 'airline_VX', \n",
    "                          \n",
    "                          'dow_Sun', 'dow_Mon',            'dow_Wed', \n",
    "                          'dow_Thu', 'dow_Fri', 'dow_Sat', \n",
    "                          \n",
    "                          'hour_1', 'hour_2', 'hour_3', \n",
    "                          'hour_5', 'hour_6', 'hour_7', 'hour_8', \n",
    "                          'hour_9', 'hour_10', 'hour_11', 'hour_12', \n",
    "                          'hour_13', 'hour_14', 'hour_15', 'hour_16', \n",
    "                          'hour_17', 'hour_18', 'hour_19', 'hour_20', \n",
    "                          'hour_21', 'hour_22', 'hour_23',  \n",
    "                          \n",
    "                          'month_1', 'month_2', 'month_3', 'month_4', \n",
    "                                     'month_6', 'month_7', 'month_8', \n",
    "                          'month_9', 'month_10', 'month_11', 'month_12', \n",
    "                          \n",
    "                          'dist_(0, 350]', 'dist_(350, 700]', \n",
    "                          'dist_(700, 1200]', 'dist_(1200, 2000]', \n",
    "                         \n",
    "                          'origin_ABE', 'origin_ABI', 'origin_ABQ', 'origin_ABR', 'origin_ABY', 'origin_ACK', 'origin_ACT', 'origin_ACV', 'origin_ACY', 'origin_ADK', 'origin_ADQ', 'origin_AEX', 'origin_AGS', 'origin_AKN', 'origin_ALB', 'origin_ALO', 'origin_AMA', 'origin_ANC', 'origin_APN', 'origin_ASE', 'origin_ATL', 'origin_ATW', 'origin_AUS', 'origin_AVL', 'origin_AVP', 'origin_AZO', 'origin_BDL', 'origin_BET', 'origin_BFL', 'origin_BGM', 'origin_BGR', 'origin_BHM', 'origin_BIL', 'origin_BIS', 'origin_BJI', 'origin_BLI', 'origin_BMI', 'origin_BNA', 'origin_BOI', 'origin_BOS', 'origin_BPT', 'origin_BQK', 'origin_BQN', 'origin_BRD', 'origin_BRO', 'origin_BRW', 'origin_BTM', 'origin_BTR', 'origin_BTV', 'origin_BUF', 'origin_BUR', 'origin_BWI', 'origin_BZN', 'origin_CAE', 'origin_CAK', 'origin_CDC', 'origin_CDV', 'origin_CEC', 'origin_CHA', 'origin_CHO', 'origin_CHS', 'origin_CID', 'origin_CIU', 'origin_CLD', 'origin_CLE', 'origin_CLL', 'origin_CLT', 'origin_CMH', 'origin_CMI', 'origin_CMX', 'origin_CNY', 'origin_COD', 'origin_COS', 'origin_COU', 'origin_CPR', 'origin_CRP', 'origin_CRW', 'origin_CSG', 'origin_CVG', 'origin_CWA', 'origin_DAB', 'origin_DAL', 'origin_DAY', 'origin_DBQ', 'origin_DCA', 'origin_DEN', 'origin_DFW', 'origin_DHN', 'origin_DIK', 'origin_DLG', 'origin_DLH', 'origin_DRO', 'origin_DSM', 'origin_DTW', 'origin_DVL', 'origin_EAU', 'origin_ECP', 'origin_EGE', 'origin_EKO', 'origin_ELM', 'origin_ELP', 'origin_ERI', 'origin_ESC', 'origin_EUG', 'origin_EVV', 'origin_EWN', 'origin_EWR', 'origin_EYW', 'origin_FAI', 'origin_FAR', 'origin_FAT', 'origin_FAY', 'origin_FCA', 'origin_FLG', 'origin_FLL', 'origin_FNT', 'origin_FSD', 'origin_FSM', 'origin_FWA', 'origin_GCC', 'origin_GCK', 'origin_GEG', 'origin_GFK', 'origin_GGG', 'origin_GJT', 'origin_GNV', 'origin_GPT', 'origin_GRB', 'origin_GRI', 'origin_GRK', 'origin_GRR', 'origin_GSO', 'origin_GSP', 'origin_GST', 'origin_GTF', 'origin_GTR', 'origin_GUC', 'origin_GUM', 'origin_HDN', 'origin_HIB', 'origin_HLN', 'origin_HNL', 'origin_HOB', 'origin_HOU', 'origin_HPN', 'origin_HRL', 'origin_HSV', 'origin_HYA', 'origin_HYS', 'origin_IAD', 'origin_IAG', 'origin_IAH', 'origin_ICT', 'origin_IDA', 'origin_ILG', 'origin_ILM', 'origin_IMT', 'origin_IND', 'origin_INL', 'origin_ISN', 'origin_ISP', 'origin_ITH', 'origin_ITO', 'origin_JAC', 'origin_JAN', 'origin_JAX', 'origin_JFK', 'origin_JLN', 'origin_JMS', 'origin_JNU', 'origin_KOA', 'origin_KTN', 'origin_LAN', 'origin_LAR', 'origin_LAS', 'origin_LAW', 'origin_LAX', 'origin_LBB', 'origin_LBE', 'origin_LCH', 'origin_LEX', 'origin_LFT', 'origin_LGA', 'origin_LGB', 'origin_LIH', 'origin_LIT', 'origin_LNK', 'origin_LRD', 'origin_LSE', 'origin_LWS', 'origin_MAF', 'origin_MBS', 'origin_MCI', 'origin_MCO', 'origin_MDT', 'origin_MDW', 'origin_MEI', 'origin_MEM', 'origin_MFE', 'origin_MFR', 'origin_MGM', 'origin_MHK', 'origin_MHT', 'origin_MIA', 'origin_MKE', 'origin_MKG', 'origin_MLB', 'origin_MLI', 'origin_MLU', 'origin_MMH', 'origin_MOB', 'origin_MOT', 'origin_MQT', 'origin_MRY', 'origin_MSN', 'origin_MSO', 'origin_MSP', 'origin_MSY', 'origin_MTJ', 'origin_MVY', 'origin_MYR', 'origin_OAJ', 'origin_OAK', 'origin_OGG', 'origin_OKC', 'origin_OMA', 'origin_OME', 'origin_ONT', 'origin_ORD', 'origin_ORF', 'origin_ORH', 'origin_OTH', 'origin_OTZ', 'origin_PAH', 'origin_PBG', 'origin_PBI', 'origin_PDX', 'origin_PHF', 'origin_PHL', 'origin_PHX', 'origin_PIA', 'origin_PIB', 'origin_PIH', 'origin_PIT', 'origin_PLN', 'origin_PNS', 'origin_PPG', 'origin_PSC', 'origin_PSE', 'origin_PSG', 'origin_PSP', 'origin_PUB', 'origin_PVD', 'origin_PWM', 'origin_RAP', 'origin_RDD', 'origin_RDM', 'origin_RDU', 'origin_RHI', 'origin_RIC', 'origin_RKS', 'origin_RNO', 'origin_ROA', 'origin_ROC', 'origin_ROW', 'origin_RST', 'origin_RSW', 'origin_SAF', 'origin_SAN', 'origin_SAT', 'origin_SAV', 'origin_SBA', 'origin_SBN', 'origin_SBP', 'origin_SCC', 'origin_SCE', 'origin_SDF', 'origin_SEA', 'origin_SFO', 'origin_SGF', 'origin_SGU', 'origin_SHV', 'origin_SIT', 'origin_SJC', 'origin_SJT', 'origin_SJU', 'origin_SLC', 'origin_SMF', 'origin_SMX', 'origin_SNA', 'origin_SPI', 'origin_SPS', 'origin_SRQ', 'origin_STC', 'origin_STL', 'origin_STT', 'origin_STX', 'origin_SUN', 'origin_SUX', 'origin_SWF', 'origin_SYR', 'origin_TLH', 'origin_TOL', 'origin_TPA', 'origin_TRI', 'origin_TTN', 'origin_TUL', 'origin_TUS', 'origin_TVC', 'origin_TWF', 'origin_TXK', 'origin_TYR', 'origin_TYS', 'origin_UST', 'origin_VEL', 'origin_VLD', 'origin_VPS', 'origin_WRG', 'origin_WYS', 'origin_XNA', 'origin_YAK', 'origin_YUM', \n",
    "                          'dest_ABE', 'dest_ABI', 'dest_ABQ', 'dest_ABR', 'dest_ABY', 'dest_ACK', 'dest_ACT', 'dest_ACV', 'dest_ACY', 'dest_ADK', 'dest_ADQ', 'dest_AEX', 'dest_AGS', 'dest_AKN', 'dest_ALB', 'dest_ALO', 'dest_AMA', 'dest_ANC', 'dest_APN', 'dest_ASE', 'dest_ATL', 'dest_ATW', 'dest_AUS', 'dest_AVL', 'dest_AVP', 'dest_AZO', 'dest_BDL', 'dest_BET', 'dest_BFL', 'dest_BGM', 'dest_BGR', 'dest_BHM', 'dest_BIL', 'dest_BIS', 'dest_BJI', 'dest_BLI', 'dest_BMI', 'dest_BNA', 'dest_BOI', 'dest_BOS', 'dest_BPT', 'dest_BQK', 'dest_BQN', 'dest_BRD', 'dest_BRO', 'dest_BRW', 'dest_BTM', 'dest_BTR', 'dest_BTV', 'dest_BUF', 'dest_BUR', 'dest_BWI', 'dest_BZN', 'dest_CAE', 'dest_CAK', 'dest_CDC', 'dest_CDV', 'dest_CEC', 'dest_CHA', 'dest_CHO', 'dest_CHS', 'dest_CID', 'dest_CIU', 'dest_CLD', 'dest_CLE', 'dest_CLL', 'dest_CLT', 'dest_CMH', 'dest_CMI', 'dest_CMX', 'dest_CNY', 'dest_COD', 'dest_COS', 'dest_COU', 'dest_CPR', 'dest_CRP', 'dest_CRW', 'dest_CSG', 'dest_CVG', 'dest_CWA', 'dest_DAB', 'dest_DAL', 'dest_DAY', 'dest_DBQ', 'dest_DCA', 'dest_DEN', 'dest_DFW', 'dest_DHN', 'dest_DIK', 'dest_DLG', 'dest_DLH', 'dest_DRO', 'dest_DSM', 'dest_DTW', 'dest_DVL', 'dest_EAU', 'dest_ECP', 'dest_EGE', 'dest_EKO', 'dest_ELM', 'dest_ELP', 'dest_ERI', 'dest_ESC', 'dest_EUG', 'dest_EVV', 'dest_EWN', 'dest_EWR', 'dest_EYW', 'dest_FAI', 'dest_FAR', 'dest_FAT', 'dest_FAY', 'dest_FCA', 'dest_FLG', 'dest_FLL', 'dest_FNT', 'dest_FSD', 'dest_FSM', 'dest_FWA', 'dest_GCC', 'dest_GCK', 'dest_GEG', 'dest_GFK', 'dest_GGG', 'dest_GJT', 'dest_GNV', 'dest_GPT', 'dest_GRB', 'dest_GRI', 'dest_GRK', 'dest_GRR', 'dest_GSO', 'dest_GSP', 'dest_GST', 'dest_GTF', 'dest_GTR', 'dest_GUC', 'dest_GUM', 'dest_HDN', 'dest_HIB', 'dest_HLN', 'dest_HNL', 'dest_HOB', 'dest_HOU', 'dest_HPN', 'dest_HRL', 'dest_HSV', 'dest_HYA', 'dest_HYS', 'dest_IAD', 'dest_IAG', 'dest_IAH', 'dest_ICT', 'dest_IDA', 'dest_ILG', 'dest_ILM', 'dest_IMT', 'dest_IND', 'dest_INL', 'dest_ISN', 'dest_ISP', 'dest_ITH', 'dest_ITO', 'dest_JAC', 'dest_JAN', 'dest_JAX', 'dest_JFK', 'dest_JLN', 'dest_JMS', 'dest_JNU', 'dest_KOA', 'dest_KTN', 'dest_LAN', 'dest_LAR', 'dest_LAS', 'dest_LAW', 'dest_LAX', 'dest_LBB', 'dest_LBE', 'dest_LCH', 'dest_LEX', 'dest_LFT', 'dest_LGA', 'dest_LGB', 'dest_LIH', 'dest_LIT', 'dest_LNK', 'dest_LRD', 'dest_LSE', 'dest_LWS', 'dest_MAF', 'dest_MBS', 'dest_MCI', 'dest_MCO', 'dest_MDT', 'dest_MDW', 'dest_MEI', 'dest_MEM', 'dest_MFE', 'dest_MFR', 'dest_MGM', 'dest_MHK', 'dest_MHT', 'dest_MIA', 'dest_MKE', 'dest_MKG', 'dest_MLB', 'dest_MLI', 'dest_MLU', 'dest_MMH', 'dest_MOB', 'dest_MOT', 'dest_MQT', 'dest_MRY', 'dest_MSN', 'dest_MSO', 'dest_MSP', 'dest_MSY', 'dest_MTJ', 'dest_MVY', 'dest_MYR', 'dest_OAJ', 'dest_OAK', 'dest_OGG', 'dest_OKC', 'dest_OMA', 'dest_OME', 'dest_ONT', 'dest_ORD', 'dest_ORF', 'dest_ORH', 'dest_OTH', 'dest_OTZ', 'dest_PAH', 'dest_PBG', 'dest_PBI', 'dest_PDX', 'dest_PHF', 'dest_PHL', 'dest_PHX', 'dest_PIA', 'dest_PIB', 'dest_PIH', 'dest_PIT', 'dest_PLN', 'dest_PNS', 'dest_PPG', 'dest_PSC', 'dest_PSE', 'dest_PSG', 'dest_PSP', 'dest_PUB', 'dest_PVD', 'dest_PWM', 'dest_RAP', 'dest_RDD', 'dest_RDM', 'dest_RDU', 'dest_RHI', 'dest_RIC', 'dest_RKS', 'dest_RNO', 'dest_ROA', 'dest_ROC', 'dest_ROW', 'dest_RST', 'dest_RSW', 'dest_SAF', 'dest_SAN', 'dest_SAT', 'dest_SAV', 'dest_SBA', 'dest_SBN', 'dest_SBP', 'dest_SCC', 'dest_SCE', 'dest_SDF', 'dest_SEA', 'dest_SFO', 'dest_SGF', 'dest_SGU', 'dest_SHV', 'dest_SIT', 'dest_SJC', 'dest_SJT', 'dest_SJU', 'dest_SLC', 'dest_SMF', 'dest_SMX', 'dest_SNA', 'dest_SPI', 'dest_SPS', 'dest_SRQ', 'dest_STC', 'dest_STL', 'dest_STT', 'dest_STX', 'dest_SUN', 'dest_SUX', 'dest_SWF', 'dest_SYR', 'dest_TLH', 'dest_TOL', 'dest_TPA', 'dest_TRI', 'dest_TTN', 'dest_TUL', 'dest_TUS', 'dest_TVC', 'dest_TWF', 'dest_TXK', 'dest_TYR', 'dest_TYS', 'dest_UST', 'dest_VEL', 'dest_VLD', 'dest_VPS', 'dest_WRG', 'dest_WYS', 'dest_XNA', 'dest_YAK', 'dest_YUM', \n",
    "                          \n",
    "                          'precip', 'wind_speed', 'ceiling', 'vis', 'temp', 'pressure', 'dew'\n",
    "                         ]]"
   ]
  },
  {
   "cell_type": "code",
   "execution_count": 17,
   "metadata": {
    "ExecuteTime": {
     "end_time": "2019-02-12T22:15:45.942679Z",
     "start_time": "2019-02-12T22:15:21.065109Z"
    }
   },
   "outputs": [
    {
     "name": "stderr",
     "output_type": "stream",
     "text": [
      "/anaconda3/lib/python3.7/site-packages/ipykernel_launcher.py:1: SettingWithCopyWarning: \n",
      "A value is trying to be set on a copy of a slice from a DataFrame\n",
      "\n",
      "See the caveats in the documentation: http://pandas.pydata.org/pandas-docs/stable/indexing.html#indexing-view-versus-copy\n",
      "  \"\"\"Entry point for launching an IPython kernel.\n"
     ]
    }
   ],
   "source": [
    "# Drop blanks.\n",
    "flights_subset.dropna(inplace=True)"
   ]
  },
  {
   "cell_type": "code",
   "execution_count": 18,
   "metadata": {
    "ExecuteTime": {
     "end_time": "2019-02-12T22:15:52.983503Z",
     "start_time": "2019-02-12T22:15:49.783396Z"
    }
   },
   "outputs": [],
   "source": [
    "# Define y and X.\n",
    "y = flights_subset['arrwasdel']\n",
    "X = flights_subset[['airline_UA', 'airline_AA', \n",
    "                          'airline_US', 'airline_B6', 'airline_OO', \n",
    "                          'airline_AS', 'airline_NK', 'airline_WN', \n",
    "                          'airline_DL', 'airline_EV', 'airline_HA', \n",
    "                          'airline_MQ', 'airline_VX', \n",
    "                          \n",
    "                          'dow_Sun', 'dow_Mon',            'dow_Wed', \n",
    "                          'dow_Thu', 'dow_Fri', 'dow_Sat', \n",
    "                          \n",
    "                          'hour_1', 'hour_2', 'hour_3', \n",
    "                          'hour_5', 'hour_6', 'hour_7', 'hour_8', \n",
    "                          'hour_9', 'hour_10', 'hour_11', 'hour_12', \n",
    "                          'hour_13', 'hour_14', 'hour_15', 'hour_16', \n",
    "                          'hour_17', 'hour_18', 'hour_19', 'hour_20', \n",
    "                          'hour_21', 'hour_22', 'hour_23',   \n",
    "                          \n",
    "                          'month_1', 'month_2', 'month_3', 'month_4', \n",
    "                                     'month_6', 'month_7', 'month_8', \n",
    "                          'month_9', 'month_10', 'month_11', 'month_12', \n",
    "                          \n",
    "                          'dist_(0, 350]', 'dist_(350, 700]', \n",
    "                          'dist_(700, 1200]', 'dist_(1200, 2000]', \n",
    "                   \n",
    "                                      'origin_ABI', 'origin_ABQ', 'origin_ABR', 'origin_ABY', 'origin_ACK', 'origin_ACT', 'origin_ACV', 'origin_ACY', 'origin_ADK', 'origin_ADQ', 'origin_AEX', 'origin_AGS', 'origin_AKN', 'origin_ALB', 'origin_ALO', 'origin_AMA', 'origin_ANC', 'origin_APN', 'origin_ASE', 'origin_ATL', 'origin_ATW', 'origin_AUS', 'origin_AVL', 'origin_AVP', 'origin_AZO', 'origin_BDL', 'origin_BET', 'origin_BFL', 'origin_BGM', 'origin_BGR', 'origin_BHM', 'origin_BIL', 'origin_BIS', 'origin_BJI', 'origin_BLI', 'origin_BMI', 'origin_BNA', 'origin_BOI', 'origin_BOS', 'origin_BPT', 'origin_BQK', 'origin_BQN', 'origin_BRD', 'origin_BRO', 'origin_BRW', 'origin_BTM', 'origin_BTR', 'origin_BTV', 'origin_BUF', 'origin_BUR', 'origin_BWI', 'origin_BZN', 'origin_CAE', 'origin_CAK', 'origin_CDC', 'origin_CDV', 'origin_CEC', 'origin_CHA', 'origin_CHO', 'origin_CHS', 'origin_CID', 'origin_CIU', 'origin_CLD', 'origin_CLE', 'origin_CLL', 'origin_CLT', 'origin_CMH', 'origin_CMI', 'origin_CMX', 'origin_CNY', 'origin_COD', 'origin_COS', 'origin_COU', 'origin_CPR', 'origin_CRP', 'origin_CRW', 'origin_CSG', 'origin_CVG', 'origin_CWA', 'origin_DAB', 'origin_DAL', 'origin_DAY', 'origin_DBQ', 'origin_DCA', 'origin_DEN', 'origin_DFW', 'origin_DHN', 'origin_DIK', 'origin_DLG', 'origin_DLH', 'origin_DRO', 'origin_DSM', 'origin_DTW', 'origin_DVL', 'origin_EAU', 'origin_ECP', 'origin_EGE', 'origin_EKO', 'origin_ELM', 'origin_ELP', 'origin_ERI', 'origin_ESC', 'origin_EUG', 'origin_EVV', 'origin_EWN', 'origin_EWR', 'origin_EYW', 'origin_FAI', 'origin_FAR', 'origin_FAT', 'origin_FAY', 'origin_FCA', 'origin_FLG', 'origin_FLL', 'origin_FNT', 'origin_FSD', 'origin_FSM', 'origin_FWA', 'origin_GCC', 'origin_GCK', 'origin_GEG', 'origin_GFK', 'origin_GGG', 'origin_GJT', 'origin_GNV', 'origin_GPT', 'origin_GRB', 'origin_GRI', 'origin_GRK', 'origin_GRR', 'origin_GSO', 'origin_GSP', 'origin_GST', 'origin_GTF', 'origin_GTR', 'origin_GUC', 'origin_GUM', 'origin_HDN', 'origin_HIB', 'origin_HLN', 'origin_HNL', 'origin_HOB', 'origin_HOU', 'origin_HPN', 'origin_HRL', 'origin_HSV', 'origin_HYA', 'origin_HYS', 'origin_IAD', 'origin_IAG', 'origin_IAH', 'origin_ICT', 'origin_IDA', 'origin_ILG', 'origin_ILM', 'origin_IMT', 'origin_IND', 'origin_INL', 'origin_ISN', 'origin_ISP', 'origin_ITH', 'origin_ITO', 'origin_JAC', 'origin_JAN', 'origin_JAX', 'origin_JFK', 'origin_JLN', 'origin_JMS', 'origin_JNU', 'origin_KOA', 'origin_KTN', 'origin_LAN', 'origin_LAR', 'origin_LAS', 'origin_LAW', 'origin_LAX', 'origin_LBB', 'origin_LBE', 'origin_LCH', 'origin_LEX', 'origin_LFT', 'origin_LGA', 'origin_LGB', 'origin_LIH', 'origin_LIT', 'origin_LNK', 'origin_LRD', 'origin_LSE', 'origin_LWS', 'origin_MAF', 'origin_MBS', 'origin_MCI', 'origin_MCO', 'origin_MDT', 'origin_MDW', 'origin_MEI', 'origin_MEM', 'origin_MFE', 'origin_MFR', 'origin_MGM', 'origin_MHK', 'origin_MHT', 'origin_MIA', 'origin_MKE', 'origin_MKG', 'origin_MLB', 'origin_MLI', 'origin_MLU', 'origin_MMH', 'origin_MOB', 'origin_MOT', 'origin_MQT', 'origin_MRY', 'origin_MSN', 'origin_MSO', 'origin_MSP', 'origin_MSY', 'origin_MTJ', 'origin_MVY', 'origin_MYR', 'origin_OAJ', 'origin_OAK', 'origin_OGG', 'origin_OKC', 'origin_OMA', 'origin_OME', 'origin_ONT', 'origin_ORD', 'origin_ORF', 'origin_ORH', 'origin_OTH', 'origin_OTZ', 'origin_PAH', 'origin_PBG', 'origin_PBI', 'origin_PDX', 'origin_PHF', 'origin_PHL', 'origin_PHX', 'origin_PIA', 'origin_PIB', 'origin_PIH', 'origin_PIT', 'origin_PLN', 'origin_PNS', 'origin_PPG', 'origin_PSC', 'origin_PSE', 'origin_PSG', 'origin_PSP', 'origin_PUB', 'origin_PVD', 'origin_PWM', 'origin_RAP', 'origin_RDD', 'origin_RDM', 'origin_RDU', 'origin_RHI', 'origin_RIC', 'origin_RKS', 'origin_RNO', 'origin_ROA', 'origin_ROC', 'origin_ROW', 'origin_RST', 'origin_RSW', 'origin_SAF', 'origin_SAN', 'origin_SAT', 'origin_SAV', 'origin_SBA', 'origin_SBN', 'origin_SBP', 'origin_SCC', 'origin_SCE', 'origin_SDF', 'origin_SEA', 'origin_SFO', 'origin_SGF', 'origin_SGU', 'origin_SHV', 'origin_SIT', 'origin_SJC', 'origin_SJT', 'origin_SJU', 'origin_SLC', 'origin_SMF', 'origin_SMX', 'origin_SNA', 'origin_SPI', 'origin_SPS', 'origin_SRQ', 'origin_STC', 'origin_STL', 'origin_STT', 'origin_STX', 'origin_SUN', 'origin_SUX', 'origin_SWF', 'origin_SYR', 'origin_TLH', 'origin_TOL', 'origin_TPA', 'origin_TRI', 'origin_TTN', 'origin_TUL', 'origin_TUS', 'origin_TVC', 'origin_TWF', 'origin_TXK', 'origin_TYR', 'origin_TYS', 'origin_UST', 'origin_VEL', 'origin_VLD', 'origin_VPS', 'origin_WRG', 'origin_WYS', 'origin_XNA', 'origin_YAK', 'origin_YUM', \n",
    "                                      'dest_ABI', 'dest_ABQ', 'dest_ABR', 'dest_ABY', 'dest_ACK', 'dest_ACT', 'dest_ACV', 'dest_ACY', 'dest_ADK', 'dest_ADQ', 'dest_AEX', 'dest_AGS', 'dest_AKN', 'dest_ALB', 'dest_ALO', 'dest_AMA', 'dest_ANC', 'dest_APN', 'dest_ASE', 'dest_ATL', 'dest_ATW', 'dest_AUS', 'dest_AVL', 'dest_AVP', 'dest_AZO', 'dest_BDL', 'dest_BET', 'dest_BFL', 'dest_BGM', 'dest_BGR', 'dest_BHM', 'dest_BIL', 'dest_BIS', 'dest_BJI', 'dest_BLI', 'dest_BMI', 'dest_BNA', 'dest_BOI', 'dest_BOS', 'dest_BPT', 'dest_BQK', 'dest_BQN', 'dest_BRD', 'dest_BRO', 'dest_BRW', 'dest_BTM', 'dest_BTR', 'dest_BTV', 'dest_BUF', 'dest_BUR', 'dest_BWI', 'dest_BZN', 'dest_CAE', 'dest_CAK', 'dest_CDC', 'dest_CDV', 'dest_CEC', 'dest_CHA', 'dest_CHO', 'dest_CHS', 'dest_CID', 'dest_CIU', 'dest_CLD', 'dest_CLE', 'dest_CLL', 'dest_CLT', 'dest_CMH', 'dest_CMI', 'dest_CMX', 'dest_CNY', 'dest_COD', 'dest_COS', 'dest_COU', 'dest_CPR', 'dest_CRP', 'dest_CRW', 'dest_CSG', 'dest_CVG', 'dest_CWA', 'dest_DAB', 'dest_DAL', 'dest_DAY', 'dest_DBQ', 'dest_DCA', 'dest_DEN', 'dest_DFW', 'dest_DHN', 'dest_DIK', 'dest_DLG', 'dest_DLH', 'dest_DRO', 'dest_DSM', 'dest_DTW', 'dest_DVL', 'dest_EAU', 'dest_ECP', 'dest_EGE', 'dest_EKO', 'dest_ELM', 'dest_ELP', 'dest_ERI', 'dest_ESC', 'dest_EUG', 'dest_EVV', 'dest_EWN', 'dest_EWR', 'dest_EYW', 'dest_FAI', 'dest_FAR', 'dest_FAT', 'dest_FAY', 'dest_FCA', 'dest_FLG', 'dest_FLL', 'dest_FNT', 'dest_FSD', 'dest_FSM', 'dest_FWA', 'dest_GCC', 'dest_GCK', 'dest_GEG', 'dest_GFK', 'dest_GGG', 'dest_GJT', 'dest_GNV', 'dest_GPT', 'dest_GRB', 'dest_GRI', 'dest_GRK', 'dest_GRR', 'dest_GSO', 'dest_GSP', 'dest_GST', 'dest_GTF', 'dest_GTR', 'dest_GUC', 'dest_GUM', 'dest_HDN', 'dest_HIB', 'dest_HLN', 'dest_HNL', 'dest_HOB', 'dest_HOU', 'dest_HPN', 'dest_HRL', 'dest_HSV', 'dest_HYA', 'dest_HYS', 'dest_IAD', 'dest_IAG', 'dest_IAH', 'dest_ICT', 'dest_IDA', 'dest_ILG', 'dest_ILM', 'dest_IMT', 'dest_IND', 'dest_INL', 'dest_ISN', 'dest_ISP', 'dest_ITH', 'dest_ITO', 'dest_JAC', 'dest_JAN', 'dest_JAX', 'dest_JFK', 'dest_JLN', 'dest_JMS', 'dest_JNU', 'dest_KOA', 'dest_KTN', 'dest_LAN', 'dest_LAR', 'dest_LAS', 'dest_LAW', 'dest_LAX', 'dest_LBB', 'dest_LBE', 'dest_LCH', 'dest_LEX', 'dest_LFT', 'dest_LGA', 'dest_LGB', 'dest_LIH', 'dest_LIT', 'dest_LNK', 'dest_LRD', 'dest_LSE', 'dest_LWS', 'dest_MAF', 'dest_MBS', 'dest_MCI', 'dest_MCO', 'dest_MDT', 'dest_MDW', 'dest_MEI', 'dest_MEM', 'dest_MFE', 'dest_MFR', 'dest_MGM', 'dest_MHK', 'dest_MHT', 'dest_MIA', 'dest_MKE', 'dest_MKG', 'dest_MLB', 'dest_MLI', 'dest_MLU', 'dest_MMH', 'dest_MOB', 'dest_MOT', 'dest_MQT', 'dest_MRY', 'dest_MSN', 'dest_MSO', 'dest_MSP', 'dest_MSY', 'dest_MTJ', 'dest_MVY', 'dest_MYR', 'dest_OAJ', 'dest_OAK', 'dest_OGG', 'dest_OKC', 'dest_OMA', 'dest_OME', 'dest_ONT', 'dest_ORD', 'dest_ORF', 'dest_ORH', 'dest_OTH', 'dest_OTZ', 'dest_PAH', 'dest_PBG', 'dest_PBI', 'dest_PDX', 'dest_PHF', 'dest_PHL', 'dest_PHX', 'dest_PIA', 'dest_PIB', 'dest_PIH', 'dest_PIT', 'dest_PLN', 'dest_PNS', 'dest_PPG', 'dest_PSC', 'dest_PSE', 'dest_PSG', 'dest_PSP', 'dest_PUB', 'dest_PVD', 'dest_PWM', 'dest_RAP', 'dest_RDD', 'dest_RDM', 'dest_RDU', 'dest_RHI', 'dest_RIC', 'dest_RKS', 'dest_RNO', 'dest_ROA', 'dest_ROC', 'dest_ROW', 'dest_RST', 'dest_RSW', 'dest_SAF', 'dest_SAN', 'dest_SAT', 'dest_SAV', 'dest_SBA', 'dest_SBN', 'dest_SBP', 'dest_SCC', 'dest_SCE', 'dest_SDF', 'dest_SEA', 'dest_SFO', 'dest_SGF', 'dest_SGU', 'dest_SHV', 'dest_SIT', 'dest_SJC', 'dest_SJT', 'dest_SJU', 'dest_SLC', 'dest_SMF', 'dest_SMX', 'dest_SNA', 'dest_SPI', 'dest_SPS', 'dest_SRQ', 'dest_STC', 'dest_STL', 'dest_STT', 'dest_STX', 'dest_SUN', 'dest_SUX', 'dest_SWF', 'dest_SYR', 'dest_TLH', 'dest_TOL', 'dest_TPA', 'dest_TRI', 'dest_TTN', 'dest_TUL', 'dest_TUS', 'dest_TVC', 'dest_TWF', 'dest_TXK', 'dest_TYR', 'dest_TYS', 'dest_UST', 'dest_VEL', 'dest_VLD', 'dest_VPS', 'dest_WRG', 'dest_WYS', 'dest_XNA', 'dest_YAK', 'dest_YUM', \n",
    "                    \n",
    "                          'precip', 'wind_speed', 'ceiling', 'vis', 'temp', 'pressure', 'dew'\n",
    "                   ]]\n"
   ]
  },
  {
   "cell_type": "code",
   "execution_count": 19,
   "metadata": {
    "ExecuteTime": {
     "end_time": "2019-02-12T22:15:54.627742Z",
     "start_time": "2019-02-12T22:15:54.500213Z"
    }
   },
   "outputs": [
    {
     "data": {
      "text/plain": [
       "Counter({0: 585593, 1: 135980})"
      ]
     },
     "execution_count": 19,
     "metadata": {},
     "output_type": "execute_result"
    }
   ],
   "source": [
    "Counter(y)"
   ]
  },
  {
   "cell_type": "code",
   "execution_count": 21,
   "metadata": {
    "ExecuteTime": {
     "end_time": "2019-02-12T22:16:18.762425Z",
     "start_time": "2019-02-12T22:16:00.474984Z"
    }
   },
   "outputs": [],
   "source": [
    "# Pickle y and X for easier reloading.\n",
    "y.to_pickle('../data/flights/y.pickle')\n",
    "X.to_pickle('../data/flights/X.pickle')"
   ]
  },
  {
   "cell_type": "code",
   "execution_count": 2,
   "metadata": {
    "ExecuteTime": {
     "end_time": "2019-02-12T18:50:55.824234Z",
     "start_time": "2019-02-12T18:50:50.121100Z"
    }
   },
   "outputs": [],
   "source": [
    "# Reload y and X.\n",
    "y = pd.read_pickle('../data/flights/y.pickle')\n",
    "X = pd.read_pickle('../data/flights/X.pickle')"
   ]
  },
  {
   "cell_type": "code",
   "execution_count": 22,
   "metadata": {
    "ExecuteTime": {
     "end_time": "2019-02-12T22:17:08.125503Z",
     "start_time": "2019-02-12T22:16:56.563165Z"
    }
   },
   "outputs": [],
   "source": [
    "# Create test, train and holdout groups.\n",
    "X_train, X_test, y_train, y_test = \\\n",
    "        train_test_split(X, y, test_size=0.2, random_state=35)"
   ]
  },
  {
   "cell_type": "code",
   "execution_count": 23,
   "metadata": {
    "ExecuteTime": {
     "end_time": "2019-02-12T22:17:10.114644Z",
     "start_time": "2019-02-12T22:17:10.089458Z"
    }
   },
   "outputs": [
    {
     "data": {
      "text/plain": [
       "0    468810\n",
       "1    108448\n",
       "Name: arrwasdel, dtype: int64"
      ]
     },
     "execution_count": 23,
     "metadata": {},
     "output_type": "execute_result"
    }
   ],
   "source": [
    "y_train.value_counts()"
   ]
  },
  {
   "cell_type": "code",
   "execution_count": 24,
   "metadata": {
    "ExecuteTime": {
     "end_time": "2019-02-12T22:17:11.321957Z",
     "start_time": "2019-02-12T22:17:11.309240Z"
    }
   },
   "outputs": [
    {
     "data": {
      "text/plain": [
       "0    116783\n",
       "1     27532\n",
       "Name: arrwasdel, dtype: int64"
      ]
     },
     "execution_count": 24,
     "metadata": {},
     "output_type": "execute_result"
    }
   ],
   "source": [
    "y_test.value_counts()"
   ]
  },
  {
   "cell_type": "markdown",
   "metadata": {},
   "source": [
    "### <a id=\"3B\"></a>3B. Logistic regression"
   ]
  },
  {
   "cell_type": "code",
   "execution_count": 25,
   "metadata": {
    "ExecuteTime": {
     "end_time": "2019-02-12T22:29:19.499728Z",
     "start_time": "2019-02-12T22:18:01.684363Z"
    }
   },
   "outputs": [
    {
     "data": {
      "text/plain": [
       "0.8120874894761094"
      ]
     },
     "execution_count": 25,
     "metadata": {},
     "output_type": "execute_result"
    }
   ],
   "source": [
    "# Create, fit and score logistic model.\n",
    "lm = LogisticRegressionCV(solver='lbfgs', cv=5, max_iter=1000, class_weight={0:1, 1:2}, n_jobs=-1)\n",
    "lm.fit(X_train, y_train)\n",
    "lm.score(X_train, y_train)"
   ]
  },
  {
   "cell_type": "code",
   "execution_count": 26,
   "metadata": {
    "ExecuteTime": {
     "end_time": "2019-02-12T22:30:29.890352Z",
     "start_time": "2019-02-12T22:30:26.451894Z"
    }
   },
   "outputs": [
    {
     "data": {
      "text/plain": [
       "array([[468602,    208],\n",
       "       [108266,    182]])"
      ]
     },
     "execution_count": 26,
     "metadata": {},
     "output_type": "execute_result"
    }
   ],
   "source": [
    "# Create predicted values for training set.\n",
    "prediction_hard = lm.predict(X_train)\n",
    "\n",
    "# Look at confusion matrix.\n",
    "confusion_matrix(y_train, prediction_hard)"
   ]
  },
  {
   "cell_type": "code",
   "execution_count": 27,
   "metadata": {
    "ExecuteTime": {
     "end_time": "2019-02-12T22:33:37.420910Z",
     "start_time": "2019-02-12T22:33:36.126347Z"
    }
   },
   "outputs": [
    {
     "name": "stdout",
     "output_type": "stream",
     "text": [
      "Default threshold:\n",
      "Precision: 0.5667,   Recall: 0.0019\n"
     ]
    }
   ],
   "source": [
    "# Create predicted values for test set using default threshold of 0.5.\n",
    "y_predict = lm.predict(X_test)\n",
    "print(\"Default threshold:\")\n",
    "print(\"Precision: {:6.4f},   Recall: {:6.4f}\".format(precision_score(y_test, y_predict), \n",
    "                                                     recall_score(y_test, y_predict)))"
   ]
  },
  {
   "cell_type": "code",
   "execution_count": 28,
   "metadata": {
    "ExecuteTime": {
     "end_time": "2019-02-12T22:34:05.126594Z",
     "start_time": "2019-02-12T22:34:03.997896Z"
    }
   },
   "outputs": [
    {
     "name": "stdout",
     "output_type": "stream",
     "text": [
      "Threshold of 0.28:\n",
      "Precision: 0.2154,   Recall: 0.8038\n"
     ]
    }
   ],
   "source": [
    "# Try a new threshold of 0.28\n",
    "y_predict = (lm.predict_proba(X_test)[:,1] > 0.28)\n",
    "print(\"Threshold of 0.28:\")\n",
    "print(\"Precision: {:6.4f},   Recall: {:6.4f}\".format(precision_score(y_test, y_predict), \n",
    "                                                     recall_score(y_test, y_predict)))"
   ]
  },
  {
   "cell_type": "code",
   "execution_count": 29,
   "metadata": {
    "ExecuteTime": {
     "end_time": "2019-02-12T22:34:08.316668Z",
     "start_time": "2019-02-12T22:34:06.336072Z"
    }
   },
   "outputs": [
    {
     "name": "stderr",
     "output_type": "stream",
     "text": [
      "/anaconda3/lib/python3.7/site-packages/ipykernel_launcher.py:5: RuntimeWarning: divide by zero encountered in true_divide\n",
      "  \"\"\"\n"
     ]
    },
    {
     "data": {
      "image/png": "[encoded data removed]",
      "text/plain": [
       "<Figure size 480x320 with 1 Axes>"
      ]
     },
     "metadata": {
      "needs_background": "light"
     },
     "output_type": "display_data"
    }
   ],
   "source": [
    "# We can also use the probabilities to make a curve showing us how recall \n",
    "# and thresholds trade off, as well as F1.\n",
    "\n",
    "precision_curve, recall_curve, threshold_curve = precision_recall_curve(y_test, lm.predict_proba(X_test)[:,1] )\n",
    "f1_curve = 2/(1/recall_curve + 1/precision_curve)\n",
    "\n",
    "plt.figure(dpi=80)\n",
    "plt.plot(threshold_curve, precision_curve[1:],label='precision')\n",
    "plt.plot(threshold_curve, recall_curve[1:], label='recall')\n",
    "plt.plot(threshold_curve, f1_curve[1:], label='F1')\n",
    "plt.legend(loc='lower left')\n",
    "plt.xlabel('Threshold (above this probability, label as delayed)');\n",
    "plt.title('Precision, Recall and F1 Curves');"
   ]
  },
  {
   "cell_type": "code",
   "execution_count": 63,
   "metadata": {
    "ExecuteTime": {
     "end_time": "2019-02-12T23:15:48.751452Z",
     "start_time": "2019-02-12T23:15:39.301575Z"
    }
   },
   "outputs": [],
   "source": [
    "# Save these curves out to a CSV.\n",
    "output = pd.DataFrame([list(threshold_curve), list(precision_curve), list(recall_curve), list(f1_curve)])\n",
    "output = output.transpose()\n",
    "output.to_csv('../presentation/f1.csv', header=['Threshold', 'Precision', 'Recall', 'F1'])"
   ]
  },
  {
   "cell_type": "code",
   "execution_count": 30,
   "metadata": {
    "ExecuteTime": {
     "end_time": "2019-02-12T22:34:08.929291Z",
     "start_time": "2019-02-12T22:34:08.322706Z"
    }
   },
   "outputs": [
    {
     "data": {
      "image/png": "[encoded data removed]",
      "text/plain": [
       "<Figure size 480x320 with 1 Axes>"
      ]
     },
     "metadata": {
      "needs_background": "light"
     },
     "output_type": "display_data"
    }
   ],
   "source": [
    "# Look at precision-recall curve.\n",
    "plt.figure(dpi=80)\n",
    "plt.plot(recall_curve[1:], precision_curve[1:],label='precision')\n",
    "plt.xlabel(\"Recall\")\n",
    "plt.ylabel(\"Precision\")\n",
    "plt.title(\"Precision-Recall Curve\");"
   ]
  },
  {
   "cell_type": "code",
   "execution_count": 31,
   "metadata": {
    "ExecuteTime": {
     "end_time": "2019-02-12T22:35:48.073279Z",
     "start_time": "2019-02-12T22:35:48.030601Z"
    }
   },
   "outputs": [
    {
     "data": {
      "text/plain": [
       "0.3397060516520204"
      ]
     },
     "execution_count": 31,
     "metadata": {},
     "output_type": "execute_result"
    }
   ],
   "source": [
    "# F1 score\n",
    "f1_score(y_test, y_predict)"
   ]
  },
  {
   "cell_type": "code",
   "execution_count": 32,
   "metadata": {
    "ExecuteTime": {
     "end_time": "2019-02-12T22:35:49.710488Z",
     "start_time": "2019-02-12T22:35:49.672382Z"
    }
   },
   "outputs": [
    {
     "data": {
      "text/plain": [
       "0.25230058552067564"
      ]
     },
     "execution_count": 32,
     "metadata": {},
     "output_type": "execute_result"
    }
   ],
   "source": [
    "# F(.5) score\n",
    "fbeta_score(y_test, y_predict, beta=.5)"
   ]
  },
  {
   "cell_type": "code",
   "execution_count": 33,
   "metadata": {
    "ExecuteTime": {
     "end_time": "2019-02-12T22:35:51.645601Z",
     "start_time": "2019-02-12T22:35:51.595116Z"
    }
   },
   "outputs": [
    {
     "data": {
      "text/plain": [
       "0.5197730293906272"
      ]
     },
     "execution_count": 33,
     "metadata": {},
     "output_type": "execute_result"
    }
   ],
   "source": [
    "# F2 score\n",
    "fbeta_score(y_test, y_predict, beta=2)"
   ]
  },
  {
   "cell_type": "code",
   "execution_count": 34,
   "metadata": {
    "ExecuteTime": {
     "end_time": "2019-02-12T22:36:02.630870Z",
     "start_time": "2019-02-12T22:36:01.633376Z"
    }
   },
   "outputs": [],
   "source": [
    "# Precision = TP / (TP + FP)\n",
    "# Recall = TP/P = True positive rate\n",
    "# false positive rate = FP / true negatives = FP / (FP + TN) \n",
    "from sklearn.metrics import roc_auc_score, roc_curve\n",
    "\n",
    "fpr, tpr, thresholds = roc_curve(y_test, lm.predict_proba(X_test)[:,1] > .2)"
   ]
  },
  {
   "cell_type": "code",
   "execution_count": 35,
   "metadata": {
    "ExecuteTime": {
     "end_time": "2019-02-12T22:36:04.421502Z",
     "start_time": "2019-02-12T22:36:03.389252Z"
    }
   },
   "outputs": [
    {
     "name": "stdout",
     "output_type": "stream",
     "text": [
      "ROC AUC score =  0.4999712066131976\n"
     ]
    },
    {
     "data": {
      "image/png": "[encoded data removed]",
      "text/plain": [
       "<Figure size 432x288 with 1 Axes>"
      ]
     },
     "metadata": {
      "needs_background": "light"
     },
     "output_type": "display_data"
    }
   ],
   "source": [
    "plt.plot(fpr, tpr,lw=2)\n",
    "plt.plot([0,1],[0,1],c='violet',ls='--')\n",
    "plt.xlim([-0.05,1.05])\n",
    "plt.ylim([-0.05,1.05])\n",
    "\n",
    "\n",
    "plt.xlabel('False positive rate')\n",
    "plt.ylabel('True positive rate')\n",
    "plt.title('ROC curve');\n",
    "print(\"ROC AUC score = \", roc_auc_score(y_test, lm.predict_proba(X_test)[:,1] > .2))"
   ]
  },
  {
   "cell_type": "code",
   "execution_count": 45,
   "metadata": {
    "ExecuteTime": {
     "end_time": "2019-02-12T22:38:58.326548Z",
     "start_time": "2019-02-12T22:38:58.295398Z"
    }
   },
   "outputs": [
    {
     "data": {
      "text/plain": [
       "[('month_6', 0.029391309299093678),\n",
       " ('hour_21', 0.02752575440471413),\n",
       " ('wind_speed', 0.02458051444973913),\n",
       " ('hour_20', 0.02297148380659455),\n",
       " ('precip', 0.022145966755041352),\n",
       " ('month_2', 0.020698852794629664),\n",
       " ('hour_22', 0.020180878421662395),\n",
       " ('month_7', 0.01923893144174218),\n",
       " ('hour_23', 0.018513473770229227),\n",
       " ('hour_18', 0.018238488913969814),\n",
       " ('hour_19', 0.017288429791000873),\n",
       " ('dist_(700, 1200]', 0.016967316550585983),\n",
       " ('dow_Thu', 0.01601469260050024),\n",
       " ('airline_NK', 0.015632736964918487),\n",
       " ('airline_WN', 0.015142926204411974),\n",
       " ('airline_UA', 0.01497860828881971),\n",
       " ('origin_ORD', 0.013006080813348884),\n",
       " ('dest_LAX', 0.011354456767650456),\n",
       " ('airline_B6', 0.011122532770448475),\n",
       " ('hour_17', 0.011103569033248663),\n",
       " ('dow_Mon', 0.010077713582765565),\n",
       " ('airline_MQ', 0.009798512805477229),\n",
       " ('dest_LGA', 0.009690600428412209),\n",
       " ('month_1', 0.009071291467316684),\n",
       " ('dest_SFO', 0.008869810318156273),\n",
       " ('origin_LAX', 0.008557231529601805),\n",
       " ('dow_Fri', 0.008184371291697459),\n",
       " ('dest_ORD', 0.0073419004320159935),\n",
       " ('hour_16', 0.00702192789612661),\n",
       " ('origin_DEN', 0.006126812498820735),\n",
       " ('origin_SFO', 0.005981756800131123),\n",
       " ('dest_JFK', 0.005183429521580954),\n",
       " ('origin_BWI', 0.004334028357785926),\n",
       " ('origin_LGA', 0.004188099500849367),\n",
       " ('dist_(1200, 2000]', 0.003768674122540189),\n",
       " ('dest_EWR', 0.003683782426552007),\n",
       " ('origin_LAS', 0.0035852860339489682),\n",
       " ('origin_IAH', 0.003555940688646699),\n",
       " ('origin_DAL', 0.0034973597643325094),\n",
       " ('origin_MIA', 0.0034834367238217485),\n",
       " ('month_12', 0.0034332274309375682),\n",
       " ('airline_EV', 0.003397366980897135),\n",
       " ('temp', 0.003194152366791287),\n",
       " ('origin_PHX', 0.003185536640870656),\n",
       " ('dest_BOS', 0.002568047199704008),\n",
       " ('origin_DFW', 0.002540718555756144),\n",
       " ('origin_MCO', 0.002323477158077664),\n",
       " ('origin_OAK', 0.002126342362203986),\n",
       " ('dest_DEN', 0.001958884560081281),\n",
       " ('month_8', 0.0018616142633969854),\n",
       " ('origin_HOU', 0.0017265469522166595),\n",
       " ('dest_FLL', 0.0017116246979682402),\n",
       " ('origin_EWR', 0.00165394335279754),\n",
       " ('dest_PHL', 0.0015517339512115516),\n",
       " ('dest_MIA', 0.0014845323161792386),\n",
       " ('airline_OO', 0.0014832739800663692),\n",
       " ('origin_CLT', 0.0014095412249407482),\n",
       " ('origin_JFK', 0.0014019969909806966),\n",
       " ('origin_SJC', 0.001302551531948943),\n",
       " ('origin_PBI', 0.0010380045161210345),\n",
       " ('hour_1', 0.0010362527145949844),\n",
       " ('dest_PBI', 0.0010254467794830412),\n",
       " ('origin_PHL', 0.00100150197194509),\n",
       " ('dest_OAK', 0.0009900564432461965),\n",
       " ('origin_MDW', 0.000980783082514302),\n",
       " ('origin_BOS', 0.0009107026158301438),\n",
       " ('dest_SJU', 0.000908507113380491),\n",
       " ('origin_HPN', 0.0008457865893017048),\n",
       " ('dest_AUS', 0.0008334665104501319),\n",
       " ('origin_ABQ', 0.0008233542935925615),\n",
       " ('dest_SMF', 0.0007522077154998073),\n",
       " ('dest_HPN', 0.0006961046293970144),\n",
       " ('dest_ELP', 0.0006865915248409093),\n",
       " ('origin_ASE', 0.0006861978276012015),\n",
       " ('airline_VX', 0.0006365529044498411),\n",
       " ('dest_MCO', 0.0005907331440708137),\n",
       " ('origin_SAN', 0.0005658465087122591),\n",
       " ('dest_OKC', 0.0005617180732325706),\n",
       " ('dest_ABQ', 0.0005460413684732849),\n",
       " ('dest_ASE', 0.0005366454692514132),\n",
       " ('origin_IAD', 0.0005228464086212184),\n",
       " ('dest_COS', 0.000514776767753936),\n",
       " ('dest_BDL', 0.0005076687007746167),\n",
       " ('dest_TUS', 0.00047555201811873017),\n",
       " ('origin_XNA', 0.00046630787509503675),\n",
       " ('dest_IAH', 0.00045152156548211705),\n",
       " ('dest_RIC', 0.00042814260124696016),\n",
       " ('dest_SAT', 0.0004083709757217353),\n",
       " ('dest_DCA', 0.0003976925067133326),\n",
       " ('dest_JAX', 0.0003894627397933557),\n",
       " ('origin_SGF', 0.00037815148694248597),\n",
       " ('origin_LIT', 0.0003677213568509905),\n",
       " ('dest_RNO', 0.00036567091137648964),\n",
       " ('origin_BTR', 0.00033508625943340733),\n",
       " ('origin_TPA', 0.00033379050003079074),\n",
       " ('dest_TTN', 0.0003204805146275571),\n",
       " ('dest_ALB', 0.00031319634919484477),\n",
       " ('origin_CRW', 0.00031067626451307384),\n",
       " ('origin_SMF', 0.0003100261809618394),\n",
       " ('origin_RNO', 0.0002927305593467467),\n",
       " ('dest_XNA', 0.0002861052337422996),\n",
       " ('origin_EVV', 0.00024863692412086793),\n",
       " ('dest_SYR', 0.00024822104902249724),\n",
       " ('dest_BTV', 0.00023897731221581548),\n",
       " ('dest_ROC', 0.00023525697184189576),\n",
       " ('dest_MHT', 0.00023184183965933744),\n",
       " ('dest_ISP', 0.00023169283949419376),\n",
       " ('dest_ONT', 0.00022996654387644091),\n",
       " ('origin_CID', 0.00022754926021862222),\n",
       " ('dest_STT', 0.00022096370570401396),\n",
       " ('dest_BUF', 0.00021973973266237466),\n",
       " ('dest_LBB', 0.00021848517984901687),\n",
       " ('dest_GNV', 0.00021232946769417425),\n",
       " ('dest_TYS', 0.00020170490051994044),\n",
       " ('origin_TTN', 0.00019708157417033705),\n",
       " ('origin_SAF', 0.00018149318967795216),\n",
       " ('origin_MGM', 0.00018021907902634373),\n",
       " ('origin_SAV', 0.00017683759769568464),\n",
       " ('dest_ACV', 0.00017025200559984415),\n",
       " ('dest_CVG', 0.00016949786233936287),\n",
       " ('dest_LAS', 0.00016848597890830965),\n",
       " ('dest_FAT', 0.00016539893870385928),\n",
       " ('origin_SBP', 0.00016183082159977697),\n",
       " ('dest_MGM', 0.0001592202303173633),\n",
       " ('dest_CHO', 0.00015849418538713367),\n",
       " ('origin_MLU', 0.00015809978952750764),\n",
       " ('hour_3', 0.00015636600349845339),\n",
       " ('dest_BOI', 0.00015532658446653884),\n",
       " ('dest_OTH', 0.00014021313502672475),\n",
       " ('origin_FAT', 0.00013539475479422053),\n",
       " ('dest_AVP', 0.00013433872457785533),\n",
       " ('dest_GUM', 0.00013296042442197605),\n",
       " ('dest_ACY', 0.00012904144684038703),\n",
       " ('origin_PBG', 0.00012636013531688793),\n",
       " ('origin_LGB', 0.00012490784642083812),\n",
       " ('dest_LIT', 0.00012106273513848436),\n",
       " ('origin_AGS', 0.00011772254616277125),\n",
       " ('dest_DFW', 0.00011470362597128948),\n",
       " ('origin_GNV', 0.0001120198450596055),\n",
       " ('dest_FSD', 0.00010852031933580266),\n",
       " ('dest_COU', 0.00010793039877777647),\n",
       " ('dest_MTJ', 0.00010445218710511146),\n",
       " ('dest_CID', 9.57456337037259e-05),\n",
       " ('origin_JNU', 9.419156171270454e-05),\n",
       " ('dest_MCI', 9.037302092054607e-05),\n",
       " ('dest_FSM', 9.001842099031312e-05),\n",
       " ('origin_RIC', 8.88323722767467e-05),\n",
       " ('dest_GUC', 8.840615998098203e-05),\n",
       " ('dest_CRP', 8.814792319467938e-05),\n",
       " ('dest_ABY', 8.595361423136958e-05),\n",
       " ('origin_ACY', 8.583429448916566e-05),\n",
       " ('origin_PIA', 8.543574108105516e-05),\n",
       " ('origin_DHN', 8.52303290791469e-05),\n",
       " ('dest_BQN', 8.475844116117475e-05),\n",
       " ('dest_LNK', 8.469609004263871e-05),\n",
       " ('origin_FSD', 8.391208149558501e-05),\n",
       " ('origin_CHO', 8.384018419340271e-05),\n",
       " ('dest_ELM', 8.319036640538845e-05),\n",
       " ('dest_ACT', 7.844062936555143e-05),\n",
       " ('dest_BPT', 7.747132202709355e-05),\n",
       " ('dest_BFL', 7.48840425663774e-05),\n",
       " ('origin_BTV', 7.161838406024932e-05),\n",
       " ('origin_FAR', 6.986946752283099e-05),\n",
       " ('origin_ACV', 6.916325768190225e-05),\n",
       " ('dest_TLH', 6.85998758342909e-05),\n",
       " ('dest_MEI', 6.791069818374882e-05),\n",
       " ('origin_GRK', 6.730805558520015e-05),\n",
       " ('origin_RST', 6.467959970143849e-05),\n",
       " ('origin_MEI', 6.395349482398007e-05),\n",
       " ('origin_SMX', 6.202242782323566e-05),\n",
       " ('origin_EUG', 6.145283042982005e-05),\n",
       " ('dest_PSG', 6.0981337201833565e-05),\n",
       " ('origin_SPS', 6.077530834679923e-05),\n",
       " ('dest_RAP', 5.97970463976068e-05),\n",
       " ('dest_JAC', 5.7547940977890215e-05),\n",
       " ('origin_DLH', 5.550574571086148e-05),\n",
       " ('dest_PIB', 5.536095050680457e-05),\n",
       " ('dest_SBN', 5.503907870334798e-05),\n",
       " ('dest_CAE', 5.26361334613298e-05),\n",
       " ('dest_CLD', 5.2594787035349684e-05),\n",
       " ('dest_EGE', 5.225964820218342e-05),\n",
       " ('dest_DVL', 5.1522486714786176e-05),\n",
       " ('dest_MYR', 5.13914384073243e-05),\n",
       " ('origin_DRO', 5.0243953355055226e-05),\n",
       " ('dest_BTR', 4.8839566891360756e-05),\n",
       " ('origin_CAE', 4.883927203406966e-05),\n",
       " ('origin_EWN', 4.799767549070628e-05),\n",
       " ('dest_DBQ', 4.713021364485999e-05),\n",
       " ('dest_STC', 4.616074953152166e-05),\n",
       " ('origin_CDC', 4.500246042002789e-05),\n",
       " ('dest_PBG', 4.387184740542711e-05),\n",
       " ('dest_STX', 4.353553017743148e-05),\n",
       " ('dest_PAH', 4.310129051500214e-05),\n",
       " ('dest_UST', 4.166028058836755e-05),\n",
       " ('dest_SIT', 4.1503586939831765e-05),\n",
       " ('dest_MKG', 4.059122737826976e-05),\n",
       " ('origin_JMS', 4.042398207777773e-05),\n",
       " ('origin_ALO', 4.0269221634963905e-05),\n",
       " ('origin_CSG', 3.8348670092942356e-05),\n",
       " ('dest_CRW', 3.832389702322567e-05),\n",
       " ('dest_CSG', 3.764547129495822e-05),\n",
       " ('origin_GFK', 3.5253722477703344e-05),\n",
       " ('dest_GSO', 3.4564091511609254e-05),\n",
       " ('dest_IAG', 3.373937224665667e-05),\n",
       " ('dest_ROW', 3.35910539832017e-05),\n",
       " ('dest_PHF', 3.3485250902851415e-05),\n",
       " ('origin_MFR', 3.224248770842466e-05),\n",
       " ('origin_TYS', 3.0311058717701964e-05),\n",
       " ('origin_IAG', 3.0233399815723687e-05),\n",
       " ('dest_SGF', 2.7965358346947372e-05),\n",
       " ('dest_AEX', 2.7801446539937558e-05),\n",
       " ('dest_SUX', 2.6313425745834766e-05),\n",
       " ('origin_BMI', 2.5492597817048488e-05),\n",
       " ('origin_VLD', 2.5234326767055735e-05),\n",
       " ('dest_LBE', 2.4823106219285964e-05),\n",
       " ('origin_GCK', 2.430521106664574e-05),\n",
       " ('origin_LSE', 2.364108015574081e-05),\n",
       " ('origin_LFT', 2.263969106022474e-05),\n",
       " ('dest_MRY', 2.2559949403222728e-05),\n",
       " ('origin_MRY', 2.192552574387723e-05),\n",
       " ('origin_CVG', 2.085081753928553e-05),\n",
       " ('origin_ERI', 2.0733178471404697e-05),\n",
       " ('origin_FAY', 1.8757270255691243e-05),\n",
       " ('origin_DAY', 1.78036399831537e-05),\n",
       " ('dest_ACK', 1.772074625092319e-05),\n",
       " ('origin_SUX', 1.7307771930096035e-05),\n",
       " ('dest_CWA', 1.5435038544461175e-05),\n",
       " ('origin_ROW', 1.5149602190714722e-05),\n",
       " ('origin_PAH', 1.5130729271517809e-05),\n",
       " ('dest_BGR', 1.4433950575001102e-05),\n",
       " ('dest_ORH', 1.3952131214275571e-05),\n",
       " ('origin_CEC', 1.3546186992669645e-05),\n",
       " ('dest_SUN', 1.3485353037260994e-05),\n",
       " ('dest_CMI', 1.2962387811271463e-05),\n",
       " ('dest_EWN', 1.2666295899108108e-05),\n",
       " ('origin_ILG', 1.166505180074588e-05),\n",
       " ('origin_AVL', 1.1558521426860474e-05),\n",
       " ('dest_CIU', 1.1211555852399761e-05),\n",
       " ('origin_BPT', 1.0592385630879029e-05),\n",
       " ('origin_TOL', 9.437557547728028e-06),\n",
       " ('origin_MLI', 9.327144933666611e-06),\n",
       " ('dest_CHA', 9.096355794291753e-06),\n",
       " ('dest_ITH', 8.661464763120625e-06),\n",
       " ('origin_TLH', 7.996092344320739e-06),\n",
       " ('dest_PUB', 7.350045622093976e-06),\n",
       " ('dest_CMH', 6.9632079678249155e-06),\n",
       " ('origin_GGG', 5.883841412401688e-06),\n",
       " ('origin_CMI', 5.647245600544626e-06),\n",
       " ('dest_VLD', 4.899704861550175e-06),\n",
       " ('dest_AKN', 4.0662124480284455e-06),\n",
       " ('dest_BQK', 3.9338089925074286e-06),\n",
       " ('origin_BRD', 3.906373744232537e-06),\n",
       " ('origin_OTZ', 3.876588206688148e-06),\n",
       " ('origin_MHK', 3.709032092985803e-06),\n",
       " ('dest_RDD', 3.3988638099010975e-06),\n",
       " ('dest_FLG', 2.9109493360927096e-06),\n",
       " ('dest_SWF', 2.7031395346924554e-06),\n",
       " ('origin_ACK', 1.2652589931792205e-06),\n",
       " ('dest_BGM', 7.446398076372709e-08),\n",
       " ('dest_HDN', 2.3309815727915027e-08),\n",
       " ('origin_HYS', 0.0),\n",
       " ('origin_SWF', 0.0),\n",
       " ('origin_BQK', 0.0),\n",
       " ('origin_LBE', 0.0),\n",
       " ('origin_ITO', 0.0),\n",
       " ('origin_FCA', 0.0),\n",
       " ('origin_OTH', 0.0),\n",
       " ('origin_SCE', 0.0),\n",
       " ('origin_YUM', 0.0),\n",
       " ('origin_GUM', 0.0),\n",
       " ('origin_CWA', 0.0),\n",
       " ('origin_EGE', 0.0),\n",
       " ('origin_SJU', 0.0),\n",
       " ('origin_SGU', 0.0),\n",
       " ('origin_STT', 0.0),\n",
       " ('origin_CLD', 0.0),\n",
       " ('origin_MYR', 0.0),\n",
       " ('origin_GTR', 0.0),\n",
       " ('origin_COD', 0.0),\n",
       " ('origin_PSE', 0.0),\n",
       " ('origin_ITH', 0.0),\n",
       " ('origin_PIB', 0.0),\n",
       " ('origin_SUN', 0.0),\n",
       " ('origin_JAC', 0.0),\n",
       " ('origin_ESC', 0.0),\n",
       " ('origin_MQT', 0.0),\n",
       " ('origin_STX', 0.0),\n",
       " ('origin_PPG', 0.0),\n",
       " ('origin_MMH', 0.0),\n",
       " ('origin_WYS', 0.0),\n",
       " ('origin_HDN', 0.0),\n",
       " ('origin_UST', 0.0),\n",
       " ('origin_ATW', 0.0),\n",
       " ('origin_OAJ', 0.0),\n",
       " ('origin_WRG', 0.0),\n",
       " ('origin_PSG', 0.0),\n",
       " ('origin_DLG', 0.0),\n",
       " ('origin_GUC', 0.0),\n",
       " ('origin_GST', 0.0),\n",
       " ('origin_BJI', 0.0),\n",
       " ('origin_BQN', 0.0),\n",
       " ('month_10', 0.0),\n",
       " ('origin_HOB', 0.0),\n",
       " ('origin_CIU', 0.0),\n",
       " ('dest_DLG', -1.219991584503914e-06),\n",
       " ('origin_MLB', -1.405736362201897e-06),\n",
       " ('dest_ALO', -1.849689585566595e-06),\n",
       " ('origin_GPT', -2.2280881863755444e-06),\n",
       " ('dest_HYA', -2.404248542155693e-06),\n",
       " ('origin_STC', -2.420258861057348e-06),\n",
       " ('dest_DSM', -2.441463412497423e-06),\n",
       " ('dest_MVY', -3.477871428081547e-06),\n",
       " ('origin_PNS', -3.482272361894847e-06),\n",
       " ('origin_EAU', -4.703509301740112e-06),\n",
       " ('origin_DVL', -4.9296017666226065e-06),\n",
       " ('dest_CEC', -5.447489520835033e-06),\n",
       " ('origin_AMA', -5.508014178357549e-06),\n",
       " ('origin_GRB', -6.207843620229467e-06),\n",
       " ('origin_LAW', -6.645601782967093e-06),\n",
       " ('origin_LAR', -7.210919604621446e-06),\n",
       " ('dest_ROA', -7.220362154437498e-06),\n",
       " ('dest_ADK', -7.2847925673212186e-06),\n",
       " ('origin_COU', -7.391306682794707e-06),\n",
       " ('origin_SJT', -7.427891075085936e-06),\n",
       " ('origin_GRI', -7.684129630059685e-06),\n",
       " ('dest_ILG', -7.969391932701049e-06),\n",
       " ('dest_AVL', -8.40286127266253e-06),\n",
       " ('origin_ADK', -8.603770436516627e-06),\n",
       " ('origin_ICT', -8.727340979370495e-06),\n",
       " ('dest_SAN', -9.021055183167035e-06),\n",
       " ('origin_IMT', -9.579137250748931e-06),\n",
       " ('dest_MQT', -9.797202103387661e-06),\n",
       " ('origin_RHI', -1.0078123680327768e-05),\n",
       " ('dest_MLI', -1.0094055876627054e-05),\n",
       " ('origin_HYA', -1.0432803430926973e-05),\n",
       " ('origin_AKN', -1.044433306499554e-05),\n",
       " ('origin_MKG', -1.0581848824796076e-05),\n",
       " ('dest_SBA', -1.1008964630924836e-05),\n",
       " ('dest_GST', -1.1126891503964274e-05),\n",
       " ('origin_LRD', -1.140938126699324e-05),\n",
       " ('origin_GSO', -1.1703418923990828e-05),\n",
       " ('dest_SPI', -1.1821757585903266e-05),\n",
       " ('origin_VEL', -1.2685156344807509e-05),\n",
       " ('dest_MMH', -1.2767467581260018e-05),\n",
       " ('dest_AZO', -1.3639914673961854e-05),\n",
       " ('dest_BMI', -1.3839387051350708e-05),\n",
       " ('origin_PUB', -1.3946476420664116e-05),\n",
       " ('dest_FNT', -1.4861658662717994e-05),\n",
       " ('ceiling', -1.5666010265563338e-05),\n",
       " ('dest_MBS', -1.6218814474715756e-05),\n",
       " ('origin_TYR', -1.6939275409606953e-05),\n",
       " ('dest_MOT', -1.7354086124807583e-05),\n",
       " ('origin_RDD', -1.7516656346478896e-05),\n",
       " ('dest_CDV', -1.8829348938372197e-05),\n",
       " ('origin_JLN', -1.8854878294892157e-05),\n",
       " ('origin_TRI', -1.8918644772761875e-05),\n",
       " ('dest_PVD', -1.9510286551351306e-05),\n",
       " ('origin_AVP', -1.966109168795636e-05),\n",
       " ('origin_MVY', -2.0761977675420348e-05),\n",
       " ('origin_ABR', -2.1195704397077884e-05),\n",
       " ('dest_LAW', -2.1402051397455393e-05),\n",
       " ('dest_DHN', -2.1559103405633284e-05),\n",
       " ('dest_HOB', -2.1796872279238876e-05),\n",
       " ('origin_MTJ', -2.266902489450548e-05),\n",
       " ('origin_FLL', -2.424614174007137e-05),\n",
       " ('dest_ADQ', -2.4563278561091476e-05),\n",
       " ('origin_PSP', -2.4742067738757266e-05),\n",
       " ('dest_WYS', -2.4918376795756164e-05),\n",
       " ('dest_SHV', -2.6752743230176084e-05),\n",
       " ('origin_AEX', -2.7012932391807044e-05),\n",
       " ('dest_TYR', -2.74003399826616e-05),\n",
       " ('origin_ROA', -2.925474508053055e-05),\n",
       " ('dest_OME', -2.9623387065008406e-05),\n",
       " ('dest_RHI', -3.020864682184701e-05),\n",
       " ('origin_ORH', -3.0255671842809112e-05),\n",
       " ('vis', -3.0340778654148372e-05),\n",
       " ('origin_OME', -3.0358948947555663e-05),\n",
       " ('dest_VEL', -3.1275737123022954e-05),\n",
       " ('dest_YAK', -3.1831531897030856e-05),\n",
       " ('dest_TRI', -3.27250099418989e-05),\n",
       " ('dest_LSE', -3.338132860730687e-05),\n",
       " ('dest_PPG', -3.376848319762699e-05),\n",
       " ('dest_GFK', -3.3816840314165896e-05),\n",
       " ('dest_WRG', -3.43376343687662e-05),\n",
       " ('origin_BGM', -3.4438130379209136e-05),\n",
       " ('dest_DLH', -3.4441887793536085e-05),\n",
       " ('origin_VPS', -3.459891609811125e-05),\n",
       " ('dest_BET', -3.494315657935216e-05),\n",
       " ('origin_SPI', -3.5636476976643196e-05),\n",
       " ('dest_OAJ', -3.737106207246106e-05),\n",
       " ('dest_JMS', -3.808674835499688e-05),\n",
       " ('origin_ACT', -3.8538695598290085e-05),\n",
       " ('origin_INL', -3.8681708959586795e-05),\n",
       " ('dest_GTF', -3.872459587530014e-05),\n",
       " ('origin_PIH', -3.9373427236453617e-05),\n",
       " ('dest_PNS', -3.948250708674673e-05),\n",
       " ('origin_CDV', -3.9574711898471465e-05),\n",
       " ('dest_LAR', -4.1194953418320095e-05),\n",
       " ('dest_HYS', -4.189986528253411e-05),\n",
       " ('dest_FAI', -4.19578622312449e-05),\n",
       " ('dest_MFR', -4.236808529175654e-05),\n",
       " ('origin_KTN', -4.2874686027792086e-05),\n",
       " ('dest_EAU', -4.3128180123719594e-05),\n",
       " ('dest_JLN', -4.315076109716187e-05),\n",
       " ('dest_ESC', -4.4621084330952146e-05),\n",
       " ('origin_SBN', -4.502924893609475e-05),\n",
       " ('dest_OTZ', -4.5879571722806825e-05),\n",
       " ('dest_DRO', -4.5989281165924584e-05),\n",
       " ('origin_ISP', -4.599426269201021e-05),\n",
       " ('origin_MDT', -4.681949260498008e-05),\n",
       " ('dest_CNY', -4.6850564960706195e-05),\n",
       " ('dest_AMA', -4.855129004187985e-05),\n",
       " ('dest_INL', -4.860607764790472e-05),\n",
       " ('origin_ELP', -4.8882366162032014e-05),\n",
       " ('dest_FAR', -4.913323779535174e-05),\n",
       " ('origin_ISN', -4.9346588652662156e-05),\n",
       " ('origin_YAK', -4.945271599929184e-05),\n",
       " ('origin_SRQ', -4.976008881369499e-05),\n",
       " ('dest_HIB', -5.026616177234854e-05),\n",
       " ('origin_MOT', -5.2858452075753515e-05),\n",
       " ('dest_PSE', -5.3174680207075056e-05),\n",
       " ('origin_LWS', -5.3681442447454925e-05),\n",
       " ('origin_CNY', -5.374735402689349e-05),\n",
       " ('dest_TOL', -5.471917618332513e-05),\n",
       " ('dest_PSC', -5.529711071508545e-05),\n",
       " ('origin_BHM', -5.529763343294775e-05),\n",
       " ('dest_MHK', -5.933689722570965e-05),\n",
       " ('dest_SPS', -5.984892059721194e-05),\n",
       " ('origin_DBQ', -6.115380166810536e-05),\n",
       " ('dest_SJT', -6.15905205816846e-05),\n",
       " ('origin_BIS', -6.180426868331681e-05),\n",
       " ('dest_ICT', -6.200493599309875e-05),\n",
       " ('dest_TUL', -6.201345543976475e-05),\n",
       " ('origin_PHF', -6.228538298443249e-05),\n",
       " ('dest_RDM', -6.310833887160736e-05),\n",
       " ('dest_CDC', -6.424051353907794e-05),\n",
       " ('dest_CLL', -6.515945033302582e-05),\n",
       " ('dest_HRL', -6.534326872966499e-05),\n",
       " ('origin_SDF', -6.566350785331052e-05),\n",
       " ('dest_SCE', -6.569365704998495e-05),\n",
       " ('dest_YUM', -6.573167835264376e-05),\n",
       " ('origin_BET', -6.765284892612984e-05),\n",
       " ('origin_BGR', -6.833877967046146e-05),\n",
       " ('dest_SAF', -6.838870301407338e-05),\n",
       " ('dest_ERI', -6.962029172512854e-05),\n",
       " ('dest_MLU', -6.968943067872226e-05),\n",
       " ('origin_RAP', -7.021089196612339e-05),\n",
       " ('origin_BFL', -7.06921712756695e-05),\n",
       " ('origin_CMX', -7.114263196289017e-05),\n",
       " ('origin_ADQ', -7.115755743406269e-05),\n",
       " ('dest_GGG', -7.23629792539891e-05),\n",
       " ('dest_CMX', -7.375246731345532e-05),\n",
       " ('dest_SMX', -7.485283631988477e-05),\n",
       " ('dest_BRW', -7.58864701405912e-05),\n",
       " ('dest_APN', -7.614312792965323e-05),\n",
       " ('origin_FSM', -7.862998406066117e-05),\n",
       " ('dest_GRI', -8.056544961915709e-05),\n",
       " ('origin_PLN', -8.094106889435231e-05),\n",
       " ('origin_FLG', -8.186083382289549e-05),\n",
       " ('origin_BRW', -8.223040837508694e-05),\n",
       " ('origin_ELM', -8.236757040676847e-05),\n",
       " ('dest_BLI', -8.346731728780129e-05),\n",
       " ('origin_TXK', -8.499959388370251e-05),\n",
       " ('origin_FWA', -8.589286505563754e-05),\n",
       " ('dest_ABR', -8.6683615427379e-05),\n",
       " ('origin_SCC', -8.676745384481388e-05),\n",
       " ('origin_PWM', -8.760977447195874e-05),\n",
       " ('origin_HIB', -8.775844736522434e-05),\n",
       " ('origin_RKS', -8.861748295401288e-05),\n",
       " ('origin_EKO', -8.947420291786536e-05),\n",
       " ('origin_LAN', -9.040916253766014e-05),\n",
       " ('dest_RST', -9.059417849578012e-05),\n",
       " ('origin_AZO', -9.120546734916634e-05),\n",
       " ('dest_MSN', -9.123745811920974e-05),\n",
       " ('origin_BOI', -9.158593721089809e-05),\n",
       " ('origin_RSW', -9.20934537340931e-05),\n",
       " ('dest_EKO', -9.23279667628954e-05),\n",
       " ('origin_RDM', -9.418483172710821e-05),\n",
       " ('dest_SCC', -9.520127842473349e-05),\n",
       " ('origin_ABY', -9.595516544254763e-05),\n",
       " ('origin_DSM', -9.648084818457368e-05),\n",
       " ('dest_GTR', -9.67555418108687e-05),\n",
       " ('dest_TXK', -9.913499183551993e-05),\n",
       " ('dest_ORF', -9.942179042872227e-05),\n",
       " ('dest_RSW', -9.961039515525572e-05),\n",
       " ('origin_MHT', -0.00010170394363022199),\n",
       " ('dest_PLN', -0.00010260259547753083),\n",
       " ('dest_PWM', -0.00010403331175334673),\n",
       " ('dest_VPS', -0.0001061414740269425),\n",
       " ('origin_SHV', -0.00010696814606529866),\n",
       " ('origin_APN', -0.00010733096566529276),\n",
       " ('dest_LFT', -0.00010784993754020318),\n",
       " ('dest_GCK', -0.00010789219663837633),\n",
       " ('origin_LBB', -0.00011202948844256957),\n",
       " ('dest_MFE', -0.00011208855842061635),\n",
       " ('dest_DAB', -0.00011256049746530778),\n",
       " ('origin_HSV', -0.00011374822340268616),\n",
       " ('dest_BTM', -0.00011386205805333074),\n",
       " ('origin_COS', -0.00011397254485548338),\n",
       " ('dest_BJI', -0.0001142081095239824),\n",
       " ('origin_BTM', -0.00011502592323103758),\n",
       " ('dest_FAY', -0.00011710802227297122),\n",
       " ('dest_GCC', -0.00011718072161231865),\n",
       " ('origin_DIK', -0.00012037089199637287),\n",
       " ('dest_ILM', -0.00012140724620055579),\n",
       " ('dest_RDU', -0.00012159061937642708),\n",
       " ('dest_KTN', -0.00012164514912536418),\n",
       " ('dest_COD', -0.00012251829480251672),\n",
       " ('dest_IMT', -0.0001263855155257913),\n",
       " ('dest_PSP', -0.00012649188914442175),\n",
       " ('dest_JAN', -0.00012836948356810012),\n",
       " ('origin_ILM', -0.00012866336868471145),\n",
       " ('origin_MOB', -0.00013058013405319445),\n",
       " ('dest_GEG', -0.0001308100484633759),\n",
       " ('dest_AGS', -0.0001310688434603495),\n",
       " ('dest_RKS', -0.00013204745373246056),\n",
       " ('dest_HNL', -0.0001321918384485561),\n",
       " ('dest_PIA', -0.00013254248913633357),\n",
       " ('dest_LAN', -0.00013381560092353518),\n",
       " ('origin_BUR', -0.00013634042588086246),\n",
       " ('origin_CRP', -0.00013668090575022187),\n",
       " ('dest_LWS', -0.00013926724865878938),\n",
       " ('origin_SIT', -0.00014353641610959306),\n",
       " ('hour_2', -0.0001437710000550851),\n",
       " ('origin_TWF', -0.00014481890395800554),\n",
       " ('dest_DIK', -0.00014530148192880895),\n",
       " ('dest_MLB', -0.00014549697485559084),\n",
       " ('dest_EVV', -0.0001463793120765891),\n",
       " ('origin_ABI', -0.00014861821456029785),\n",
       " ('dest_TWF', -0.0001518134040064916),\n",
       " ('origin_SBA', -0.00015183287840142535),\n",
       " ('origin_CHA', -0.0001519449463801658),\n",
       " ('dest_MSO', -0.0001535025855438957),\n",
       " ('origin_BLI', -0.00015470286012215107),\n",
       " ('dest_GSP', -0.00015788347186234647),\n",
       " ('dest_BIS', -0.0001592454103188628),\n",
       " ('dest_BRD', -0.00016057545461377603),\n",
       " ('dest_CLE', -0.00016172221764892736),\n",
       " ('dest_SAV', -0.00016266054317095794),\n",
       " ('origin_CPR', -0.00016381868343845604),\n",
       " ('origin_BRO', -0.00016516625173224652),\n",
       " ('dest_LCH', -0.00016592642562805404),\n",
       " ('dest_PIH', -0.00016649732855618949),\n",
       " ('origin_JAX', -0.0001664990334029698),\n",
       " ('dest_MDT', -0.00016874636731014584),\n",
       " ('dest_BIL', -0.00016909862366223168),\n",
       " ('origin_FAI', -0.00016970776115112472),\n",
       " ('dest_ISN', -0.000169903525062349),\n",
       " ('dest_GRK', -0.0001699825800765583),\n",
       " ('dest_SBP', -0.00017514372905760574),\n",
       " ('dest_LEX', -0.00017626389536575435),\n",
       " ('dest_HLN', -0.00017700508606756577),\n",
       " ('dest_BRO', -0.00017703564385115352),\n",
       " ('origin_BZN', -0.00017849022262626018),\n",
       " ('dest_LRD', -0.00017964830174196548),\n",
       " ('origin_MBS', -0.00018061687308635693),\n",
       " ('origin_IDA', -0.0001830565417392355),\n",
       " ('origin_LCH', -0.00018573922247811772),\n",
       " ('origin_JAN', -0.00018765652454837784),\n",
       " ('dest_ANC', -0.00018806112984891518),\n",
       " ('dest_EYW', -0.0001880766431682418),\n",
       " ('dest_EUG', -0.00018893725451980245),\n",
       " ('dest_BHM', -0.00018949932969429474),\n",
       " ('dest_GPT', -0.00019082375197777889),\n",
       " ('dest_SGU', -0.00019118928382270468),\n",
       " ('origin_GCC', -0.00019199417039690591),\n",
       " ('dest_GJT', -0.00019571657154335582),\n",
       " ('dest_TVC', -0.00019969726003339646),\n",
       " ('origin_HLN', -0.00020123965127962206),\n",
       " ('dest_FCA', -0.0002032766280646916),\n",
       " ('origin_SYR', -0.00020526574371583953),\n",
       " ('origin_CLL', -0.00021350351322227637),\n",
       " ('origin_TVC', -0.00021356618445401358),\n",
       " ('dest_FWA', -0.00021492671755158688),\n",
       " ('dest_MAF', -0.0002152205491149836),\n",
       " ('origin_LNK', -0.00022167160524836054),\n",
       " ('dest_CPR', -0.00022991832501369),\n",
       " ('origin_MSN', -0.00023279023287752664),\n",
       " ('origin_MSO', -0.00023519780291831734),\n",
       " ('dest_ABI', -0.00023673870331762664),\n",
       " ('origin_FNT', -0.00023771609220538838),\n",
       " ('pressure', -0.00024017065288907597),\n",
       " ('dest_BZN', -0.0002461216455665889),\n",
       " ('dest_GRB', -0.0002472008639614329),\n",
       " ('origin_MEM', -0.0002528437951860667),\n",
       " ('dest_ATW', -0.000253359026532309),\n",
       " ('origin_EYW', -0.00025472707785833355),\n",
       " ('dest_LGB', -0.00026297345463708195),\n",
       " ('origin_GJT', -0.0002777021332147275),\n",
       " ('dest_MEM', -0.0002803124442807266),\n",
       " ('dest_OMA', -0.00028083073768603105),\n",
       " ('dest_GRR', -0.0002808525561944462),\n",
       " ('dest_DAY', -0.00028241114194112296),\n",
       " ('origin_TUS', -0.00028523893919093384),\n",
       " ('dest_CHS', -0.0002868703180144095),\n",
       " ('dest_MOB', -0.00029403198643101623),\n",
       " ('origin_DAB', -0.0002959662528437373),\n",
       " ('dest_SRQ', -0.00029607796920365164),\n",
       " ('dest_CAK', -0.00029972026831673993),\n",
       " ('dest_SJC', -0.0003021297433011155),\n",
       " ('dest_SDF', -0.0003023796553207407),\n",
       " ('origin_PSC', -0.00031020071393951743),\n",
       " ('dest_ECP', -0.0003118111672909867),\n",
       " ('dest_MKE', -0.000314533659404889),\n",
       " ('dest_BUR', -0.0003173205199684411),\n",
       " ('origin_MFE', -0.00032488301020189146),\n",
       " ('origin_RDU', -0.00032547992300550204),\n",
       " ('origin_ECP', -0.0003262682217274762),\n",
       " ('origin_GTF', -0.00032710222313582857),\n",
       " ('dest_IDA', -0.0003291352369538338),\n",
       " ('origin_ORF', -0.0003293672821461205),\n",
       " ('origin_CHS', -0.00033210745578196723),\n",
       " ('dest_HSV', -0.0003359667731889737),\n",
       " ('origin_TUL', -0.00034877240771831464),\n",
       " ('origin_GSP', -0.00035473410561580326),\n",
       " ('origin_BIL', -0.00035619009274286855),\n",
       " ('dest_JNU', -0.00037150214526781786),\n",
       " ('origin_CMH', -0.00038735997985486125),\n",
       " ('origin_ROC', -0.00040426965162256034),\n",
       " ('origin_HRL', -0.00041750815469758485),\n",
       " ('dest_TPA', -0.00043157864238884747),\n",
       " ('month_3', -0.00043559059647220916),\n",
       " ('origin_ALB', -0.00043982523703901106),\n",
       " ('origin_LEX', -0.0004499361842681596),\n",
       " ('origin_OKC', -0.00046118396333809267),\n",
       " ('origin_MAF', -0.0004756224322291805),\n",
       " ('origin_CAK', -0.0005131311531238634),\n",
       " ('dest_IND', -0.0005186648440903645),\n",
       " ('dest_STL', -0.0005300905840453099),\n",
       " ('origin_STL', -0.000541273691553595),\n",
       " ('origin_ONT', -0.0005445906241920086),\n",
       " ('origin_PVD', -0.000592587789428116),\n",
       " ('origin_OMA', -0.0006020787843370539),\n",
       " ('origin_GRR', -0.0006105323616226086),\n",
       " ('origin_BNA', -0.0006213599873243421),\n",
       " ('origin_GEG', -0.0006273540898871082),\n",
       " ('origin_BUF', -0.0007118637451785421),\n",
       " ('dest_IAD', -0.0007174638016236071),\n",
       " ('dest_BWI', -0.0007743525599361939),\n",
       " ('origin_AUS', -0.0007861565195734645),\n",
       " ('dest_PIT', -0.000801403452473535),\n",
       " ('dest_DAL', -0.0008293684552705484),\n",
       " ('dest_ITO', -0.0008816928302790748),\n",
       " ('dest_MSY', -0.0009063809070964603),\n",
       " ('origin_ANC', -0.0009283792479314164),\n",
       " ('dest_HOU', -0.0009395896567157841),\n",
       " ('origin_BDL', -0.000951393005558831),\n",
       " ('origin_IND', -0.0009568556518061609),\n",
       " ('dest_KOA', -0.0010348401356670258),\n",
       " ('origin_MKE', -0.0010672200580345735),\n",
       " ('dest_BNA', -0.0010930494576947892),\n",
       " ('origin_SNA', -0.0011409775750284297),\n",
       " ('origin_KOA', -0.0011434357263150402),\n",
       " ('dest_LIH', -0.0011509488652571224),\n",
       " ('origin_MSY', -0.0011562044226484216),\n",
       " ('dest_OGG', -0.0012172736456658156),\n",
       " ('origin_MCI', -0.0012281317300955204),\n",
       " ('dest_PDX', -0.0012573712279720772),\n",
       " ('origin_CLE', -0.0012937099004274536),\n",
       " ('hour_5', -0.0013061434952044977),\n",
       " ('origin_LIH', -0.0013356292458271966),\n",
       " ('dest_MDW', -0.0014608905170506998),\n",
       " ('origin_DCA', -0.0014959796014450888),\n",
       " ('origin_OGG', -0.0016723146853921355),\n",
       " ('origin_SAT', -0.00170624636342728),\n",
       " ('origin_PIT', -0.0017502018326221464),\n",
       " ('dew', -0.0017999569341804196),\n",
       " ('dest_SNA', -0.002004008632042509),\n",
       " ('airline_US', -0.002141419125135684),\n",
       " ('dest_MSP', -0.0023762384712591542),\n",
       " ('origin_SEA', -0.0023991246717294137),\n",
       " ('origin_PDX', -0.002445174352972165),\n",
       " ('hour_15', -0.0025623366304713454),\n",
       " ('dest_DTW', -0.002979422556448719),\n",
       " ('dest_SEA', -0.003367854410408746),\n",
       " ('origin_DTW', -0.0034354596482485135),\n",
       " ('dest_PHX', -0.0034616582163265065),\n",
       " ('airline_AA', -0.0035663438116748255),\n",
       " ('dow_Wed', -0.004015602774422267),\n",
       " ('dest_CLT', -0.00441765675120888),\n",
       " ('hour_14', -0.004655541214002696),\n",
       " ('origin_HNL', -0.004739358072149373),\n",
       " ('airline_HA', -0.005905510292394354),\n",
       " ('dist_(0, 350]', -0.006046300610837292),\n",
       " ('origin_MSP', -0.00655986346243197),\n",
       " ('hour_6', -0.0072127727661805184),\n",
       " ('hour_13', -0.007291387285912051),\n",
       " ('origin_SLC', -0.007355306520817275),\n",
       " ('dest_SLC', -0.007490048684343584),\n",
       " ('dow_Sun', -0.007698637568882745),\n",
       " ('airline_AS', -0.011661341819586907),\n",
       " ('hour_7', -0.014531644441476787),\n",
       " ('hour_12', -0.015576303679198801),\n",
       " ('dist_(350, 700]', -0.015686435028924462),\n",
       " ('dest_ATL', -0.01598879575929516),\n",
       " ('month_4', -0.017605866581993368),\n",
       " ('hour_11', -0.019704586859181427),\n",
       " ('origin_ATL', -0.01998874881904465),\n",
       " ('dow_Sat', -0.022003625027854707),\n",
       " ('hour_8', -0.0229258221072951),\n",
       " ('month_11', -0.02352486187851896),\n",
       " ('hour_10', -0.02381651107302388),\n",
       " ('hour_9', -0.02923619174795919),\n",
       " ('month_9', -0.034987026133984404),\n",
       " ('airline_DL', -0.05773412687330574)]"
      ]
     },
     "execution_count": 45,
     "metadata": {},
     "output_type": "execute_result"
    }
   ],
   "source": [
    "coefs = lm.coef_.tolist()[0]\n",
    "xvars = list(X)\n",
    "cc = list(set(zip(xvars, coefs)))\n",
    "from operator import itemgetter\n",
    "cc.sort(key=itemgetter(1), reverse=True)\n",
    "cc"
   ]
  },
  {
   "cell_type": "markdown",
   "metadata": {},
   "source": [
    "### <a id=\"3C\"></a>3C. Random forest classifier"
   ]
  },
  {
   "cell_type": "code",
   "execution_count": 18,
   "metadata": {
    "ExecuteTime": {
     "end_time": "2019-02-12T19:36:33.620234Z",
     "start_time": "2019-02-12T19:29:57.260807Z"
    }
   },
   "outputs": [
    {
     "data": {
      "text/plain": [
       "0.8112222757955642"
      ]
     },
     "execution_count": 18,
     "metadata": {},
     "output_type": "execute_result"
    }
   ],
   "source": [
    "# Create, fit and score an RF model.\n",
    "rf = RandomForestClassifier(n_estimators=1000, max_depth=5, class_weight={0:1, 1:2}, n_jobs = -1)\n",
    "rf.fit(X_train, y_train)\n",
    "rf.score(X_train, y_train)"
   ]
  },
  {
   "cell_type": "code",
   "execution_count": 479,
   "metadata": {
    "ExecuteTime": {
     "end_time": "2019-02-12T00:17:31.669848Z",
     "start_time": "2019-02-12T00:17:31.346405Z"
    }
   },
   "outputs": [
    {
     "data": {
      "text/plain": [
       "array([7.10253509e-03, 8.11865057e-03, 3.62841198e-03, 4.30612143e-03,\n",
       "       6.89272328e-03, 2.75840118e-03, 3.36269936e-03, 1.00611224e-02,\n",
       "       7.27993034e-03, 6.25270684e-03, 1.32802249e-03, 4.32943839e-03,\n",
       "       1.90700386e-03, 1.07155561e-02, 1.04760162e-02, 1.09849114e-02,\n",
       "       1.06730375e-02, 1.12986288e-02, 8.38191193e-03, 7.55108692e-04,\n",
       "       2.55252251e-04, 4.13265047e-05, 1.07674483e-03, 1.78408419e-03,\n",
       "       2.48484758e-03, 4.28845626e-03, 4.73850993e-03, 4.43389657e-03,\n",
       "       4.59728039e-03, 4.51174959e-03, 4.67468990e-03, 5.47254828e-03,\n",
       "       5.66884386e-03, 6.35701445e-03, 5.84645253e-03, 5.93396157e-03,\n",
       "       5.66900357e-03, 5.63005285e-03, 5.87526380e-03, 5.32487872e-03,\n",
       "       5.10879857e-03, 6.24633349e-03, 5.76516001e-03, 7.21483980e-03,\n",
       "       7.26876023e-03, 6.71396386e-03, 6.87928492e-03, 7.29713762e-03,\n",
       "       5.93244008e-03, 0.00000000e+00, 5.97350984e-03, 6.77160307e-03,\n",
       "       1.09265746e-02, 1.23256713e-02, 1.18171973e-02, 9.00379270e-03,\n",
       "       1.41160418e-04, 7.03736435e-04, 9.61119466e-06, 6.46506817e-05,\n",
       "       4.57966465e-05, 3.57520024e-05, 7.61642823e-05, 2.02085850e-04,\n",
       "       0.00000000e+00, 4.05348969e-05, 1.26009972e-04, 4.20439202e-05,\n",
       "       0.00000000e+00, 2.34055583e-04, 7.15582870e-05, 2.99824439e-04,\n",
       "       4.85560651e-04, 3.12651377e-05, 2.02628419e-04, 4.75855828e-03,\n",
       "       0.00000000e+00, 1.31783694e-03, 2.46159715e-04, 1.06965488e-04,\n",
       "       5.35496878e-05, 7.41939142e-04, 4.39963798e-05, 1.26195289e-04,\n",
       "       7.64829362e-07, 4.67708273e-06, 5.95259049e-04, 1.20733487e-04,\n",
       "       2.10347441e-04, 0.00000000e+00, 7.26068455e-06, 1.33619275e-04,\n",
       "       1.59104382e-03, 5.77567251e-04, 3.01840378e-03, 1.36217712e-04,\n",
       "       0.00000000e+00, 0.00000000e+00, 6.77424129e-05, 8.56315152e-05,\n",
       "       3.55504069e-05, 3.92741706e-06, 5.61160835e-04, 1.71408840e-04,\n",
       "       6.49456696e-04, 6.57494769e-04, 2.71605456e-03, 6.63260379e-05,\n",
       "       2.29919725e-04, 2.18658597e-04, 9.26030348e-07, 6.00290879e-06,\n",
       "       2.17490719e-06, 3.23789133e-04, 1.09573745e-04, 4.71599473e-04,\n",
       "       4.17614892e-04, 0.00000000e+00, 0.00000000e+00, 1.27079639e-03,\n",
       "       7.50035813e-05, 2.52455966e-03, 1.04856334e-03, 5.24332204e-05,\n",
       "       6.61701449e-06, 1.05927458e-06, 0.00000000e+00, 4.53855734e-04,\n",
       "       6.82662379e-05, 2.01538255e-05, 2.33713541e-04, 1.61971453e-04,\n",
       "       4.77835973e-05, 1.07651222e-03, 0.00000000e+00, 9.56926582e-05,\n",
       "       2.19837774e-03, 4.16641849e-04, 4.83706191e-05, 2.47788539e-03,\n",
       "       4.02034716e-03, 4.43786923e-03, 5.35856810e-05, 3.04340579e-05,\n",
       "       0.00000000e+00, 8.25162825e-05, 3.82087851e-05, 3.12637775e-04,\n",
       "       2.59278707e-03, 4.69230128e-06, 6.11892617e-06, 1.48602560e-04,\n",
       "       0.00000000e+00, 3.37751513e-06, 2.10583409e-04, 5.89523118e-04,\n",
       "       7.14117986e-06, 0.00000000e+00, 1.51851060e-04, 2.59159618e-04,\n",
       "       3.92766641e-05, 2.89854857e-03, 6.23087711e-05, 4.56184631e-05,\n",
       "       2.39570528e-04, 2.77486582e-04, 2.48941199e-04, 0.00000000e+00,\n",
       "       1.28958528e-04, 2.14117517e-03, 2.16076807e-04, 3.64976739e-04,\n",
       "       7.32079758e-05, 2.91165021e-04, 1.15224113e-04, 4.97823393e-05,\n",
       "       3.11163596e-04, 1.11340708e-04, 1.33371076e-04, 1.89498933e-04,\n",
       "       2.60643733e-04, 1.03898491e-04, 1.70841763e-04, 7.00702684e-06,\n",
       "       1.20423077e-04, 2.71433171e-04, 4.04316878e-04, 3.10843808e-04,\n",
       "       0.00000000e+00, 6.47158871e-05, 0.00000000e+00, 0.00000000e+00,\n",
       "       0.00000000e+00, 0.00000000e+00, 3.49714741e-05, 6.13266724e-05,\n",
       "       1.16133078e-03, 0.00000000e+00, 1.67151167e-03, 5.14401327e-04,\n",
       "       6.78956950e-05, 2.13872321e-04, 0.00000000e+00, 0.00000000e+00,\n",
       "       1.52791827e-03, 3.09996196e-05, 3.37911134e-03, 3.84032503e-04,\n",
       "       1.59679375e-05, 0.00000000e+00, 4.74367958e-05, 1.99516755e-06,\n",
       "       7.91828549e-04, 8.01219783e-05, 8.41540720e-05, 2.37461715e-04,\n",
       "       0.00000000e+00, 0.00000000e+00, 0.00000000e+00, 3.98035102e-04,\n",
       "       6.25623727e-04, 2.61776483e-03, 1.17576502e-05, 7.82499315e-05,\n",
       "       1.84066636e-04, 3.54297485e-04, 9.01455003e-05, 1.01107722e-04,\n",
       "       3.45318006e-05, 3.23256662e-03, 4.62021012e-05, 4.39976677e-03,\n",
       "       1.91598492e-04, 0.00000000e+00, 3.09816149e-05, 2.48204864e-04,\n",
       "       2.67737787e-04, 2.90940085e-03, 3.20003896e-04, 2.66422093e-04,\n",
       "       5.93482445e-04, 9.98613070e-05, 8.75328215e-05, 3.61189964e-05,\n",
       "       3.07095724e-06, 3.33126044e-04, 1.72187268e-04, 1.25479621e-03,\n",
       "       2.90139384e-03, 8.31845882e-05, 2.44877965e-03, 3.13406302e-05,\n",
       "       8.15781725e-04, 6.06609079e-05, 8.40385183e-05, 1.62056478e-04,\n",
       "       4.28257070e-05, 2.89760611e-04, 1.84611640e-03, 1.06953949e-03,\n",
       "       3.48083352e-06, 3.67779237e-05, 1.99542122e-04, 1.08507735e-04,\n",
       "       0.00000000e+00, 1.95177603e-04, 1.22242539e-04, 0.00000000e+00,\n",
       "       2.34978393e-04, 4.14376158e-04, 4.80553275e-05, 2.59566547e-03,\n",
       "       1.62744797e-03, 5.37701063e-05, 6.93348940e-05, 0.00000000e+00,\n",
       "       0.00000000e+00, 1.93635657e-03, 6.48481183e-04, 8.08070350e-04,\n",
       "       7.24956094e-04, 1.58710868e-06, 8.77836981e-04, 5.18620942e-03,\n",
       "       5.37654592e-04, 3.71600018e-05, 0.00000000e+00, 1.38715519e-06,\n",
       "       3.59552359e-05, 5.54894401e-06, 9.75606217e-04, 1.32702631e-03,\n",
       "       1.46626776e-04, 2.46420810e-03, 3.37304573e-03, 2.23148007e-04,\n",
       "       0.00000000e+00, 4.49935653e-05, 9.26635982e-04, 9.38269300e-05,\n",
       "       3.13865454e-04, 0.00000000e+00, 1.25539217e-04, 0.00000000e+00,\n",
       "       0.00000000e+00, 3.82279529e-04, 5.06455021e-06, 5.27989873e-04,\n",
       "       2.39172174e-04, 9.06912305e-05, 3.84968196e-05, 1.18477302e-04,\n",
       "       1.27439428e-03, 1.11513502e-04, 6.45519085e-04, 7.36656925e-06,\n",
       "       6.58999836e-04, 2.13425221e-04, 2.39103026e-04, 7.23131833e-06,\n",
       "       7.58496877e-05, 1.25910171e-03, 1.17300725e-04, 2.04921403e-03,\n",
       "       1.03638347e-03, 4.48210985e-04, 4.38237898e-04, 2.06828952e-04,\n",
       "       2.32778062e-04, 5.99196552e-05, 0.00000000e+00, 4.61331444e-04,\n",
       "       2.47642144e-03, 3.58609850e-03, 3.61435684e-04, 0.00000000e+00,\n",
       "       3.89940689e-04, 9.80578280e-05, 1.78279602e-03, 8.17921806e-05,\n",
       "       0.00000000e+00, 2.08168763e-03, 1.45878785e-03, 7.17573263e-05,\n",
       "       1.23557637e-03, 5.74687631e-05, 5.90688755e-05, 1.31880005e-04,\n",
       "       1.24378130e-06, 1.51376348e-03, 0.00000000e+00, 0.00000000e+00,\n",
       "       0.00000000e+00, 6.04170267e-06, 0.00000000e+00, 1.02255587e-04,\n",
       "       1.05569667e-04, 1.09541491e-05, 1.88028759e-03, 6.40324886e-05,\n",
       "       8.22316844e-05, 6.97450120e-04, 4.71728503e-04, 1.14053343e-04,\n",
       "       5.82846803e-05, 2.38730747e-05, 1.66499233e-04, 4.07822895e-04,\n",
       "       0.00000000e+00, 5.06408289e-07, 3.03219781e-05, 3.44966183e-04,\n",
       "       0.00000000e+00, 0.00000000e+00, 3.44380846e-04, 1.95768834e-05,\n",
       "       0.00000000e+00, 1.47244819e-04, 1.14864110e-03, 1.47980718e-05,\n",
       "       7.76198796e-05, 5.60207010e-05, 1.22022232e-04, 9.66492902e-05,\n",
       "       1.69715266e-04, 0.00000000e+00, 1.98450199e-05, 1.47933056e-04,\n",
       "       1.19871314e-04, 2.74430180e-05, 3.95563634e-04, 6.68333143e-06,\n",
       "       2.64903772e-04, 6.99280051e-04, 2.55714113e-05, 1.71803292e-04,\n",
       "       4.71925471e-03, 1.29698552e-04, 1.75852987e-03, 1.20497232e-04,\n",
       "       1.20300739e-04, 1.88658427e-04, 1.02834993e-03, 1.02478139e-04,\n",
       "       2.04680573e-04, 4.08743725e-05, 3.47158118e-06, 8.84769902e-04,\n",
       "       2.08739471e-04, 2.36570518e-04, 2.97243216e-05, 7.81308541e-06,\n",
       "       2.82397291e-04, 1.75242274e-03, 6.91881275e-04, 3.41121682e-03,\n",
       "       6.18054319e-05, 1.17323997e-04, 1.16547492e-04, 1.53016669e-05,\n",
       "       1.42831917e-04, 1.10786090e-04, 9.69009081e-05, 3.37343076e-04,\n",
       "       1.55156738e-04, 8.53602575e-04, 7.50408842e-04, 2.82837421e-03,\n",
       "       1.19285030e-04, 2.66846007e-04, 2.69717570e-04, 3.23626901e-05,\n",
       "       1.96441272e-05, 1.40689586e-06, 2.32091415e-04, 1.18282858e-04,\n",
       "       5.39710359e-04, 4.48890842e-04, 1.08359143e-05, 3.37694508e-05,\n",
       "       1.62046480e-03, 9.01780185e-05, 2.73904566e-03, 9.48309715e-04,\n",
       "       2.09022023e-04, 2.53849563e-05, 2.72385567e-06, 6.85590483e-05,\n",
       "       4.43595506e-04, 1.03874451e-04, 4.25168541e-05, 3.05038186e-04,\n",
       "       9.98499921e-05, 5.91874103e-05, 9.05192177e-04, 3.63169482e-05,\n",
       "       5.89947027e-05, 2.03061861e-03, 4.89103723e-04, 3.53137624e-05,\n",
       "       2.40647407e-03, 4.88176600e-03, 4.67143424e-03, 6.89576320e-05,\n",
       "       5.21058502e-05, 2.65092698e-06, 1.17658059e-04, 7.53526779e-05,\n",
       "       4.69778540e-04, 2.62433896e-03, 2.97017715e-05, 9.96212738e-05,\n",
       "       2.49396093e-04, 1.31047122e-05, 3.85019759e-06, 1.76786314e-04,\n",
       "       7.83801264e-04, 3.55511265e-05, 4.81997359e-06, 2.23624376e-04,\n",
       "       2.03516534e-04, 6.42820748e-05, 3.22026832e-03, 6.82512566e-05,\n",
       "       8.47512192e-05, 3.15801954e-04, 6.26712208e-04, 3.34383843e-05,\n",
       "       1.35612266e-04, 7.20594625e-05, 2.51755963e-03, 3.20970788e-04,\n",
       "       3.71749743e-04, 7.59979099e-05, 2.70442100e-04, 7.80399414e-05,\n",
       "       7.58388518e-05, 5.05502568e-04, 2.89865783e-05, 8.73262362e-05,\n",
       "       2.04593214e-04, 1.53055792e-04, 2.07970093e-04, 2.79466605e-04,\n",
       "       2.06260068e-05, 1.97328835e-04, 5.32265122e-04, 3.21414223e-04,\n",
       "       3.87487164e-04, 1.68168977e-05, 1.20872470e-04, 5.39975540e-05,\n",
       "       2.77016278e-05, 5.93753962e-05, 5.15843660e-05, 1.88348868e-05,\n",
       "       1.97665215e-05, 1.61199125e-03, 1.75399641e-05, 1.87337363e-03,\n",
       "       4.14822186e-04, 2.42993651e-04, 2.17761632e-04, 1.41141590e-06,\n",
       "       2.17902560e-06, 1.62456284e-03, 2.07066128e-05, 3.73624582e-03,\n",
       "       6.48753523e-04, 6.34372385e-05, 0.00000000e+00, 9.44147469e-05,\n",
       "       4.27579983e-05, 1.23497240e-03, 4.91189048e-06, 1.27784600e-04,\n",
       "       2.86681251e-04, 0.00000000e+00, 1.45198457e-04, 2.59761675e-04,\n",
       "       3.90382853e-04, 8.27560387e-04, 2.96321238e-03, 4.14039056e-06,\n",
       "       7.55745255e-05, 1.58771768e-04, 4.05766355e-04, 7.05200263e-05,\n",
       "       1.36180859e-04, 1.46483162e-05, 3.83629025e-03, 1.48160133e-04,\n",
       "       5.15875761e-03, 3.65370394e-04, 1.04655272e-04, 6.78083890e-05,\n",
       "       1.58667845e-04, 1.85491481e-04, 3.55066457e-03, 3.24016212e-04,\n",
       "       4.60220372e-04, 3.53140378e-04, 1.23104378e-04, 1.23809237e-04,\n",
       "       4.43097240e-05, 1.88169778e-05, 5.34085058e-04, 1.14118419e-04,\n",
       "       1.58232648e-03, 3.44986928e-03, 1.84589825e-04, 2.54371244e-03,\n",
       "       9.37004575e-06, 6.57417910e-04, 1.38955753e-04, 9.49798703e-05,\n",
       "       2.59809817e-04, 1.56781762e-05, 3.57018796e-04, 2.58038653e-03,\n",
       "       1.41559470e-03, 3.62210887e-05, 3.95206425e-05, 1.91655518e-04,\n",
       "       1.87820309e-04, 2.45093354e-06, 3.05268913e-04, 1.10787110e-04,\n",
       "       0.00000000e+00, 1.92996730e-04, 4.15083199e-04, 9.81880221e-05,\n",
       "       2.90422919e-03, 1.66877592e-03, 1.28575316e-04, 3.31690378e-05,\n",
       "       2.28411244e-04, 1.51720874e-04, 1.47505982e-03, 8.26178645e-04,\n",
       "       9.04648601e-04, 1.10267285e-03, 1.50389354e-06, 9.88803476e-04,\n",
       "       5.85109105e-03, 4.30835035e-04, 7.27008716e-06, 2.34628475e-06,\n",
       "       7.63548590e-06, 9.79648157e-06, 1.09510897e-05, 1.17294810e-03,\n",
       "       1.87023672e-03, 2.35027687e-05, 2.11644935e-03, 3.52903601e-03,\n",
       "       2.75964426e-04, 3.31176391e-05, 5.35824844e-06, 1.05769054e-03,\n",
       "       1.47446743e-05, 2.90052596e-04, 2.26804818e-06, 8.99132412e-05,\n",
       "       2.51350155e-05, 2.49726783e-05, 4.63791509e-04, 1.81581779e-06,\n",
       "       5.84991994e-04, 2.89312803e-04, 2.12293887e-04, 5.09562301e-05,\n",
       "       6.80202871e-05, 1.28595998e-03, 1.68760489e-05, 9.89947399e-04,\n",
       "       3.31526745e-05, 5.31858834e-04, 4.99704551e-05, 3.19483148e-04,\n",
       "       1.31132301e-05, 2.37378455e-04, 9.02866640e-04, 8.71572389e-05,\n",
       "       2.70238272e-03, 1.40107505e-03, 4.70295158e-04, 3.63075108e-04,\n",
       "       2.12804415e-04, 8.85556643e-05, 5.20675535e-05, 2.62794367e-05,\n",
       "       6.47019116e-04, 3.38935656e-03, 4.38771257e-03, 3.18137922e-04,\n",
       "       8.70360866e-05, 3.59616134e-04, 3.29702181e-05, 1.63513371e-03,\n",
       "       3.93654750e-05, 1.11240126e-03, 2.07442254e-03, 1.66824579e-03,\n",
       "       4.01231641e-05, 1.52931417e-03, 4.31080270e-05, 6.25951519e-05,\n",
       "       2.14842523e-04, 0.00000000e+00, 1.82648310e-03, 1.74279491e-04,\n",
       "       4.94323625e-06, 9.50876147e-05, 6.36871588e-05, 1.20319233e-05,\n",
       "       3.09006501e-04, 2.56695576e-04, 9.65996968e-05, 2.52886154e-03,\n",
       "       1.05249363e-04, 2.16826577e-04, 7.08317646e-04, 8.04471497e-04,\n",
       "       1.70010244e-04, 7.39025673e-06, 7.79469426e-05, 1.04301558e-04,\n",
       "       4.18216482e-04, 2.20721370e-06, 3.94656361e-07, 5.78620451e-05,\n",
       "       3.12532646e-04, 2.67838010e-05, 3.13509490e-05, 5.49349462e-04,\n",
       "       3.12358298e-05, 1.03832675e-04, 5.58020870e-02, 4.57181989e-02,\n",
       "       1.71619510e-02, 7.22405412e-02, 7.38370768e-02, 6.93545864e-02])"
      ]
     },
     "execution_count": 479,
     "metadata": {},
     "output_type": "execute_result"
    }
   ],
   "source": [
    "# Look at feature importances.\n",
    "rf.feature_importances_"
   ]
  },
  {
   "cell_type": "markdown",
   "metadata": {},
   "source": [
    "#### RF metrics"
   ]
  },
  {
   "cell_type": "code",
   "execution_count": 19,
   "metadata": {
    "ExecuteTime": {
     "end_time": "2019-02-12T19:36:54.989699Z",
     "start_time": "2019-02-12T19:36:50.060632Z"
    }
   },
   "outputs": [
    {
     "data": {
      "text/plain": [
       "0.8133833861413418"
      ]
     },
     "execution_count": 19,
     "metadata": {},
     "output_type": "execute_result"
    }
   ],
   "source": [
    "rf.score(X_test, y_test)"
   ]
  },
  {
   "cell_type": "code",
   "execution_count": 20,
   "metadata": {
    "ExecuteTime": {
     "end_time": "2019-02-12T19:37:26.983759Z",
     "start_time": "2019-02-12T19:37:07.350651Z"
    }
   },
   "outputs": [],
   "source": [
    "y_predict_train = rf.predict(X_train)"
   ]
  },
  {
   "cell_type": "code",
   "execution_count": 21,
   "metadata": {
    "ExecuteTime": {
     "end_time": "2019-02-12T19:37:38.002608Z",
     "start_time": "2019-02-12T19:37:37.877903Z"
    }
   },
   "outputs": [
    {
     "name": "stderr",
     "output_type": "stream",
     "text": [
      "/anaconda3/lib/python3.7/site-packages/sklearn/metrics/classification.py:1143: UndefinedMetricWarning: F-score is ill-defined and being set to 0.0 due to no predicted samples.\n",
      "  'precision', 'predicted', average, warn_for)\n"
     ]
    },
    {
     "data": {
      "text/plain": [
       "0.0"
      ]
     },
     "execution_count": 21,
     "metadata": {},
     "output_type": "execute_result"
    }
   ],
   "source": [
    "f1_score(y_train, y_predict_train)"
   ]
  },
  {
   "cell_type": "code",
   "execution_count": 22,
   "metadata": {
    "ExecuteTime": {
     "end_time": "2019-02-12T19:37:49.371672Z",
     "start_time": "2019-02-12T19:37:44.751413Z"
    }
   },
   "outputs": [],
   "source": [
    "y_predict_test = rf.predict(X_test)"
   ]
  },
  {
   "cell_type": "code",
   "execution_count": 23,
   "metadata": {
    "ExecuteTime": {
     "end_time": "2019-02-12T19:37:50.842891Z",
     "start_time": "2019-02-12T19:37:50.809776Z"
    }
   },
   "outputs": [
    {
     "name": "stderr",
     "output_type": "stream",
     "text": [
      "/anaconda3/lib/python3.7/site-packages/sklearn/metrics/classification.py:1143: UndefinedMetricWarning: F-score is ill-defined and being set to 0.0 due to no predicted samples.\n",
      "  'precision', 'predicted', average, warn_for)\n"
     ]
    },
    {
     "data": {
      "text/plain": [
       "0.0"
      ]
     },
     "execution_count": 23,
     "metadata": {},
     "output_type": "execute_result"
    }
   ],
   "source": [
    "f1_score(y_test, y_predict_test)"
   ]
  },
  {
   "cell_type": "code",
   "execution_count": 24,
   "metadata": {
    "ExecuteTime": {
     "end_time": "2019-02-12T19:37:59.881929Z",
     "start_time": "2019-02-12T19:37:59.840641Z"
    }
   },
   "outputs": [
    {
     "data": {
      "text/plain": [
       "0.45197288761842935"
      ]
     },
     "execution_count": 24,
     "metadata": {},
     "output_type": "execute_result"
    }
   ],
   "source": [
    "f1_score(y_test, y_predict, pos_label = 0)"
   ]
  }
 ],
 "metadata": {
  "kernelspec": {
   "display_name": "Python 3",
   "language": "python",
   "name": "python3"
  },
  "language_info": {
   "codemirror_mode": {
    "name": "ipython",
    "version": 3
   },
   "file_extension": ".py",
   "mimetype": "text/x-python",
   "name": "python",
   "nbconvert_exporter": "python",
   "pygments_lexer": "ipython3",
   "version": "3.7.6"
  }
 },
 "nbformat": 4,
 "nbformat_minor": 2
}
